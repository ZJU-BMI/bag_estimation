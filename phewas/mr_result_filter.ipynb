{
 "cells": [
  {
   "cell_type": "code",
   "execution_count": 11,
   "metadata": {
    "collapsed": true,
    "ExecuteTime": {
     "end_time": "2024-01-05T09:18:20.930326600Z",
     "start_time": "2024-01-05T09:18:20.903970500Z"
    }
   },
   "outputs": [],
   "source": [
    "import pandas as pd\n",
    "import numpy as np\n",
    "from statsmodels.stats.multitest import fdrcorrection"
   ]
  },
  {
   "cell_type": "code",
   "execution_count": 12,
   "outputs": [
    {
     "name": "stdout",
     "output_type": "stream",
     "text": [
      "44\n",
      "55\n",
      "10\n"
     ]
    }
   ],
   "source": [
    "pheno = 'bag'\n",
    "df_blood = pd.read_csv(f'results_{pheno}/phwas_res_blood.csv')\n",
    "df_brain = pd.read_csv(f'results_{pheno}/phwas_res_brain.csv')\n",
    "\n",
    "df_plei_blood = pd.read_csv(f'results_{pheno}/pleiotropy_res_blood.csv')\n",
    "df_plei_brain = pd.read_csv(f'results_{pheno}/pleiotropy_res_brain.csv')\n",
    "\n",
    "N = len(pd.unique(df_blood['id.outcome']))\n",
    "print(N)\n",
    "df_blood['eqtl_type'] = 'Blood eQTL'\n",
    "df_brain['eqtl_type'] = 'Brain eQTL'\n",
    "print(len(pd.unique(df_blood['id.exposure'])))\n",
    "print(len(pd.unique(df_brain['id.exposure'])))"
   ],
   "metadata": {
    "collapsed": false,
    "ExecuteTime": {
     "end_time": "2024-01-05T09:18:21.032993300Z",
     "start_time": "2024-01-05T09:18:20.937643100Z"
    }
   }
  },
  {
   "cell_type": "code",
   "execution_count": 13,
   "outputs": [
    {
     "name": "stdout",
     "output_type": "stream",
     "text": [
      "MR Egger\n",
      "Weighted median\n",
      "Inverse variance weighted\n",
      "Simple mode\n",
      "Weighted mode\n",
      "Wald ratio\n",
      "55\n"
     ]
    }
   ],
   "source": [
    "# fdr correction on each method on blood\n",
    "fdr_res = []\n",
    "for method in pd.unique(df_blood['method']):\n",
    "    print(method)\n",
    "    dfp = df_blood[df_blood['method'] == method][['id.exposure', 'id.outcome', 'method', 'pval']].copy()\n",
    "    # fdr correction p-value\n",
    "    p_adj = fdrcorrection(dfp['pval'].to_numpy(), is_sorted=False)\n",
    "    dfp['fdr'] = p_adj[1]\n",
    "    fdr_res.append(dfp[['id.exposure', 'id.outcome',  'method', 'fdr']])\n",
    "\n",
    "# merge with original result\n",
    "df_fdr_res = pd.concat(fdr_res, axis=0)\n",
    "df_blood = pd.merge(df_blood, df_fdr_res, on=['id.exposure', 'id.outcome', 'method'])\n",
    "print(len(pd.unique(df_blood['id.exposure'])))"
   ],
   "metadata": {
    "collapsed": false,
    "ExecuteTime": {
     "end_time": "2024-01-05T09:18:21.085561700Z",
     "start_time": "2024-01-05T09:18:21.005389400Z"
    }
   }
  },
  {
   "cell_type": "code",
   "execution_count": 14,
   "outputs": [
    {
     "name": "stdout",
     "output_type": "stream",
     "text": [
      "Inverse variance weighted\n",
      "MR Egger\n",
      "Weighted median\n",
      "Simple mode\n",
      "Weighted mode\n",
      "Wald ratio\n",
      "10\n"
     ]
    }
   ],
   "source": [
    "# fdr correction on each method on brain\n",
    "fdr_res = []\n",
    "for method in pd.unique(df_brain['method']):\n",
    "    print(method)\n",
    "    dfp = df_brain[df_brain['method'] == method][['id.exposure', 'id.outcome', 'method', 'pval']].copy()\n",
    "    # fdr correction p-value\n",
    "    p_adj = fdrcorrection(dfp['pval'].to_numpy(), is_sorted=False)\n",
    "    dfp['fdr'] = p_adj[1]\n",
    "    fdr_res.append(dfp[['id.exposure', 'id.outcome',  'method', 'fdr']])\n",
    "\n",
    "# merge with original result\n",
    "df_fdr_res = pd.concat(fdr_res, axis=0)\n",
    "df_brain = pd.merge(df_brain, df_fdr_res, on=['id.exposure', 'id.outcome', 'method'])\n",
    "print(len(pd.unique(df_brain['id.exposure'])))"
   ],
   "metadata": {
    "collapsed": false,
    "ExecuteTime": {
     "end_time": "2024-01-05T09:18:21.087088200Z",
     "start_time": "2024-01-05T09:18:21.044199700Z"
    }
   }
  },
  {
   "cell_type": "code",
   "execution_count": 15,
   "outputs": [],
   "source": [
    "# if FDR = NAN, set FDR = 1\n",
    "df_blood['fdr'].fillna(1, inplace=True)\n",
    "df_brain['fdr'].fillna(1, inplace=True)\n",
    "\n",
    "# concat brain and blood results\n",
    "df = pd.concat([df_blood, df_brain], axis=0)\n",
    "df_plei = pd.concat([df_plei_blood, df_plei_brain], axis=0)"
   ],
   "metadata": {
    "collapsed": false,
    "ExecuteTime": {
     "end_time": "2024-01-05T09:18:21.150164100Z",
     "start_time": "2024-01-05T09:18:21.092491Z"
    }
   }
  },
  {
   "cell_type": "code",
   "execution_count": 16,
   "outputs": [],
   "source": [
    "# merge mr egger test result\n",
    "df_plei.rename(columns={'pval': 'egger_pval', 'se': 'egger_se'}, inplace=True)\n",
    "df_plei.drop(columns=['outcome', 'exposure'], inplace=True)\n",
    "df = pd.merge(df, df_plei, on=['id.exposure', 'id.outcome'], how='left')\n",
    "# print(len(pd.unique(df[['id.exposure', 'eqtl_type']])))"
   ],
   "metadata": {
    "collapsed": false,
    "ExecuteTime": {
     "end_time": "2024-01-05T09:18:21.211520400Z",
     "start_time": "2024-01-05T09:18:21.155987700Z"
    }
   }
  },
  {
   "cell_type": "code",
   "execution_count": 17,
   "outputs": [],
   "source": [
    "# load drug info\n",
    "df_drug_info = pd.read_excel('data/druggable_genome.xlsx', sheet_name='Data')\n",
    "df = pd.merge(df_drug_info, df, left_on='ensembl_gene_id', right_on='id.exposure')"
   ],
   "metadata": {
    "collapsed": false,
    "ExecuteTime": {
     "end_time": "2024-01-05T09:18:22.390495600Z",
     "start_time": "2024-01-05T09:18:21.214540Z"
    }
   }
  },
  {
   "cell_type": "code",
   "execution_count": 18,
   "outputs": [
    {
     "name": "stdout",
     "output_type": "stream",
     "text": [
      "64\n"
     ]
    }
   ],
   "source": [
    "df['id.exposure'] = df['hgnc_names']\n",
    "# find significant results\n",
    "df['significant'] = (df['fdr'] < 0.05).astype(int)\n",
    "print(len(pd.unique(df['id.exposure'])))"
   ],
   "metadata": {
    "collapsed": false,
    "ExecuteTime": {
     "end_time": "2024-01-05T09:18:22.392257200Z",
     "start_time": "2024-01-05T09:18:22.376390900Z"
    }
   }
  },
  {
   "cell_type": "code",
   "execution_count": 19,
   "outputs": [],
   "source": [
    "# count significant method for each druggable gene\n",
    "df_grouped = df.groupby(['ensembl_gene_id', 'id.outcome'])['significant'].sum()\n",
    "df_grouped = pd.DataFrame(df_grouped).reset_index()\n",
    "df_grouped.rename(columns={'significant': 'significant_num'}, inplace=True)"
   ],
   "metadata": {
    "collapsed": false,
    "ExecuteTime": {
     "end_time": "2024-01-05T09:18:22.397342800Z",
     "start_time": "2024-01-05T09:18:22.385543600Z"
    }
   }
  },
  {
   "cell_type": "code",
   "execution_count": 20,
   "outputs": [
    {
     "name": "stdout",
     "output_type": "stream",
     "text": [
      "64\n"
     ]
    }
   ],
   "source": [
    "df = pd.merge(df, df_grouped, on=['ensembl_gene_id', 'id.outcome'])\n",
    "# if MR egger can not be done, set p-value = 1\n",
    "df['egger_pval'].fillna(1, inplace=True)\n",
    "df.to_csv(f'results_{pheno}/mr_res_with_fdr.csv', index=False)\n",
    "print(len(pd.unique(df['id.exposure'])))"
   ],
   "metadata": {
    "collapsed": false,
    "ExecuteTime": {
     "end_time": "2024-01-05T09:18:22.646759600Z",
     "start_time": "2024-01-05T09:18:22.399525600Z"
    }
   }
  },
  {
   "cell_type": "code",
   "execution_count": 21,
   "outputs": [],
   "source": [
    "# select significant results: <=2 snp: only 1 method, >=3 snps: 5 method, at least 3 method must be significant\n",
    "df_significant = df[(((df['nsnp'] <= 2) & (df['significant_num'] == 1)) | ((df['nsnp'] > 2) & (df['significant_num'] > 2)))].copy()"
   ],
   "metadata": {
    "collapsed": false,
    "ExecuteTime": {
     "end_time": "2024-01-05T09:18:22.649537600Z",
     "start_time": "2024-01-05T09:18:22.642932400Z"
    }
   }
  },
  {
   "cell_type": "code",
   "execution_count": 22,
   "outputs": [
    {
     "name": "stdout",
     "output_type": "stream",
     "text": [
      "155\n"
     ]
    }
   ],
   "source": [
    "# remove results with horizontal pleiotropy\n",
    "df_significant = df_significant[df_significant['egger_pval'] > 0.05]\n",
    "print(len(df_significant))"
   ],
   "metadata": {
    "collapsed": false,
    "ExecuteTime": {
     "end_time": "2024-01-05T09:18:22.675680700Z",
     "start_time": "2024-01-05T09:18:22.651625200Z"
    }
   }
  },
  {
   "cell_type": "code",
   "execution_count": 23,
   "outputs": [],
   "source": [
    "df_significant.to_csv(f'results_{pheno}/mr_significant_5methods.csv', index=False)"
   ],
   "metadata": {
    "collapsed": false,
    "ExecuteTime": {
     "end_time": "2024-01-05T09:18:22.721223Z",
     "start_time": "2024-01-05T09:18:22.660274300Z"
    }
   }
  },
  {
   "cell_type": "code",
   "execution_count": 24,
   "outputs": [],
   "source": [
    "# significant results only ivw or wald ratio\n",
    "df_ivw = df[df['fdr'] < 0.05]\n",
    "df_ivw = df_ivw[((df_ivw['nsnp'] <= 2) | ((df_ivw['nsnp'] > 2) & (df_ivw['egger_pval'] > 0.05) & (df_ivw['method'] == 'Inverse variance weighted')))]\n",
    "df_ivw.to_csv(f'results_{pheno}/mr_significant.csv', index=False)"
   ],
   "metadata": {
    "collapsed": false,
    "ExecuteTime": {
     "end_time": "2024-01-05T09:18:22.724442700Z",
     "start_time": "2024-01-05T09:18:22.673545600Z"
    }
   }
  },
  {
   "cell_type": "code",
   "execution_count": 25,
   "outputs": [
    {
     "name": "stdout",
     "output_type": "stream",
     "text": [
      "58\n"
     ]
    }
   ],
   "source": [
    "print(len(pd.unique(df_ivw['id.exposure'])))"
   ],
   "metadata": {
    "collapsed": false,
    "ExecuteTime": {
     "end_time": "2024-01-05T09:18:22.725449200Z",
     "start_time": "2024-01-05T09:18:22.693729400Z"
    }
   }
  },
  {
   "cell_type": "code",
   "execution_count": 26,
   "outputs": [],
   "source": [
    "df_eqtls_blood = pd.read_csv('eqtls_bag/significant_blood_eqtls.csv')\n",
    "df_eqtls_brain = pd.read_csv('eqtls_bag/significant_brain_eqtls.csv')"
   ],
   "metadata": {
    "collapsed": false,
    "ExecuteTime": {
     "end_time": "2024-01-05T09:18:22.924396200Z",
     "start_time": "2024-01-05T09:18:22.701914700Z"
    }
   }
  },
  {
   "cell_type": "code",
   "execution_count": 27,
   "outputs": [
    {
     "name": "stdout",
     "output_type": "stream",
     "text": [
      "55\n",
      "10\n"
     ]
    }
   ],
   "source": [
    "print(len(pd.unique(df_eqtls_blood['ensembl_gene_id'])))\n",
    "print(len(pd.unique(df_eqtls_brain['ensembl_gene_id'])))"
   ],
   "metadata": {
    "collapsed": false,
    "ExecuteTime": {
     "end_time": "2024-01-05T09:18:22.942106700Z",
     "start_time": "2024-01-05T09:18:22.925506900Z"
    }
   }
  },
  {
   "cell_type": "code",
   "execution_count": 28,
   "outputs": [],
   "source": [
    "genes_used = pd.unique(df_ivw['ensembl_gene_id'])\n",
    "genes_blood = pd.unique(df_eqtls_blood['ensembl_gene_id'])\n",
    "genes_brain = pd.unique(df_eqtls_brain['ensembl_gene_id'])"
   ],
   "metadata": {
    "collapsed": false,
    "ExecuteTime": {
     "end_time": "2024-01-05T09:18:22.943194500Z",
     "start_time": "2024-01-05T09:18:22.936221900Z"
    }
   }
  },
  {
   "cell_type": "code",
   "execution_count": 29,
   "outputs": [
    {
     "name": "stdout",
     "output_type": "stream",
     "text": [
      "['ENSG00000006062' 'ENSG00000116985' 'ENSG00000167434' 'ENSG00000173786'\n",
      " 'ENSG00000175894' 'ENSG00000196230']\n",
      "[]\n"
     ]
    }
   ],
   "source": [
    "# genes not used in MR\n",
    "genes_not_used_blood = np.setdiff1d(genes_blood, genes_used)\n",
    "print(genes_not_used_blood)\n",
    "genes_not_used_brain = np.setdiff1d(genes_brain, genes_used)\n",
    "print(genes_not_used_brain)"
   ],
   "metadata": {
    "collapsed": false,
    "ExecuteTime": {
     "end_time": "2024-01-05T09:18:22.999336500Z",
     "start_time": "2024-01-05T09:18:22.946896800Z"
    }
   }
  },
  {
   "cell_type": "code",
   "execution_count": 30,
   "outputs": [],
   "source": [
    "df_not_used = df[df['ensembl_gene_id'].isin(genes_not_used_blood)]"
   ],
   "metadata": {
    "collapsed": false,
    "ExecuteTime": {
     "end_time": "2024-01-05T09:18:23.000339900Z",
     "start_time": "2024-01-05T09:18:22.956008400Z"
    }
   }
  },
  {
   "cell_type": "code",
   "execution_count": 30,
   "outputs": [],
   "source": [],
   "metadata": {
    "collapsed": false,
    "ExecuteTime": {
     "end_time": "2024-01-05T09:18:23.000339900Z",
     "start_time": "2024-01-05T09:18:22.960871200Z"
    }
   }
  }
 ],
 "metadata": {
  "kernelspec": {
   "display_name": "Python 3",
   "language": "python",
   "name": "python3"
  },
  "language_info": {
   "codemirror_mode": {
    "name": "ipython",
    "version": 2
   },
   "file_extension": ".py",
   "mimetype": "text/x-python",
   "name": "python",
   "nbconvert_exporter": "python",
   "pygments_lexer": "ipython2",
   "version": "2.7.6"
  }
 },
 "nbformat": 4,
 "nbformat_minor": 0
}
