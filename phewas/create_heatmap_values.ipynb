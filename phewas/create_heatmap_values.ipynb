{
 "cells": [
  {
   "cell_type": "code",
   "execution_count": 1,
   "metadata": {
    "collapsed": true,
    "ExecuteTime": {
     "end_time": "2024-01-05T03:28:08.659810100Z",
     "start_time": "2024-01-05T03:28:08.637648300Z"
    }
   },
   "outputs": [],
   "source": [
    "import pandas as pd\n",
    "import numpy as np"
   ]
  },
  {
   "cell_type": "code",
   "execution_count": 2,
   "outputs": [
    {
     "name": "stdout",
     "output_type": "stream",
     "text": [
      "55\n"
     ]
    }
   ],
   "source": [
    "pheno = 'blood'\n",
    "bag_type = 'bag'\n",
    "if bag_type == 'bag3':\n",
    "    df1 = pd.read_csv(f'results_bag3/mr_res_with_fdr.csv')\n",
    "    df2 = pd.read_csv(f'results_bagm3/mr_res_with_fdr.csv')\n",
    "    df1 = df1[df1['eqtl_type'] == f'{pheno} eqtls']\n",
    "    df2 = df2[df2['eqtl_type'] == f'{pheno} eqtls']\n",
    "    df = pd.concat([df1, df2], axis=0)\n",
    "else:\n",
    "    df = pd.read_csv(f'results_{bag_type}/mr_res_with_fdr.csv')\n",
    "    df = df[df['eqtl_type'] == f'{pheno} eqtls']\n",
    "    # replace nan with 0.999\n",
    "    df['fdr'].fillna(0.999, inplace=True)\n",
    "    \n",
    "print(len(pd.unique(df['ensembl_gene_id'])))"
   ],
   "metadata": {
    "collapsed": false,
    "ExecuteTime": {
     "end_time": "2024-01-05T03:28:08.773962400Z",
     "start_time": "2024-01-05T03:28:08.642426500Z"
    }
   }
  },
  {
   "cell_type": "code",
   "execution_count": 3,
   "outputs": [
    {
     "name": "stdout",
     "output_type": "stream",
     "text": [
      "55\n"
     ]
    }
   ],
   "source": [
    "df.drop_duplicates(['ensembl_gene_id', 'id.outcome', 'method'], inplace=True)\n",
    "print(len(pd.unique(df['ensembl_gene_id'])))"
   ],
   "metadata": {
    "collapsed": false,
    "ExecuteTime": {
     "end_time": "2024-01-05T03:28:08.775600400Z",
     "start_time": "2024-01-05T03:28:08.755796300Z"
    }
   }
  },
  {
   "cell_type": "code",
   "execution_count": 4,
   "outputs": [],
   "source": [
    "df_phenos = pd.read_csv('data/pheno_gwas_ids.csv')\n",
    "dfgenes = pd.DataFrame({'gene': pd.unique(df['hgnc_names'])})\n",
    "dfgenes['x'] = 1\n",
    "df_phenos['x'] = 1\n",
    "df_res = pd.merge(dfgenes, df_phenos[['pheno', 'x']], on='x')"
   ],
   "metadata": {
    "collapsed": false,
    "ExecuteTime": {
     "end_time": "2024-01-05T03:28:08.823972100Z",
     "start_time": "2024-01-05T03:28:08.771957Z"
    }
   }
  },
  {
   "cell_type": "code",
   "execution_count": 5,
   "outputs": [
    {
     "name": "stdout",
     "output_type": "stream",
     "text": [
      "55\n"
     ]
    }
   ],
   "source": [
    "df_ivw = df[df['method'].isin(['Inverse variance weighted', 'Wald ratio'])].copy()\n",
    "# cut min p-value 1e-9 for plotting\n",
    "df_ivw['logp'] = -np.log10(df_ivw['pval'] + 1e-9)\n",
    "df_ivw['log_fdrp'] = -np.log10(df_ivw['fdr'] + 1e-9)\n",
    "# effect direction\n",
    "df_ivw['dir'] = np.sign(df_ivw['b'])\n",
    "\n",
    "# remove results with horizontal piet\n",
    "df_ivw = df_ivw[df_ivw['egger_pval'] > 0.05]\n",
    "conuts = df_ivw[df_ivw['pval'] < 0.05]['id.outcome'].value_counts()\n",
    "print(len(pd.unique(df_ivw['ensembl_gene_id'])))"
   ],
   "metadata": {
    "collapsed": false,
    "ExecuteTime": {
     "end_time": "2024-01-05T03:28:08.826283400Z",
     "start_time": "2024-01-05T03:28:08.786330600Z"
    }
   }
  },
  {
   "cell_type": "code",
   "execution_count": 6,
   "outputs": [],
   "source": [
    "df_ivw['heat_value'] = df_ivw['logp'] * df_ivw['dir']\n",
    "df_res_normp = pd.merge(df_res, df_ivw[['id.exposure', 'id.outcome', 'heat_value']], left_on=['gene', 'pheno'],\n",
    "                  right_on=['id.exposure', 'id.outcome'], how='left')\n",
    "df_res_normp['heat_value'].fillna(0, inplace=True)\n",
    "dfu = pd.pivot(df_res_normp, index='pheno', columns='gene', values='heat_value')"
   ],
   "metadata": {
    "collapsed": false,
    "ExecuteTime": {
     "end_time": "2024-01-05T03:28:08.912889Z",
     "start_time": "2024-01-05T03:28:08.805751400Z"
    }
   }
  },
  {
   "cell_type": "code",
   "execution_count": 7,
   "outputs": [],
   "source": [
    "df_ivw['heat_value'] = df_ivw['log_fdrp'] * df_ivw['dir']\n",
    "df_res_fdrp = pd.merge(df_res, df_ivw[['id.exposure', 'id.outcome', 'heat_value']], left_on=['gene', 'pheno'],\n",
    "                  right_on=['id.exposure', 'id.outcome'], how='left')\n",
    "df_res_fdrp['heat_value'].fillna(0, inplace=True)\n",
    "dfu2 = pd.pivot(df_res_fdrp, index='pheno', columns='gene', values='heat_value')"
   ],
   "metadata": {
    "collapsed": false,
    "ExecuteTime": {
     "end_time": "2024-01-05T03:28:08.914999200Z",
     "start_time": "2024-01-05T03:28:08.819739200Z"
    }
   }
  },
  {
   "cell_type": "code",
   "execution_count": 8,
   "outputs": [],
   "source": [
    "x = np.array(dfu)\n",
    "dfu.iloc[:, :] = x\n",
    "dfu.to_csv(f'results_merged/heatmap_{pheno}_{bag_type}.csv')"
   ],
   "metadata": {
    "collapsed": false,
    "ExecuteTime": {
     "end_time": "2024-01-05T03:28:08.917153200Z",
     "start_time": "2024-01-05T03:28:08.834736Z"
    }
   }
  },
  {
   "cell_type": "code",
   "execution_count": 9,
   "outputs": [],
   "source": [
    "x2 = np.array(dfu2)\n",
    "dfu2.iloc[:, :] = x2\n",
    "# dfu2.to_csv(f'results_merged/heatmap_{pheno}_{bag_type}.csv')\n",
    "# print(len(pd.unique(dfu['ensembl_gene_id'])))"
   ],
   "metadata": {
    "collapsed": false,
    "ExecuteTime": {
     "end_time": "2024-01-05T03:28:08.957474700Z",
     "start_time": "2024-01-05T03:28:08.850381300Z"
    }
   }
  },
  {
   "cell_type": "code",
   "execution_count": 10,
   "outputs": [],
   "source": [
    "p1 = -np.log10(0.05)\n",
    "p2 = -np.log10(0.05 / len(df_phenos))"
   ],
   "metadata": {
    "collapsed": false,
    "ExecuteTime": {
     "end_time": "2024-01-05T03:28:09.000140500Z",
     "start_time": "2024-01-05T03:28:08.856980200Z"
    }
   }
  },
  {
   "cell_type": "code",
   "execution_count": 11,
   "outputs": [],
   "source": [
    "annot = np.zeros_like(x, dtype=str)\n",
    "annot[np.where(abs(x) > p1)] = '◇'\n",
    "annot[np.where(abs(x2) > p1)] = '★'"
   ],
   "metadata": {
    "collapsed": false,
    "ExecuteTime": {
     "end_time": "2024-01-05T03:28:09.001376600Z",
     "start_time": "2024-01-05T03:28:08.860018900Z"
    }
   }
  },
  {
   "cell_type": "code",
   "execution_count": 12,
   "outputs": [],
   "source": [
    "df_annot = pd.DataFrame(annot)\n",
    "df_annot.index = dfu.index\n",
    "df_annot.columns = dfu.columns"
   ],
   "metadata": {
    "collapsed": false,
    "ExecuteTime": {
     "end_time": "2024-01-05T03:28:09.002522800Z",
     "start_time": "2024-01-05T03:28:08.871483Z"
    }
   }
  },
  {
   "cell_type": "code",
   "execution_count": 13,
   "outputs": [],
   "source": [
    "df_annot.to_csv(f'results_merged/heatmap_{pheno}_{bag_type}_annot.csv')"
   ],
   "metadata": {
    "collapsed": false,
    "ExecuteTime": {
     "end_time": "2024-01-05T03:28:09.003599200Z",
     "start_time": "2024-01-05T03:28:08.876626300Z"
    }
   }
  },
  {
   "cell_type": "code",
   "execution_count": 13,
   "outputs": [],
   "source": [],
   "metadata": {
    "collapsed": false,
    "ExecuteTime": {
     "end_time": "2024-01-05T03:28:09.004110200Z",
     "start_time": "2024-01-05T03:28:08.886184400Z"
    }
   }
  }
 ],
 "metadata": {
  "kernelspec": {
   "display_name": "Python 3",
   "language": "python",
   "name": "python3"
  },
  "language_info": {
   "codemirror_mode": {
    "name": "ipython",
    "version": 2
   },
   "file_extension": ".py",
   "mimetype": "text/x-python",
   "name": "python",
   "nbconvert_exporter": "python",
   "pygments_lexer": "ipython2",
   "version": "2.7.6"
  }
 },
 "nbformat": 4,
 "nbformat_minor": 0
}
