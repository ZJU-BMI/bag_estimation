{
 "cells": [
  {
   "cell_type": "code",
   "execution_count": 1,
   "metadata": {
    "collapsed": true,
    "ExecuteTime": {
     "end_time": "2024-01-04T07:00:05.845878700Z",
     "start_time": "2024-01-04T07:00:05.122550900Z"
    }
   },
   "outputs": [],
   "source": [
    "import pandas as pd"
   ]
  },
  {
   "cell_type": "code",
   "execution_count": 4,
   "outputs": [],
   "source": [
    "pheno = 'bag'\n",
    "\n",
    "if pheno == 'bag3':\n",
    "    sheet_name = 'BAG > 3 years'\n",
    "elif pheno == 'bagm3':\n",
    "    sheet_name = 'BAG < -3 years'\n",
    "else:\n",
    "    sheet_name = 'BAG eqtl'\n",
    "    \n",
    "df_eqtls = pd.read_excel('data/results_mr_coloc_significant.xlsx', sheet_name=sheet_name)"
   ],
   "metadata": {
    "collapsed": false,
    "ExecuteTime": {
     "end_time": "2024-01-04T07:03:39.302461800Z",
     "start_time": "2024-01-04T07:03:39.250592100Z"
    }
   }
  },
  {
   "cell_type": "code",
   "execution_count": 5,
   "outputs": [
    {
     "data": {
      "text/plain": "0       ENSG00000244752\n1       ENSG00000132155\n2       ENSG00000147124\n3       ENSG00000126767\n4       ENSG00000048545\n             ...       \n5279    ENSG00000083844\n5280    ENSG00000186009\n5281    ENSG00000128951\n5282    ENSG00000144224\n5283    ENSG00000117595\nName: Ensembl.Gene.ID, Length: 5284, dtype: object"
     },
     "execution_count": 5,
     "metadata": {},
     "output_type": "execute_result"
    }
   ],
   "source": [
    "df_pqtls = pd.read_excel('data/deCODE_data.xlsx', sheet_name='ST01', skiprows=2)\n",
    "df_pqtls['Ensembl.Gene.ID']\n",
    "# df_pqtls = pd.read_csv('data/rosmap_pqtls.csv')"
   ],
   "metadata": {
    "collapsed": false,
    "ExecuteTime": {
     "end_time": "2024-01-04T07:03:43.318760400Z",
     "start_time": "2024-01-04T07:03:39.625022Z"
    }
   }
  },
  {
   "cell_type": "code",
   "execution_count": 6,
   "outputs": [],
   "source": [
    "df_merged = pd.merge(df_pqtls, df_eqtls, left_on='Ensembl.Gene.ID', right_on='ensembl_gene_id')\n",
    "# df_merged = pd.merge(df_pqtls, df_eqtls, left_on='Protein_UniProt', right_on='ensembl_gene_id')"
   ],
   "metadata": {
    "collapsed": false,
    "ExecuteTime": {
     "end_time": "2024-01-04T07:03:43.319762Z",
     "start_time": "2024-01-04T07:03:43.308555700Z"
    }
   }
  },
  {
   "cell_type": "code",
   "execution_count": 7,
   "outputs": [],
   "source": [
    "df_merged.to_csv(f'data/pqtls_deCODE_{pheno}.csv', index=False)\n",
    "# df_merged.to_csv(f'pqtl_data/pqtls_rosmap_{pheno}.csv', index=False)"
   ],
   "metadata": {
    "collapsed": false,
    "ExecuteTime": {
     "end_time": "2024-01-04T07:03:43.332350500Z",
     "start_time": "2024-01-04T07:03:43.318760400Z"
    }
   }
  },
  {
   "cell_type": "code",
   "execution_count": 6,
   "outputs": [],
   "source": [
    "# select significant pQTLs from ROSMAP pQTLs ()\n",
    "# df_rosmap = pd.read_table('data/ROSMAP.for_smr.pQTLv2.txt', sep=' ', index_col=False)"
   ],
   "metadata": {
    "collapsed": false,
    "ExecuteTime": {
     "end_time": "2023-12-11T06:44:00.475703400Z",
     "start_time": "2023-12-11T06:44:00.458986800Z"
    }
   }
  },
  {
   "cell_type": "code",
   "execution_count": 7,
   "outputs": [],
   "source": [
    "# df_rosmap['hgnc_name'] = [a.split('.')[1] for a in df_rosmap['Protein_GeneSymbol']]\n",
    "# df_rosmap['distance'] = df_rosmap['BP'] - df_rosmap['Protein_BP_Start']"
   ],
   "metadata": {
    "collapsed": false,
    "ExecuteTime": {
     "end_time": "2023-12-11T06:44:00.475703400Z",
     "start_time": "2023-12-11T06:44:00.463083700Z"
    }
   }
  },
  {
   "cell_type": "code",
   "execution_count": 8,
   "outputs": [],
   "source": [
    "# df_rosmap_sig = df_rosmap[df_rosmap['P'] < 5e-6]\n",
    "# print(len(pd.unique(df_rosmap_sig['hgnc_name'])))"
   ],
   "metadata": {
    "collapsed": false,
    "ExecuteTime": {
     "end_time": "2023-12-11T06:44:00.475703400Z",
     "start_time": "2023-12-11T06:44:00.466255700Z"
    }
   }
  },
  {
   "cell_type": "code",
   "execution_count": 9,
   "outputs": [],
   "source": [
    "# df_rosmap_sig.to_csv('data/rosmap_pqtls.csv', index=False)"
   ],
   "metadata": {
    "collapsed": false,
    "ExecuteTime": {
     "end_time": "2023-12-11T06:44:00.475703400Z",
     "start_time": "2023-12-11T06:44:00.470070600Z"
    }
   }
  },
  {
   "cell_type": "code",
   "execution_count": 9,
   "outputs": [],
   "source": [],
   "metadata": {
    "collapsed": false,
    "ExecuteTime": {
     "end_time": "2023-12-11T06:44:00.487405700Z",
     "start_time": "2023-12-11T06:44:00.474594500Z"
    }
   }
  }
 ],
 "metadata": {
  "kernelspec": {
   "display_name": "Python 3",
   "language": "python",
   "name": "python3"
  },
  "language_info": {
   "codemirror_mode": {
    "name": "ipython",
    "version": 2
   },
   "file_extension": ".py",
   "mimetype": "text/x-python",
   "name": "python",
   "nbconvert_exporter": "python",
   "pygments_lexer": "ipython2",
   "version": "2.7.6"
  }
 },
 "nbformat": 4,
 "nbformat_minor": 0
}
