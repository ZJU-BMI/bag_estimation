{
 "cells": [
  {
   "cell_type": "code",
   "execution_count": 1,
   "metadata": {
    "collapsed": true,
    "ExecuteTime": {
     "end_time": "2023-07-22T05:09:05.841737800Z",
     "start_time": "2023-07-22T05:09:05.639655600Z"
    }
   },
   "outputs": [],
   "source": [
    "import pandas as pd"
   ]
  },
  {
   "cell_type": "code",
   "execution_count": 8,
   "outputs": [],
   "source": [
    "pheno = 'bagm3'\n",
    "if pheno == 'bag3':\n",
    "    df_eqtls = pd.read_excel('data/mr_eqtl_significant.xlsx', sheet_name='BAG > 3 years')\n",
    "else:\n",
    "    df_eqtls = pd.read_excel('data/mr_eqtl_significant.xlsx', sheet_name='BAG < -3 years')"
   ],
   "metadata": {
    "collapsed": false,
    "ExecuteTime": {
     "end_time": "2023-07-21T07:45:59.456751100Z",
     "start_time": "2023-07-21T07:45:59.416485300Z"
    }
   }
  },
  {
   "cell_type": "code",
   "execution_count": 9,
   "outputs": [
    {
     "data": {
      "text/plain": "0       ENSG00000244752\n1       ENSG00000132155\n2       ENSG00000147124\n3       ENSG00000126767\n4       ENSG00000048545\n             ...       \n5279    ENSG00000083844\n5280    ENSG00000186009\n5281    ENSG00000128951\n5282    ENSG00000144224\n5283    ENSG00000117595\nName: Ensembl.Gene.ID, Length: 5284, dtype: object"
     },
     "execution_count": 9,
     "metadata": {},
     "output_type": "execute_result"
    }
   ],
   "source": [
    "df_pqtls = pd.read_excel('data/deCODE_data.xlsx', sheet_name='ST01', skiprows=2)\n",
    "df_pqtls['Ensembl.Gene.ID']\n",
    "# df_pqtls = pd.read_csv('data/rosmap_pqtls.csv')"
   ],
   "metadata": {
    "collapsed": false,
    "ExecuteTime": {
     "end_time": "2023-07-21T07:46:01.898956200Z",
     "start_time": "2023-07-21T07:45:59.448158600Z"
    }
   }
  },
  {
   "cell_type": "code",
   "execution_count": 10,
   "outputs": [],
   "source": [
    "df_merged = pd.merge(df_pqtls, df_eqtls, left_on='Ensembl.Gene.ID', right_on='ensembl_gene_id')\n",
    "# df_merged = pd.merge(df_pqtls, df_eqtls, left_on='Protein_UniProt', right_on='ensembl_gene_id')"
   ],
   "metadata": {
    "collapsed": false,
    "ExecuteTime": {
     "end_time": "2023-07-21T07:46:01.909058400Z",
     "start_time": "2023-07-21T07:46:01.898956200Z"
    }
   }
  },
  {
   "cell_type": "code",
   "execution_count": 11,
   "outputs": [],
   "source": [
    "df_merged.to_csv(f'data/pqtls_deCODE_{pheno}.csv', index=False)\n",
    "# df_merged.to_csv(f'pqtl_data/pqtls_rosmap_{pheno}.csv', index=False)"
   ],
   "metadata": {
    "collapsed": false,
    "ExecuteTime": {
     "end_time": "2023-07-21T07:46:01.923640600Z",
     "start_time": "2023-07-21T07:46:01.912570200Z"
    }
   }
  },
  {
   "cell_type": "code",
   "execution_count": 12,
   "outputs": [],
   "source": [
    "# select significant pQTLs from ROSMAP pQTLs ()\n",
    "# df_rosmap = pd.read_table('data/ROSMAP.for_smr.pQTLv2.txt', sep=' ', index_col=False)"
   ],
   "metadata": {
    "collapsed": false,
    "ExecuteTime": {
     "end_time": "2023-07-21T07:46:01.955135300Z",
     "start_time": "2023-07-21T07:46:01.919288400Z"
    }
   }
  },
  {
   "cell_type": "code",
   "execution_count": 13,
   "outputs": [],
   "source": [
    "# df_rosmap['hgnc_name'] = [a.split('.')[1] for a in df_rosmap['Protein_GeneSymbol']]\n",
    "# df_rosmap['distance'] = df_rosmap['BP'] - df_rosmap['Protein_BP_Start']"
   ],
   "metadata": {
    "collapsed": false,
    "ExecuteTime": {
     "end_time": "2023-07-21T07:46:01.955135300Z",
     "start_time": "2023-07-21T07:46:01.934169700Z"
    }
   }
  },
  {
   "cell_type": "code",
   "execution_count": 14,
   "outputs": [],
   "source": [
    "# df_rosmap_sig = df_rosmap[df_rosmap['P'] < 5e-6]\n",
    "# print(len(pd.unique(df_rosmap_sig['hgnc_name'])))"
   ],
   "metadata": {
    "collapsed": false,
    "ExecuteTime": {
     "end_time": "2023-07-21T07:46:01.976625400Z",
     "start_time": "2023-07-21T07:46:01.944431400Z"
    }
   }
  },
  {
   "cell_type": "code",
   "execution_count": 15,
   "outputs": [],
   "source": [
    "# df_rosmap_sig.to_csv('data/rosmap_pqtls.csv', index=False)"
   ],
   "metadata": {
    "collapsed": false,
    "ExecuteTime": {
     "end_time": "2023-07-21T07:46:01.976625400Z",
     "start_time": "2023-07-21T07:46:01.955135300Z"
    }
   }
  },
  {
   "cell_type": "code",
   "execution_count": 15,
   "outputs": [],
   "source": [],
   "metadata": {
    "collapsed": false,
    "ExecuteTime": {
     "end_time": "2023-07-21T07:46:01.976625400Z",
     "start_time": "2023-07-21T07:46:01.965710300Z"
    }
   }
  }
 ],
 "metadata": {
  "kernelspec": {
   "display_name": "Python 3",
   "language": "python",
   "name": "python3"
  },
  "language_info": {
   "codemirror_mode": {
    "name": "ipython",
    "version": 2
   },
   "file_extension": ".py",
   "mimetype": "text/x-python",
   "name": "python",
   "nbconvert_exporter": "python",
   "pygments_lexer": "ipython2",
   "version": "2.7.6"
  }
 },
 "nbformat": 4,
 "nbformat_minor": 0
}
