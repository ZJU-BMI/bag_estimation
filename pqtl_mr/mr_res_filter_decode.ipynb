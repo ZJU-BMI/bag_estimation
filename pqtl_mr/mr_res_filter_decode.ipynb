{
 "cells": [
  {
   "cell_type": "code",
   "execution_count": 8,
   "metadata": {
    "collapsed": true,
    "ExecuteTime": {
     "end_time": "2024-01-04T08:08:01.643639400Z",
     "start_time": "2024-01-04T08:08:01.639294400Z"
    }
   },
   "outputs": [],
   "source": [
    "import os\n",
    "import pandas as pd\n",
    "from statsmodels.stats.multitest import fdrcorrection"
   ]
  },
  {
   "cell_type": "code",
   "execution_count": 9,
   "outputs": [],
   "source": [
    "pqtl_type = 'blood'\n",
    "pheno = 'bag'\n",
    "res_path = f'results_decode_{pheno}'\n",
    "df = pd.read_csv(os.path.join(res_path, f'mr_res_{pqtl_type}.csv'))\n",
    "if pheno == 'bag3':\n",
    "    df['outcome'] = 'BAG > 3 years'\n",
    "elif pheno == 'bagm3':\n",
    "    df['outcome'] = 'BAG < -3 years'\n",
    "else:\n",
    "    df['outcome'] = 'BAG'\n",
    "    \n",
    "df['Source'] = 'deCODE'\n",
    "df_plei = pd.read_csv(os.path.join(res_path, f'pleiotropy_res_{pqtl_type}.csv'))"
   ],
   "metadata": {
    "collapsed": false,
    "ExecuteTime": {
     "end_time": "2024-01-04T08:08:01.727218900Z",
     "start_time": "2024-01-04T08:08:01.648050Z"
    }
   }
  },
  {
   "cell_type": "code",
   "execution_count": 10,
   "outputs": [],
   "source": [
    "ids = df['id.exposure'].tolist()\n",
    "new_ids = []\n",
    "for idx in ids:\n",
    "    pices = idx.split('_')\n",
    "    new_id = pices[0] + '_' + pices[1]\n",
    "    new_ids.append(new_id)\n",
    "df['SeqId'] = new_ids"
   ],
   "metadata": {
    "collapsed": false,
    "ExecuteTime": {
     "end_time": "2024-01-04T08:08:01.728294700Z",
     "start_time": "2024-01-04T08:08:01.662131100Z"
    }
   }
  },
  {
   "cell_type": "code",
   "execution_count": 11,
   "outputs": [
    {
     "data": {
      "text/plain": "method\nInverse variance weighted    32\nMR Egger                     31\nWeighted median              31\nSimple mode                  31\nWeighted mode                31\nWald ratio                    2\nName: count, dtype: int64"
     },
     "execution_count": 11,
     "metadata": {},
     "output_type": "execute_result"
    }
   ],
   "source": [
    "df['method'].value_counts()"
   ],
   "metadata": {
    "collapsed": false,
    "ExecuteTime": {
     "end_time": "2024-01-04T08:08:01.729357900Z",
     "start_time": "2024-01-04T08:08:01.669231200Z"
    }
   }
  },
  {
   "cell_type": "code",
   "execution_count": 12,
   "outputs": [
    {
     "name": "stdout",
     "output_type": "stream",
     "text": [
      "MR Egger\n",
      "Weighted median\n",
      "Inverse variance weighted\n",
      "Simple mode\n",
      "Weighted mode\n",
      "Wald ratio\n"
     ]
    }
   ],
   "source": [
    "# fdr correction on each method\n",
    "fdr_res = []\n",
    "for method in pd.unique(df['method']):\n",
    "    print(method)\n",
    "    dfp = df[df['method'] == method][['id.exposure', 'method', 'pval']].copy()\n",
    "    # fdr correction p-value\n",
    "    p_adj = fdrcorrection(dfp['pval'].to_numpy(), is_sorted=False)\n",
    "    dfp['fdr'] = p_adj[1]\n",
    "    fdr_res.append(dfp[['id.exposure', 'method', 'fdr']])"
   ],
   "metadata": {
    "collapsed": false,
    "ExecuteTime": {
     "end_time": "2024-01-04T08:08:01.784331400Z",
     "start_time": "2024-01-04T08:08:01.734547200Z"
    }
   }
  },
  {
   "cell_type": "code",
   "execution_count": 13,
   "outputs": [],
   "source": [
    "df_fdr_res = pd.concat(fdr_res, axis=0)"
   ],
   "metadata": {
    "collapsed": false,
    "ExecuteTime": {
     "end_time": "2024-01-04T08:08:01.849471400Z",
     "start_time": "2024-01-04T08:08:01.789173Z"
    }
   }
  },
  {
   "cell_type": "code",
   "execution_count": 14,
   "outputs": [],
   "source": [
    "# merge with original result\n",
    "df = pd.merge(df, df_fdr_res, on=['id.exposure', 'method'])"
   ],
   "metadata": {
    "collapsed": false,
    "ExecuteTime": {
     "end_time": "2024-01-04T08:08:01.930359200Z",
     "start_time": "2024-01-04T08:08:01.855166500Z"
    }
   }
  },
  {
   "cell_type": "code",
   "execution_count": 15,
   "outputs": [],
   "source": [
    "# merge mr egger test result\n",
    "df_plei.rename(columns={'pval': 'egger_pval', 'se': 'egger_se'}, inplace=True)\n",
    "df_plei.drop(columns=['id.outcome', 'outcome', 'exposure'], inplace=True)\n",
    "df = pd.merge(df, df_plei, on=['id.exposure'], how='left')"
   ],
   "metadata": {
    "collapsed": false,
    "ExecuteTime": {
     "end_time": "2024-01-04T08:08:01.996896700Z",
     "start_time": "2024-01-04T08:08:01.895133Z"
    }
   }
  },
  {
   "cell_type": "code",
   "execution_count": 16,
   "outputs": [],
   "source": [
    "df_drug_info = pd.read_csv(f'data/pqtls_deCODE_{pheno}.csv')\n",
    "df_drug_info = df_drug_info[['SeqId', 'Protein (short name)', 'Protein (full name)', 'Gene', 'UniProt', 'Ensembl.Gene.ID']]\n",
    "df = pd.merge(df_drug_info, df, on='SeqId')"
   ],
   "metadata": {
    "collapsed": false,
    "ExecuteTime": {
     "end_time": "2024-01-04T08:08:02.032598200Z",
     "start_time": "2024-01-04T08:08:02.002818200Z"
    }
   }
  },
  {
   "cell_type": "code",
   "execution_count": 17,
   "outputs": [],
   "source": [
    "# find significant results\n",
    "df['BONF_P'] = df['pval'] * len(pd.unique(df['id.exposure']))\n",
    "df['significant'] = (df['fdr'] < 0.05).astype(int)\n",
    "df.to_csv(os.path.join(res_path, f'mr_res_{pqtl_type}_all.csv'), index=False)"
   ],
   "metadata": {
    "collapsed": false,
    "ExecuteTime": {
     "end_time": "2024-01-04T08:08:02.099533200Z",
     "start_time": "2024-01-04T08:08:02.038156700Z"
    }
   }
  },
  {
   "cell_type": "code",
   "execution_count": 18,
   "outputs": [],
   "source": [
    "# significant results only ivw or wald ratio\n",
    "df_ivw = df[df['fdr'] < 0.05]\n",
    "df_ivw = df_ivw[((df_ivw['nsnp'] <= 2) | ((df_ivw['nsnp'] > 2) & (df_ivw['egger_pval'] > 0.05) & (df_ivw['method'] == 'Inverse variance weighted')))]\n",
    "df_ivw.to_csv(os.path.join(res_path, f'mr_significant_{pqtl_type}.csv') , index=False)"
   ],
   "metadata": {
    "collapsed": false,
    "ExecuteTime": {
     "end_time": "2024-01-04T08:08:02.136752Z",
     "start_time": "2024-01-04T08:08:02.109387200Z"
    }
   }
  },
  {
   "cell_type": "code",
   "execution_count": 19,
   "outputs": [],
   "source": [
    "# count significant method for each druggable gene\n",
    "# df_grouped = df.groupby(['id.exposure'])['significant'].sum()\n",
    "# df_grouped = pd.DataFrame(df_grouped).reset_index()\n",
    "# df_grouped.rename(columns={'significant': 'significant_num'}, inplace=True)"
   ],
   "metadata": {
    "collapsed": false,
    "ExecuteTime": {
     "end_time": "2024-01-04T08:08:02.138159600Z",
     "start_time": "2024-01-04T08:08:02.115985300Z"
    }
   }
  },
  {
   "cell_type": "code",
   "execution_count": 20,
   "outputs": [],
   "source": [
    "# df = pd.merge(df, df_grouped, on='id.exposure')"
   ],
   "metadata": {
    "collapsed": false,
    "ExecuteTime": {
     "end_time": "2024-01-04T08:08:02.177419700Z",
     "start_time": "2024-01-04T08:08:02.142410100Z"
    }
   }
  },
  {
   "cell_type": "code",
   "execution_count": 21,
   "outputs": [],
   "source": [
    "# select significant results: <=2 snp: only 1 method, >=3 snps: 5 method, at least 3 method must be significant\n",
    "# df_significant = df[(((df['nsnp'] <= 2) & (df['significant_num'] == 1)) | ((df['nsnp'] > 2) & (df['significant_num'] > 2)))].copy()"
   ],
   "metadata": {
    "collapsed": false,
    "ExecuteTime": {
     "end_time": "2024-01-04T08:08:02.209617900Z",
     "start_time": "2024-01-04T08:08:02.181176600Z"
    }
   }
  },
  {
   "cell_type": "code",
   "execution_count": 22,
   "outputs": [],
   "source": [
    "# if MR egger can not be done, set p-value = 1\n",
    "# df_significant['egger_pval'].fillna(1, inplace=True)\n",
    "# print(df_significant['egger_pval'])"
   ],
   "metadata": {
    "collapsed": false,
    "ExecuteTime": {
     "end_time": "2024-01-04T08:08:02.244601400Z",
     "start_time": "2024-01-04T08:08:02.215444700Z"
    }
   }
  },
  {
   "cell_type": "code",
   "execution_count": 23,
   "outputs": [],
   "source": [
    "# remove results with horizontal pleiotropy\n",
    "# df_significant = df_significant[df_significant['egger_pval'] > 0.05]"
   ],
   "metadata": {
    "collapsed": false,
    "ExecuteTime": {
     "end_time": "2024-01-04T08:08:02.275257200Z",
     "start_time": "2024-01-04T08:08:02.250028800Z"
    }
   }
  },
  {
   "cell_type": "code",
   "execution_count": 24,
   "outputs": [],
   "source": [
    "# df_significant.to_csv(os.path.join(res_path, f'mr_significant_{pqtl_type}_5methods.csv') , index=False)"
   ],
   "metadata": {
    "collapsed": false,
    "ExecuteTime": {
     "end_time": "2024-01-04T08:08:02.302993800Z",
     "start_time": "2024-01-04T08:08:02.281215100Z"
    }
   }
  },
  {
   "cell_type": "code",
   "execution_count": 24,
   "outputs": [],
   "source": [],
   "metadata": {
    "collapsed": false,
    "ExecuteTime": {
     "end_time": "2024-01-04T08:08:02.328382900Z",
     "start_time": "2024-01-04T08:08:02.306318800Z"
    }
   }
  },
  {
   "cell_type": "code",
   "execution_count": 24,
   "outputs": [],
   "source": [],
   "metadata": {
    "collapsed": false,
    "ExecuteTime": {
     "end_time": "2024-01-04T08:08:02.328382900Z",
     "start_time": "2024-01-04T08:08:02.311248900Z"
    }
   }
  }
 ],
 "metadata": {
  "kernelspec": {
   "display_name": "Python 3",
   "language": "python",
   "name": "python3"
  },
  "language_info": {
   "codemirror_mode": {
    "name": "ipython",
    "version": 2
   },
   "file_extension": ".py",
   "mimetype": "text/x-python",
   "name": "python",
   "nbconvert_exporter": "python",
   "pygments_lexer": "ipython2",
   "version": "2.7.6"
  }
 },
 "nbformat": 4,
 "nbformat_minor": 0
}
