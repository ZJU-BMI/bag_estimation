{
 "cells": [
  {
   "cell_type": "code",
   "execution_count": 79,
   "metadata": {
    "collapsed": true,
    "ExecuteTime": {
     "end_time": "2023-07-22T07:09:40.847630300Z",
     "start_time": "2023-07-22T07:09:40.840583300Z"
    }
   },
   "outputs": [],
   "source": [
    "import os\n",
    "import pandas as pd\n",
    "from statsmodels.stats.multitest import fdrcorrection"
   ]
  },
  {
   "cell_type": "code",
   "execution_count": 80,
   "outputs": [],
   "source": [
    "pqtl_type = 'blood'\n",
    "pheno = 'bagm3'\n",
    "res_path = f'results_decode_{pheno}'\n",
    "df = pd.read_csv(os.path.join(res_path, f'mr_res_{pqtl_type}.csv'))\n",
    "df['outcome'] = 'BAG > 3 years' if pheno == 'bag3' else 'BAG < -3 years'\n",
    "df['Source'] = 'deCODE'\n",
    "df_plei = pd.read_csv(os.path.join(res_path, f'pleiotropy_res_{pqtl_type}.csv'))"
   ],
   "metadata": {
    "collapsed": false,
    "ExecuteTime": {
     "end_time": "2023-07-22T07:09:40.868712200Z",
     "start_time": "2023-07-22T07:09:40.844569500Z"
    }
   }
  },
  {
   "cell_type": "code",
   "execution_count": 81,
   "outputs": [],
   "source": [
    "ids = df['id.exposure'].tolist()\n",
    "new_ids = []\n",
    "for idx in ids:\n",
    "    pices = idx.split('_')\n",
    "    new_id = pices[0] + '_' + pices[1]\n",
    "    new_ids.append(new_id)\n",
    "df['SeqId'] = new_ids"
   ],
   "metadata": {
    "collapsed": false,
    "ExecuteTime": {
     "end_time": "2023-07-22T07:09:40.876194300Z",
     "start_time": "2023-07-22T07:09:40.861283500Z"
    }
   }
  },
  {
   "cell_type": "code",
   "execution_count": 82,
   "outputs": [
    {
     "data": {
      "text/plain": "Inverse variance weighted    11\nMR Egger                     10\nWeighted median              10\nSimple mode                  10\nWeighted mode                10\nWald ratio                    1\nName: method, dtype: int64"
     },
     "execution_count": 82,
     "metadata": {},
     "output_type": "execute_result"
    }
   ],
   "source": [
    "df['method'].value_counts()"
   ],
   "metadata": {
    "collapsed": false,
    "ExecuteTime": {
     "end_time": "2023-07-22T07:09:40.893607300Z",
     "start_time": "2023-07-22T07:09:40.877198900Z"
    }
   }
  },
  {
   "cell_type": "code",
   "execution_count": 83,
   "outputs": [
    {
     "name": "stdout",
     "output_type": "stream",
     "text": [
      "MR Egger\n",
      "Weighted median\n",
      "Inverse variance weighted\n",
      "Simple mode\n",
      "Weighted mode\n",
      "Wald ratio\n"
     ]
    }
   ],
   "source": [
    "# fdr correction on each method\n",
    "fdr_res = []\n",
    "for method in pd.unique(df['method']):\n",
    "    print(method)\n",
    "    dfp = df[df['method'] == method][['id.exposure', 'method', 'pval']].copy()\n",
    "    # fdr correction p-value\n",
    "    p_adj = fdrcorrection(dfp['pval'].to_numpy(), is_sorted=False)\n",
    "    dfp['fdr'] = p_adj[1]\n",
    "    fdr_res.append(dfp[['id.exposure', 'method', 'fdr']])"
   ],
   "metadata": {
    "collapsed": false,
    "ExecuteTime": {
     "end_time": "2023-07-22T07:09:40.907504500Z",
     "start_time": "2023-07-22T07:09:40.892610600Z"
    }
   }
  },
  {
   "cell_type": "code",
   "execution_count": 84,
   "outputs": [],
   "source": [
    "df_fdr_res = pd.concat(fdr_res, axis=0)"
   ],
   "metadata": {
    "collapsed": false,
    "ExecuteTime": {
     "end_time": "2023-07-22T07:09:40.950579Z",
     "start_time": "2023-07-22T07:09:40.906499800Z"
    }
   }
  },
  {
   "cell_type": "code",
   "execution_count": 85,
   "outputs": [],
   "source": [
    "# merge with original result\n",
    "df = pd.merge(df, df_fdr_res, on=['id.exposure', 'method'])"
   ],
   "metadata": {
    "collapsed": false,
    "ExecuteTime": {
     "end_time": "2023-07-22T07:09:40.951575700Z",
     "start_time": "2023-07-22T07:09:40.921010Z"
    }
   }
  },
  {
   "cell_type": "code",
   "execution_count": 86,
   "outputs": [],
   "source": [
    "# merge mr egger test result\n",
    "df_plei.rename(columns={'pval': 'egger_pval', 'se': 'egger_se'}, inplace=True)\n",
    "df_plei.drop(columns=['id.outcome', 'outcome', 'exposure'], inplace=True)\n",
    "df = pd.merge(df, df_plei, on=['id.exposure'], how='left')"
   ],
   "metadata": {
    "collapsed": false,
    "ExecuteTime": {
     "end_time": "2023-07-22T07:09:40.951575700Z",
     "start_time": "2023-07-22T07:09:40.950579Z"
    }
   }
  },
  {
   "cell_type": "code",
   "execution_count": 87,
   "outputs": [],
   "source": [
    "df_drug_info = pd.read_csv(f'data/pqtls_deCODE_{pheno}.csv')\n",
    "df_drug_info = df_drug_info[['SeqId', 'Protein (short name)', 'Protein (full name)', 'Gene', 'UniProt', 'Ensembl.Gene.ID']]\n",
    "df = pd.merge(df_drug_info, df, on='SeqId')"
   ],
   "metadata": {
    "collapsed": false,
    "ExecuteTime": {
     "end_time": "2023-07-22T07:09:40.969871Z",
     "start_time": "2023-07-22T07:09:40.952572100Z"
    }
   }
  },
  {
   "cell_type": "code",
   "execution_count": 88,
   "outputs": [],
   "source": [
    "# find significant results\n",
    "df['significant'] = (df['fdr'] < 0.05).astype(int)\n",
    "df.to_csv(os.path.join(res_path, f'mr_res_{pqtl_type}_all.csv'), index=False)"
   ],
   "metadata": {
    "collapsed": false,
    "ExecuteTime": {
     "end_time": "2023-07-22T07:09:40.985370400Z",
     "start_time": "2023-07-22T07:09:40.967877600Z"
    }
   }
  },
  {
   "cell_type": "code",
   "execution_count": 89,
   "outputs": [],
   "source": [
    "# significant results only ivw or wald ratio\n",
    "df_ivw = df[df['fdr'] < 0.05]\n",
    "df_ivw = df_ivw[((df_ivw['nsnp'] <= 2) | ((df_ivw['nsnp'] > 2) & (df_ivw['egger_pval'] > 0.05) & (df_ivw['method'] == 'Inverse variance weighted')))]\n",
    "df_ivw.to_csv(os.path.join(res_path, f'mr_significant_{pqtl_type}.csv') , index=False)"
   ],
   "metadata": {
    "collapsed": false,
    "ExecuteTime": {
     "end_time": "2023-07-22T07:09:40.996419200Z",
     "start_time": "2023-07-22T07:09:40.982380300Z"
    }
   }
  },
  {
   "cell_type": "code",
   "execution_count": 90,
   "outputs": [],
   "source": [
    "# count significant method for each druggable gene\n",
    "# df_grouped = df.groupby(['id.exposure'])['significant'].sum()\n",
    "# df_grouped = pd.DataFrame(df_grouped).reset_index()\n",
    "# df_grouped.rename(columns={'significant': 'significant_num'}, inplace=True)"
   ],
   "metadata": {
    "collapsed": false,
    "ExecuteTime": {
     "end_time": "2023-07-22T07:09:41.013585500Z",
     "start_time": "2023-07-22T07:09:40.996419200Z"
    }
   }
  },
  {
   "cell_type": "code",
   "execution_count": 91,
   "outputs": [],
   "source": [
    "# df = pd.merge(df, df_grouped, on='id.exposure')"
   ],
   "metadata": {
    "collapsed": false,
    "ExecuteTime": {
     "end_time": "2023-07-22T07:09:41.027061Z",
     "start_time": "2023-07-22T07:09:41.012588500Z"
    }
   }
  },
  {
   "cell_type": "code",
   "execution_count": 92,
   "outputs": [],
   "source": [
    "# select significant results: <=2 snp: only 1 method, >=3 snps: 5 method, at least 3 method must be significant\n",
    "# df_significant = df[(((df['nsnp'] <= 2) & (df['significant_num'] == 1)) | ((df['nsnp'] > 2) & (df['significant_num'] > 2)))].copy()"
   ],
   "metadata": {
    "collapsed": false,
    "ExecuteTime": {
     "end_time": "2023-07-22T07:09:41.043548300Z",
     "start_time": "2023-07-22T07:09:41.028246300Z"
    }
   }
  },
  {
   "cell_type": "code",
   "execution_count": 93,
   "outputs": [],
   "source": [
    "# if MR egger can not be done, set p-value = 1\n",
    "# df_significant['egger_pval'].fillna(1, inplace=True)\n",
    "# print(df_significant['egger_pval'])"
   ],
   "metadata": {
    "collapsed": false,
    "ExecuteTime": {
     "end_time": "2023-07-22T07:09:41.056322300Z",
     "start_time": "2023-07-22T07:09:41.041554600Z"
    }
   }
  },
  {
   "cell_type": "code",
   "execution_count": 94,
   "outputs": [],
   "source": [
    "# remove results with horizontal pleiotropy\n",
    "# df_significant = df_significant[df_significant['egger_pval'] > 0.05]"
   ],
   "metadata": {
    "collapsed": false,
    "ExecuteTime": {
     "end_time": "2023-07-22T07:09:41.073680800Z",
     "start_time": "2023-07-22T07:09:41.056322300Z"
    }
   }
  },
  {
   "cell_type": "code",
   "execution_count": 95,
   "outputs": [],
   "source": [
    "# df_significant.to_csv(os.path.join(res_path, f'mr_significant_{pqtl_type}_5methods.csv') , index=False)"
   ],
   "metadata": {
    "collapsed": false,
    "ExecuteTime": {
     "end_time": "2023-07-22T07:09:41.087658Z",
     "start_time": "2023-07-22T07:09:41.071687800Z"
    }
   }
  },
  {
   "cell_type": "code",
   "execution_count": 95,
   "outputs": [],
   "source": [],
   "metadata": {
    "collapsed": false,
    "ExecuteTime": {
     "end_time": "2023-07-22T07:09:41.102653100Z",
     "start_time": "2023-07-22T07:09:41.086469900Z"
    }
   }
  },
  {
   "cell_type": "code",
   "execution_count": 95,
   "outputs": [],
   "source": [],
   "metadata": {
    "collapsed": false,
    "ExecuteTime": {
     "end_time": "2023-07-22T07:09:41.116640500Z",
     "start_time": "2023-07-22T07:09:41.101656500Z"
    }
   }
  }
 ],
 "metadata": {
  "kernelspec": {
   "display_name": "Python 3",
   "language": "python",
   "name": "python3"
  },
  "language_info": {
   "codemirror_mode": {
    "name": "ipython",
    "version": 2
   },
   "file_extension": ".py",
   "mimetype": "text/x-python",
   "name": "python",
   "nbconvert_exporter": "python",
   "pygments_lexer": "ipython2",
   "version": "2.7.6"
  }
 },
 "nbformat": 4,
 "nbformat_minor": 0
}
