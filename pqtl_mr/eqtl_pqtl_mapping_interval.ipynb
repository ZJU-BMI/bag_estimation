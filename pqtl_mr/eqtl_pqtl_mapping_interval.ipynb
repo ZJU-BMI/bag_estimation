{
 "cells": [
  {
   "cell_type": "code",
   "execution_count": 4,
   "metadata": {
    "collapsed": true,
    "ExecuteTime": {
     "end_time": "2024-01-04T07:06:24.750640400Z",
     "start_time": "2024-01-04T07:06:24.736108900Z"
    }
   },
   "outputs": [],
   "source": [
    "import pandas as pd"
   ]
  },
  {
   "cell_type": "code",
   "execution_count": 5,
   "outputs": [],
   "source": [
    "# df_eqtls_bag3 = pd.read_excel('data/mr_eqtl_significant.xlsx', sheet_name='BAG > 3 years')\n",
    "# df_eqtls_bagm3 = pd.read_excel('data/mr_eqtl_significant.xlsx', sheet_name='BAG < -3 years')\n",
    "df_eqtls_bag = pd.read_excel('data/results_mr_coloc_significant.xlsx', sheet_name='BAG eqtl')"
   ],
   "metadata": {
    "collapsed": false,
    "ExecuteTime": {
     "end_time": "2024-01-04T07:06:24.804149200Z",
     "start_time": "2024-01-04T07:06:24.741726400Z"
    }
   }
  },
  {
   "cell_type": "code",
   "execution_count": 6,
   "outputs": [],
   "source": [
    "df_pqtls = pd.read_csv('data/SOMALOGIC_GWAS_protein_info.csv')"
   ],
   "metadata": {
    "collapsed": false,
    "ExecuteTime": {
     "end_time": "2024-01-04T07:06:24.828741300Z",
     "start_time": "2024-01-04T07:06:24.805150Z"
    }
   }
  },
  {
   "cell_type": "code",
   "execution_count": 7,
   "outputs": [],
   "source": [
    "df_pqtls['hgnc_names'] = [name.split('.')[0] for name in df_pqtls['SOMAMER_ID'].tolist()]"
   ],
   "metadata": {
    "collapsed": false,
    "ExecuteTime": {
     "end_time": "2024-01-04T07:06:24.834987900Z",
     "start_time": "2024-01-04T07:06:24.822729100Z"
    }
   }
  },
  {
   "cell_type": "code",
   "execution_count": 8,
   "outputs": [],
   "source": [
    "# df_usable_pqtls_bag3 = pd.merge(df_pqtls, df_eqtls_bag3, on='hgnc_names')\n",
    "# df_usable_pqtls_bagm3 = pd.merge(df_pqtls, df_eqtls_bagm3, on='hgnc_names')\n",
    "df_usable_pqtls_bag = pd.merge(df_pqtls, df_eqtls_bag, on='hgnc_names')"
   ],
   "metadata": {
    "collapsed": false,
    "ExecuteTime": {
     "end_time": "2024-01-04T07:06:24.865814500Z",
     "start_time": "2024-01-04T07:06:24.830469400Z"
    }
   }
  },
  {
   "cell_type": "code",
   "execution_count": 9,
   "outputs": [],
   "source": [
    "# df_usable_pqtls_bag3.to_csv(f'data/pqtls_interval_bag3.csv', index=False, columns=df_usable_pqtls_bag3[1:5])"
   ],
   "metadata": {
    "collapsed": false,
    "ExecuteTime": {
     "end_time": "2024-01-04T07:06:24.866929900Z",
     "start_time": "2024-01-04T07:06:24.841142600Z"
    }
   }
  },
  {
   "cell_type": "code",
   "execution_count": 10,
   "outputs": [],
   "source": [
    "# df_usable_pqtls_bagm3.to_csv(f'data/pqtls_interval_bagm3.csv', index=False, columns=df_usable_pqtls_bag3[1:5])"
   ],
   "metadata": {
    "collapsed": false,
    "ExecuteTime": {
     "end_time": "2024-01-04T07:06:24.866929900Z",
     "start_time": "2024-01-04T07:06:24.845233700Z"
    }
   }
  },
  {
   "cell_type": "code",
   "execution_count": 11,
   "outputs": [],
   "source": [
    "df_usable_pqtls_bag.to_csv(f'data/pqtls_interval_bag.csv', index=False, columns=df_usable_pqtls_bag[1:5])"
   ],
   "metadata": {
    "collapsed": false,
    "ExecuteTime": {
     "end_time": "2024-01-04T07:06:24.898188700Z",
     "start_time": "2024-01-04T07:06:24.851169100Z"
    }
   }
  },
  {
   "cell_type": "code",
   "execution_count": 11,
   "outputs": [],
   "source": [],
   "metadata": {
    "collapsed": false,
    "ExecuteTime": {
     "end_time": "2024-01-04T07:06:24.899256600Z",
     "start_time": "2024-01-04T07:06:24.864215Z"
    }
   }
  }
 ],
 "metadata": {
  "kernelspec": {
   "display_name": "Python 3",
   "language": "python",
   "name": "python3"
  },
  "language_info": {
   "codemirror_mode": {
    "name": "ipython",
    "version": 2
   },
   "file_extension": ".py",
   "mimetype": "text/x-python",
   "name": "python",
   "nbconvert_exporter": "python",
   "pygments_lexer": "ipython2",
   "version": "2.7.6"
  }
 },
 "nbformat": 4,
 "nbformat_minor": 0
}
