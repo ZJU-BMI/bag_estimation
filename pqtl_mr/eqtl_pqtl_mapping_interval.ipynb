{
 "cells": [
  {
   "cell_type": "code",
   "execution_count": 8,
   "metadata": {
    "collapsed": true,
    "ExecuteTime": {
     "end_time": "2023-07-21T07:52:45.201165900Z",
     "start_time": "2023-07-21T07:52:45.190733200Z"
    }
   },
   "outputs": [],
   "source": [
    "import pandas as pd"
   ]
  },
  {
   "cell_type": "code",
   "execution_count": 9,
   "outputs": [],
   "source": [
    "df_eqtls_bag3 = pd.read_excel('data/mr_eqtl_significant.xlsx', sheet_name='BAG > 3 years')\n",
    "df_eqtls_bagm3 = pd.read_excel('data/mr_eqtl_significant.xlsx', sheet_name='BAG < -3 years')"
   ],
   "metadata": {
    "collapsed": false,
    "ExecuteTime": {
     "end_time": "2023-07-21T07:52:45.251244600Z",
     "start_time": "2023-07-21T07:52:45.201165900Z"
    }
   }
  },
  {
   "cell_type": "code",
   "execution_count": 10,
   "outputs": [],
   "source": [
    "df_pqtls = pd.read_csv('data/SOMALOGIC_GWAS_protein_info.csv')"
   ],
   "metadata": {
    "collapsed": false,
    "ExecuteTime": {
     "end_time": "2023-07-21T07:52:45.261448700Z",
     "start_time": "2023-07-21T07:52:45.251244600Z"
    }
   }
  },
  {
   "cell_type": "code",
   "execution_count": 11,
   "outputs": [],
   "source": [
    "df_pqtls['hgnc_names'] = [name.split('.')[0] for name in df_pqtls['SOMAMER_ID'].tolist()]"
   ],
   "metadata": {
    "collapsed": false,
    "ExecuteTime": {
     "end_time": "2023-07-21T07:52:45.271657400Z",
     "start_time": "2023-07-21T07:52:45.261448700Z"
    }
   }
  },
  {
   "cell_type": "code",
   "execution_count": 12,
   "outputs": [],
   "source": [
    "df_usable_pqtls_bag3 = pd.merge(df_pqtls, df_eqtls_bag3, on='hgnc_names')\n",
    "df_usable_pqtls_bagm3 = pd.merge(df_pqtls, df_eqtls_bagm3, on='hgnc_names')"
   ],
   "metadata": {
    "collapsed": false,
    "ExecuteTime": {
     "end_time": "2023-07-21T07:52:45.286709900Z",
     "start_time": "2023-07-21T07:52:45.271657400Z"
    }
   }
  },
  {
   "cell_type": "code",
   "execution_count": 13,
   "outputs": [],
   "source": [
    "df_usable_pqtls_bag3.to_csv(f'data/pqtls_interval_bag3.csv', index=False, columns=df_usable_pqtls_bag3[1:5])"
   ],
   "metadata": {
    "collapsed": false,
    "ExecuteTime": {
     "end_time": "2023-07-21T07:52:45.297236400Z",
     "start_time": "2023-07-21T07:52:45.281706300Z"
    }
   }
  },
  {
   "cell_type": "code",
   "execution_count": 14,
   "outputs": [],
   "source": [
    "df_usable_pqtls_bagm3.to_csv(f'data/pqtls_interval_bagm3.csv', index=False, columns=df_usable_pqtls_bag3[1:5])"
   ],
   "metadata": {
    "collapsed": false,
    "ExecuteTime": {
     "end_time": "2023-07-21T07:52:45.322291800Z",
     "start_time": "2023-07-21T07:52:45.291731100Z"
    }
   }
  },
  {
   "cell_type": "code",
   "execution_count": 14,
   "outputs": [],
   "source": [],
   "metadata": {
    "collapsed": false,
    "ExecuteTime": {
     "end_time": "2023-07-21T07:52:45.342363800Z",
     "start_time": "2023-07-21T07:52:45.302254300Z"
    }
   }
  },
  {
   "cell_type": "code",
   "execution_count": 14,
   "outputs": [],
   "source": [],
   "metadata": {
    "collapsed": false,
    "ExecuteTime": {
     "end_time": "2023-07-21T07:52:45.342363800Z",
     "start_time": "2023-07-21T07:52:45.322291800Z"
    }
   }
  }
 ],
 "metadata": {
  "kernelspec": {
   "display_name": "Python 3",
   "language": "python",
   "name": "python3"
  },
  "language_info": {
   "codemirror_mode": {
    "name": "ipython",
    "version": 2
   },
   "file_extension": ".py",
   "mimetype": "text/x-python",
   "name": "python",
   "nbconvert_exporter": "python",
   "pygments_lexer": "ipython2",
   "version": "2.7.6"
  }
 },
 "nbformat": 4,
 "nbformat_minor": 0
}
