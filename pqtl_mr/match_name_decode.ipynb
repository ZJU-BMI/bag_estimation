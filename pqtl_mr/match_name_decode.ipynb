{
 "cells": [
  {
   "cell_type": "code",
   "execution_count": 1,
   "id": "initial_id",
   "metadata": {
    "collapsed": true,
    "ExecuteTime": {
     "end_time": "2024-01-04T07:34:24.471397600Z",
     "start_time": "2024-01-04T07:34:23.756246300Z"
    }
   },
   "outputs": [],
   "source": [
    "import pandas as pd\n",
    "import os"
   ]
  },
  {
   "cell_type": "code",
   "execution_count": 2,
   "outputs": [],
   "source": [
    "df = pd.read_csv('data/pqtls_deCODE_bag.csv')"
   ],
   "metadata": {
    "collapsed": false,
    "ExecuteTime": {
     "end_time": "2024-01-04T07:34:24.489052700Z",
     "start_time": "2024-01-04T07:34:24.473008600Z"
    }
   },
   "id": "1a3142b5034482b8"
  },
  {
   "cell_type": "code",
   "execution_count": 3,
   "outputs": [],
   "source": [
    "seq_ids = df['SeqId'].tolist()"
   ],
   "metadata": {
    "collapsed": false,
    "ExecuteTime": {
     "end_time": "2024-01-04T07:34:24.503069200Z",
     "start_time": "2024-01-04T07:34:24.490183100Z"
    }
   },
   "id": "4d5c0fd3bfd0dcbb"
  },
  {
   "cell_type": "code",
   "execution_count": 4,
   "outputs": [],
   "source": [
    "protein_files = os.listdir('deCODE_pqtl_data_significant')"
   ],
   "metadata": {
    "collapsed": false,
    "ExecuteTime": {
     "end_time": "2024-01-04T07:34:24.503583800Z",
     "start_time": "2024-01-04T07:34:24.495453800Z"
    }
   },
   "id": "669a2934479fc4ce"
  },
  {
   "cell_type": "code",
   "execution_count": 5,
   "outputs": [],
   "source": [
    "protein_name = []\n",
    "for idx in seq_ids:\n",
    "    for file in protein_files:\n",
    "        if file.startswith(idx):\n",
    "            protein_name.append(file)\n",
    "            continue"
   ],
   "metadata": {
    "collapsed": false,
    "ExecuteTime": {
     "end_time": "2024-01-04T07:34:24.521879700Z",
     "start_time": "2024-01-04T07:34:24.503069200Z"
    }
   },
   "id": "b0a8b340a2f807eb"
  },
  {
   "cell_type": "code",
   "execution_count": 6,
   "outputs": [],
   "source": [
    "df['ProteinName'] = protein_name\n",
    "df.to_csv('data/pqtls_deCODE_bag.csv', index=False)"
   ],
   "metadata": {
    "collapsed": false,
    "ExecuteTime": {
     "end_time": "2024-01-04T07:34:24.521879700Z",
     "start_time": "2024-01-04T07:34:24.508743300Z"
    }
   },
   "id": "71b41cfdc3d1377"
  },
  {
   "cell_type": "code",
   "execution_count": 6,
   "outputs": [],
   "source": [],
   "metadata": {
    "collapsed": false,
    "ExecuteTime": {
     "end_time": "2024-01-04T07:34:24.529227500Z",
     "start_time": "2024-01-04T07:34:24.519756200Z"
    }
   },
   "id": "7fc21e3dc85e12be"
  }
 ],
 "metadata": {
  "kernelspec": {
   "display_name": "Python 3",
   "language": "python",
   "name": "python3"
  },
  "language_info": {
   "codemirror_mode": {
    "name": "ipython",
    "version": 2
   },
   "file_extension": ".py",
   "mimetype": "text/x-python",
   "name": "python",
   "nbconvert_exporter": "python",
   "pygments_lexer": "ipython2",
   "version": "2.7.6"
  }
 },
 "nbformat": 4,
 "nbformat_minor": 5
}
