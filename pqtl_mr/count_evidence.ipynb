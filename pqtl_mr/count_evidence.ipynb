{
 "cells": [
  {
   "cell_type": "code",
   "execution_count": 23,
   "id": "initial_id",
   "metadata": {
    "collapsed": true,
    "ExecuteTime": {
     "end_time": "2024-01-04T14:39:21.263720400Z",
     "start_time": "2024-01-04T14:39:21.253203900Z"
    }
   },
   "outputs": [],
   "source": [
    "import numpy as np\n",
    "import pandas as pd"
   ]
  },
  {
   "cell_type": "code",
   "execution_count": 24,
   "outputs": [],
   "source": [
    "df_eqtl = pd.read_excel('data/results_mr_coloc_significant.xlsx', sheet_name='BAG eqtl')\n",
    "df_eqtl_coloc = pd.read_excel('data/results_mr_coloc_significant.xlsx', sheet_name='BAG eqtl coloc')"
   ],
   "metadata": {
    "collapsed": false,
    "ExecuteTime": {
     "end_time": "2024-01-04T14:39:21.309769500Z",
     "start_time": "2024-01-04T14:39:21.261210400Z"
    }
   },
   "id": "c3354ebc41f4edcf"
  },
  {
   "cell_type": "code",
   "execution_count": 25,
   "outputs": [
    {
     "name": "stdout",
     "output_type": "stream",
     "text": [
      "64\n"
     ]
    }
   ],
   "source": [
    "df_evidence = df_eqtl[['hgnc_names', 'druggability_tier']].copy()\n",
    "# Drop duplicates\n",
    "df_evidence.drop_duplicates(inplace=True)\n",
    "print(len(df_evidence))"
   ],
   "metadata": {
    "collapsed": false,
    "ExecuteTime": {
     "end_time": "2024-01-04T14:39:21.323327600Z",
     "start_time": "2024-01-04T14:39:21.311770100Z"
    }
   },
   "id": "4668ea9e6774aed2"
  },
  {
   "cell_type": "code",
   "execution_count": 26,
   "outputs": [],
   "source": [
    "# evidence num in MR eqtl in blood and brain tissues\n",
    "mr_eqtl_blood_cnt = df_eqtl[df_eqtl['eQTL_type'] == 'Blood eQTL']['hgnc_names'].value_counts().reset_index()\n",
    "mr_eqtl_blood_cnt.columns = ['hgnc_names', 'eQTL_MR_blood']\n",
    "mr_eqtl_brain_cnt = df_eqtl[df_eqtl['eQTL_type'] == 'Brain Tissue eQTL']['hgnc_names'].value_counts().reset_index()\n",
    "mr_eqtl_brain_cnt.columns = ['hgnc_names', 'eQTL_MR_brain']\n",
    "\n",
    "# evidence num in MR eqtl coloc in blood and brain tissues\n",
    "mr_eqtl_blood_coloc_cnt = df_eqtl_coloc[df_eqtl_coloc['eQTL_type'] == 'Blood eQTL']['hgnc_names'].value_counts().reset_index()\n",
    "mr_eqtl_blood_coloc_cnt.columns = ['hgnc_names', 'eQTL_coloc_blood']\n",
    "mr_eqtl_brain_coloc_cnt = df_eqtl_coloc[df_eqtl_coloc['eQTL_type'] == 'Brain Tissue eQTL']['hgnc_names'].value_counts().reset_index()\n",
    "mr_eqtl_brain_coloc_cnt.columns = ['hgnc_names', 'eQTL_coloc_brain']\n",
    "\n",
    "mr_eqtl_coloc_cnt = df_eqtl_coloc['hgnc_names'].value_counts().reset_index()\n",
    "mr_eqtl_coloc_cnt.columns = ['hgnc_names', 'eQTL_coloc']"
   ],
   "metadata": {
    "collapsed": false,
    "ExecuteTime": {
     "end_time": "2024-01-04T14:39:21.324331100Z",
     "start_time": "2024-01-04T14:39:21.317805400Z"
    }
   },
   "id": "cf74389386b51300"
  },
  {
   "cell_type": "code",
   "outputs": [],
   "source": [
    "# merge evidence in MR and coloc\n",
    "df_evidence_blood_eqtl = mr_eqtl_blood_cnt.merge(mr_eqtl_blood_coloc_cnt, on='hgnc_names', how='left')\n",
    "df_evidence_brain_eqtl = mr_eqtl_brain_cnt.merge(mr_eqtl_brain_coloc_cnt, on='hgnc_names', how='left')\n",
    "# set NAN to -1\n",
    "df_evidence_blood_eqtl.fillna(-1, inplace=True)\n",
    "df_evidence_brain_eqtl.fillna(-1, inplace=True)"
   ],
   "metadata": {
    "collapsed": false,
    "ExecuteTime": {
     "end_time": "2024-01-04T14:39:21.327205100Z",
     "start_time": "2024-01-04T14:39:21.323327600Z"
    }
   },
   "id": "ca5f57d2c2ee5b6",
   "execution_count": 27
  },
  {
   "cell_type": "code",
   "outputs": [],
   "source": [
    "# evidence num in pQTL in INTERVAL and deCODE cohorts\n",
    "df_pqtl_interval = pd.read_csv('results_interval_bag/mr_res_complete.csv')\n",
    "df_pqtl_decode = pd.read_csv('results_decode_bag/mr_res_blood_all.csv')\n",
    "\n",
    "# keep results with MR egger p-value > 0.05\n",
    "df_pqtl_interval = df_pqtl_interval[df_pqtl_interval['egger_pval'] > 0.05]\n",
    "df_pqtl_decode = df_pqtl_decode[df_pqtl_decode['egger_pval'] > 0.05]\n",
    "\n",
    "df_pqtl_coloc = pd.read_csv('coloc_results/coloc_results_bag.csv')\n",
    "df_pqtl_coloc_interval = df_pqtl_coloc[df_pqtl_coloc['Source'] == 'INTERVAL'].copy()\n",
    "df_pqtl_coloc_decode = df_pqtl_coloc[df_pqtl_coloc['Source'] == 'deCODE'].copy()\n",
    "\n",
    "# keep only Inverse variance weighted', 'Wald ratio' methods\n",
    "df_pqtl_interval = df_pqtl_interval[df_pqtl_interval['method'].isin(['Inverse variance weighted', 'Wald ratio'])]\n",
    "df_pqtl_decode = df_pqtl_decode[df_pqtl_decode['method'].isin(['Inverse variance weighted', 'Wald ratio'])]\n",
    "\n",
    "# keep results with MR egger p-value > 0.05\n",
    "df_pqtl_interval = df_pqtl_interval[df_pqtl_interval['egger_pval'] > 0.05]\n",
    "df_pqtl_decode = df_pqtl_decode[df_pqtl_decode['egger_pval'] > 0.05]\n",
    "\n",
    "df_pqtl_interval = df_pqtl_interval[['hgnc_names', 'significant']].copy()\n",
    "df_pqtl_interval.columns = ['hgnc_names', 'pqtl_interval']\n",
    "df_pqtl_decode = df_pqtl_decode[['Gene', 'significant']].copy()\n",
    "df_pqtl_decode.columns = ['hgnc_names', 'pqtl_decode']\n",
    "\n",
    "# significant coloc results\n",
    "df_pqtl_coloc_interval['significant'] = 1\n",
    "df_pqtl_coloc_decode['significant'] = 1\n",
    "df_pqtl_coloc_interval = df_pqtl_coloc_interval[['Gene', 'significant']].copy()\n",
    "df_pqtl_coloc_interval.columns = ['hgnc_names', 'pqtl_coloc_interval']\n",
    "df_pqtl_coloc_decode = df_pqtl_coloc_decode[['Gene', 'significant']].copy()\n",
    "df_pqtl_coloc_decode.columns = ['hgnc_names', 'pqtl_coloc_decode']"
   ],
   "metadata": {
    "collapsed": false,
    "ExecuteTime": {
     "end_time": "2024-01-04T14:39:21.383589800Z",
     "start_time": "2024-01-04T14:39:21.330206700Z"
    }
   },
   "id": "3f9c5273dc8d1cad",
   "execution_count": 28
  },
  {
   "cell_type": "code",
   "outputs": [],
   "source": [
    "# merge evidence in MR and coloc for INTERVAL and deCODE, keep left and right\n",
    "df_evidence_pqtl_interval = df_pqtl_interval.merge(df_pqtl_coloc_interval, on='hgnc_names', how='outer')\n",
    "df_evidence_pqtl_decode = df_pqtl_decode.merge(df_pqtl_coloc_decode, on='hgnc_names', how='outer')\n",
    "# set NAN to -1\n",
    "df_evidence_pqtl_interval.fillna(-1, inplace=True)\n",
    "df_evidence_pqtl_decode.fillna(-1, inplace=True)"
   ],
   "metadata": {
    "collapsed": false,
    "ExecuteTime": {
     "end_time": "2024-01-04T14:39:21.383589800Z",
     "start_time": "2024-01-04T14:39:21.353842700Z"
    }
   },
   "id": "fec6aa2ed94110a6",
   "execution_count": 29
  },
  {
   "cell_type": "code",
   "outputs": [],
   "source": [
    "# merge all evidence\n",
    "df_evidence = df_evidence.merge(df_evidence_blood_eqtl, on='hgnc_names', how='left')\n",
    "df_evidence = df_evidence.merge(df_evidence_brain_eqtl, on='hgnc_names', how='left')\n",
    "df_evidence = df_evidence.merge(df_evidence_pqtl_interval, on='hgnc_names', how='left')\n",
    "df_evidence = df_evidence.merge(df_evidence_pqtl_decode, on='hgnc_names', how='left')"
   ],
   "metadata": {
    "collapsed": false,
    "ExecuteTime": {
     "end_time": "2024-01-04T14:39:21.384590600Z",
     "start_time": "2024-01-04T14:39:21.361004600Z"
    }
   },
   "id": "1fc35fd022f527e2",
   "execution_count": 30
  },
  {
   "cell_type": "code",
   "outputs": [],
   "source": [
    "# set NAN to 0 and -1 to nan\n",
    "# 1: significant, -1: tested not significant, 0: not tested\n",
    "df_evidence.fillna(0, inplace=True)"
   ],
   "metadata": {
    "collapsed": false,
    "ExecuteTime": {
     "end_time": "2024-01-04T14:39:21.384590600Z",
     "start_time": "2024-01-04T14:39:21.367071700Z"
    }
   },
   "id": "4c1a2576c8fa99b3",
   "execution_count": 31
  },
  {
   "cell_type": "code",
   "outputs": [
    {
     "name": "stdout",
     "output_type": "stream",
     "text": [
      "525\n"
     ]
    }
   ],
   "source": [
    "# merge with drug count\n",
    "# drugs for the genes\n",
    "df_drugs = pd.read_csv('data/gene_drug_Mergedindication_beta_direction.tsv', sep='\\t')\n",
    "# remove drugs with direction of 'N'\n",
    "# df_drugs = df_drugs[df_drugs['direction'] != 'N']\n",
    "print(len(df_drugs))"
   ],
   "metadata": {
    "collapsed": false,
    "ExecuteTime": {
     "end_time": "2024-01-04T14:39:21.385589400Z",
     "start_time": "2024-01-04T14:39:21.371130100Z"
    }
   },
   "id": "7aff874a4cb3ff3c",
   "execution_count": 32
  },
  {
   "cell_type": "code",
   "outputs": [
    {
     "name": "stdout",
     "output_type": "stream",
     "text": [
      "36\n"
     ]
    }
   ],
   "source": [
    "ageing_drugs = df_drugs[df_drugs['agingdrug'] == 'Y']\n",
    "print(len(ageing_drugs))"
   ],
   "metadata": {
    "collapsed": false,
    "ExecuteTime": {
     "end_time": "2024-01-04T14:39:21.385959200Z",
     "start_time": "2024-01-04T14:39:21.380129200Z"
    }
   },
   "id": "32ef477a7d298eac",
   "execution_count": 33
  },
  {
   "cell_type": "code",
   "execution_count": 34,
   "outputs": [],
   "source": [
    "# count drugs for each gene\n",
    "drug_cnt = df_drugs.groupby('gene').count().reset_index()\n",
    "ageing_drug_cnt = ageing_drugs.groupby('gene').count().reset_index()"
   ],
   "metadata": {
    "collapsed": false,
    "ExecuteTime": {
     "end_time": "2024-01-04T14:39:21.431568600Z",
     "start_time": "2024-01-04T14:39:21.382586200Z"
    }
   },
   "id": "da79bced0c4ba02a"
  },
  {
   "cell_type": "code",
   "outputs": [],
   "source": [
    "drug_cnt = drug_cnt[['gene', 'drug.x']]\n",
    "ageing_drug_cnt = ageing_drug_cnt[['gene', 'drug.x']]\n",
    "# rename columns\n",
    "drug_cnt.columns = ['hgnc_names', 'drug_cnt']\n",
    "ageing_drug_cnt.columns = ['hgnc_names', 'ageing_drug_cnt']\n",
    "# merge drug count\n",
    "df_evidence = df_evidence.merge(drug_cnt, on='hgnc_names', how='left')\n",
    "df_evidence = df_evidence.merge(ageing_drug_cnt, on='hgnc_names', how='left')"
   ],
   "metadata": {
    "collapsed": false,
    "ExecuteTime": {
     "end_time": "2024-01-04T14:39:21.432569Z",
     "start_time": "2024-01-04T14:39:21.388467300Z"
    }
   },
   "id": "e7a3d87eaec669ec",
   "execution_count": 35
  },
  {
   "cell_type": "code",
   "outputs": [
    {
     "data": {
      "text/plain": "Index(['hgnc_names', 'druggability_tier', 'eQTL_MR_blood', 'eQTL_coloc_blood',\n       'eQTL_MR_brain', 'eQTL_coloc_brain', 'pqtl_interval',\n       'pqtl_coloc_interval', 'pqtl_decode', 'pqtl_coloc_decode', 'drug_cnt',\n       'ageing_drug_cnt'],\n      dtype='object')"
     },
     "execution_count": 36,
     "metadata": {},
     "output_type": "execute_result"
    }
   ],
   "source": [
    "# set NAN to 0\n",
    "df_evidence.fillna(0, inplace=True)\n",
    "df_evidence.columns"
   ],
   "metadata": {
    "collapsed": false,
    "ExecuteTime": {
     "end_time": "2024-01-04T14:39:21.432569Z",
     "start_time": "2024-01-04T14:39:21.393974300Z"
    }
   },
   "id": "a89e331141f2e58a",
   "execution_count": 36
  },
  {
   "cell_type": "code",
   "execution_count": 37,
   "outputs": [],
   "source": [
    "# convert to int\n",
    "df_evidence['eQTL_MR_blood'] = df_evidence['eQTL_MR_blood'].astype(int)\n",
    "df_evidence['eQTL_MR_brain'] = df_evidence['eQTL_MR_brain'].astype(int)\n",
    "df_evidence['eQTL_coloc_blood'] = df_evidence['eQTL_coloc_blood'].astype(int)\n",
    "df_evidence['eQTL_coloc_brain'] = df_evidence['eQTL_coloc_brain'].astype(int)\n",
    "df_evidence['pqtl_interval'] = df_evidence['pqtl_interval'].astype(int)\n",
    "df_evidence['pqtl_decode'] = df_evidence['pqtl_decode'].astype(int)\n",
    "df_evidence['pqtl_coloc_decode'] = df_evidence['pqtl_coloc_decode'].astype(int)\n",
    "df_evidence['pqtl_coloc_interval'] = df_evidence['pqtl_coloc_interval'].astype(int)\n",
    "df_evidence['drug_cnt'] = df_evidence['drug_cnt'].astype(int)\n",
    "df_evidence['ageing_drug_cnt'] = df_evidence['ageing_drug_cnt'].astype(int)"
   ],
   "metadata": {
    "collapsed": false,
    "ExecuteTime": {
     "end_time": "2024-01-04T14:39:21.434287500Z",
     "start_time": "2024-01-04T14:39:21.397567100Z"
    }
   },
   "id": "4bf7709fcc0bcd9b"
  },
  {
   "cell_type": "code",
   "execution_count": 38,
   "outputs": [],
   "source": [
    "# count evidence: -1 as 0\n",
    "df_evidence['evidence_count'] = df_evidence['eQTL_MR_blood'].replace(-1, 0) + df_evidence['eQTL_MR_brain'].replace(-1, 0) + \\\n",
    "                                df_evidence['eQTL_coloc_blood'].replace(-1, 0) + df_evidence['eQTL_coloc_brain'].replace(-1, 0) + \\\n",
    "                                df_evidence['pqtl_interval'].replace(-1, 0) + df_evidence['pqtl_decode'].replace(-1, 0) + \\\n",
    "                                df_evidence['pqtl_coloc_decode'].replace(-1, 0) + df_evidence['pqtl_coloc_interval'].replace(-1, 0)"
   ],
   "metadata": {
    "collapsed": false,
    "ExecuteTime": {
     "end_time": "2024-01-04T14:39:21.434790700Z",
     "start_time": "2024-01-04T14:39:21.403292900Z"
    }
   },
   "id": "482a9740ea319b26"
  },
  {
   "cell_type": "code",
   "execution_count": 39,
   "outputs": [
    {
     "data": {
      "text/plain": "evidence_count\n2    30\n1    27\n3     5\n4     2\nName: count, dtype: int64"
     },
     "execution_count": 39,
     "metadata": {},
     "output_type": "execute_result"
    }
   ],
   "source": [
    "df_evidence['evidence_count'].value_counts()"
   ],
   "metadata": {
    "collapsed": false,
    "ExecuteTime": {
     "end_time": "2024-01-04T14:39:21.434790700Z",
     "start_time": "2024-01-04T14:39:21.408285600Z"
    }
   },
   "id": "103995d902090a37"
  },
  {
   "cell_type": "code",
   "execution_count": 40,
   "outputs": [],
   "source": [
    "# sort by evidence count\n",
    "df_evidence.sort_values(by=['evidence_count', 'ageing_drug_cnt', 'drug_cnt'], ascending=False, inplace=True)"
   ],
   "metadata": {
    "collapsed": false,
    "ExecuteTime": {
     "end_time": "2024-01-04T14:39:21.461409Z",
     "start_time": "2024-01-04T14:39:21.413859100Z"
    }
   },
   "id": "3beb4f4b6cb5b997"
  },
  {
   "cell_type": "code",
   "execution_count": 41,
   "outputs": [],
   "source": [
    "# change column order\n",
    "df_evidence = df_evidence[['hgnc_names', 'druggability_tier', \n",
    "                           'eQTL_MR_blood', 'eQTL_MR_brain', 'eQTL_coloc_blood', 'eQTL_coloc_brain',\n",
    "                           'pqtl_interval', 'pqtl_decode', 'pqtl_coloc_interval', 'pqtl_coloc_decode', \n",
    "                           'drug_cnt', 'ageing_drug_cnt', 'evidence_count']]\n"
   ],
   "metadata": {
    "collapsed": false,
    "ExecuteTime": {
     "end_time": "2024-01-04T14:39:21.503548600Z",
     "start_time": "2024-01-04T14:39:21.434790700Z"
    }
   },
   "id": "64ea26b039120ed2"
  },
  {
   "cell_type": "code",
   "execution_count": 42,
   "outputs": [],
   "source": [
    "# save to excel, sheet name is 'evidence'\n",
    "df_evidence.to_excel('evidence/evidence.xlsx', sheet_name='evidence', index=False)"
   ],
   "metadata": {
    "collapsed": false,
    "ExecuteTime": {
     "end_time": "2024-01-04T14:39:21.518481Z",
     "start_time": "2024-01-04T14:39:21.495040100Z"
    }
   },
   "id": "cf2c28ad82dc1b9c"
  },
  {
   "cell_type": "code",
   "outputs": [],
   "source": [
    "# change column 2 to 9 with:  1 to ✔, -1 to ✘, 0 to ''\n",
    "df_evidence.iloc[:, 2:10] = df_evidence.iloc[:, 2:10].replace(1, '✔').replace(-1, '✘').replace(0, '')"
   ],
   "metadata": {
    "collapsed": false,
    "ExecuteTime": {
     "end_time": "2024-01-04T14:39:21.519485100Z",
     "start_time": "2024-01-04T14:39:21.517977600Z"
    }
   },
   "id": "616744cf7cbf0e76",
   "execution_count": 43
  },
  {
   "cell_type": "code",
   "outputs": [],
   "source": [
    "# save to excel, sheet name is 'evidence'\n",
    "df_evidence.to_excel('evidence/evidence_mark.xlsx', sheet_name='evidence', index=False)"
   ],
   "metadata": {
    "collapsed": false,
    "ExecuteTime": {
     "end_time": "2024-01-04T14:39:21.540787900Z",
     "start_time": "2024-01-04T14:39:21.520484900Z"
    }
   },
   "id": "96ef6784ee9fa63f",
   "execution_count": 44
  },
  {
   "cell_type": "code",
   "outputs": [],
   "source": [],
   "metadata": {
    "collapsed": false,
    "ExecuteTime": {
     "end_time": "2024-01-04T14:39:21.552805700Z",
     "start_time": "2024-01-04T14:39:21.539281400Z"
    }
   },
   "id": "2d957a026eb31ce1",
   "execution_count": 44
  }
 ],
 "metadata": {
  "kernelspec": {
   "display_name": "Python 3",
   "language": "python",
   "name": "python3"
  },
  "language_info": {
   "codemirror_mode": {
    "name": "ipython",
    "version": 2
   },
   "file_extension": ".py",
   "mimetype": "text/x-python",
   "name": "python",
   "nbconvert_exporter": "python",
   "pygments_lexer": "ipython2",
   "version": "2.7.6"
  }
 },
 "nbformat": 4,
 "nbformat_minor": 5
}
