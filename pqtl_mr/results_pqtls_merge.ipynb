{
 "cells": [
  {
   "cell_type": "code",
   "execution_count": 12,
   "metadata": {
    "collapsed": true,
    "ExecuteTime": {
     "end_time": "2023-07-09T08:58:18.100341500Z",
     "start_time": "2023-07-09T08:58:18.089503200Z"
    }
   },
   "outputs": [],
   "source": [
    "import pandas as pd"
   ]
  },
  {
   "cell_type": "code",
   "execution_count": 13,
   "outputs": [],
   "source": [
    "df1 = pd.read_csv('results_decode_pqtls_bag3_fdr/mr_significant_blood.csv')\n",
    "df2 = pd.read_csv('results_decode_pqtls_bagm3_fdr/mr_significant_blood.csv')\n",
    "df3 = pd.read_csv('results_interval_pqtls_bagm3/mr_significant_blood.csv')\n",
    "df4 = df3.iloc[:, 12:26]"
   ],
   "metadata": {
    "collapsed": false,
    "ExecuteTime": {
     "end_time": "2023-07-09T08:58:18.117673100Z",
     "start_time": "2023-07-09T08:58:18.100341500Z"
    }
   }
  },
  {
   "cell_type": "code",
   "execution_count": 14,
   "outputs": [],
   "source": [
    "df = pd.concat([df1, df2, df4], axis=0)"
   ],
   "metadata": {
    "collapsed": false,
    "ExecuteTime": {
     "end_time": "2023-07-09T08:58:18.127525Z",
     "start_time": "2023-07-09T08:58:18.114674900Z"
    }
   }
  },
  {
   "cell_type": "code",
   "execution_count": 15,
   "outputs": [],
   "source": [
    "df.to_csv('results_pqtl_merged/results_significant_fdr.csv', index=False)"
   ],
   "metadata": {
    "collapsed": false,
    "ExecuteTime": {
     "end_time": "2023-07-09T08:58:18.140967700Z",
     "start_time": "2023-07-09T08:58:18.127525Z"
    }
   }
  },
  {
   "cell_type": "code",
   "execution_count": 15,
   "outputs": [],
   "source": [],
   "metadata": {
    "collapsed": false,
    "ExecuteTime": {
     "end_time": "2023-07-09T08:58:18.155301800Z",
     "start_time": "2023-07-09T08:58:18.140967700Z"
    }
   }
  }
 ],
 "metadata": {
  "kernelspec": {
   "display_name": "Python 3",
   "language": "python",
   "name": "python3"
  },
  "language_info": {
   "codemirror_mode": {
    "name": "ipython",
    "version": 2
   },
   "file_extension": ".py",
   "mimetype": "text/x-python",
   "name": "python",
   "nbconvert_exporter": "python",
   "pygments_lexer": "ipython2",
   "version": "2.7.6"
  }
 },
 "nbformat": 4,
 "nbformat_minor": 0
}
