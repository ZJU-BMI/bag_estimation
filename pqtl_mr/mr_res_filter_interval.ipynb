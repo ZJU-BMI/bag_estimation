{
 "cells": [
  {
   "cell_type": "code",
   "execution_count": 1,
   "metadata": {
    "collapsed": true,
    "ExecuteTime": {
     "end_time": "2024-01-04T07:46:47.943385Z",
     "start_time": "2024-01-04T07:46:46.930663700Z"
    }
   },
   "outputs": [],
   "source": [
    "import os\n",
    "import pandas as pd\n",
    "from statsmodels.stats.multitest import fdrcorrection"
   ]
  },
  {
   "cell_type": "code",
   "execution_count": 2,
   "outputs": [
    {
     "name": "stdout",
     "output_type": "stream",
     "text": [
      "16\n"
     ]
    }
   ],
   "source": [
    "pqtl_type = 'blood'\n",
    "study = 'interval'\n",
    "dis_thres = 250\n",
    "pheno = 'bag'\n",
    "\n",
    "res_path = f'results_{study}_{pheno}'\n",
    "\n",
    "df = pd.read_csv(os.path.join(res_path, f'mr_res_{pqtl_type}.csv'))\n",
    "df_plei = pd.read_csv(os.path.join(res_path, f'pleiotropy_res_{pqtl_type}.csv'))\n",
    "\n",
    "if pheno == 'bag3':\n",
    "    df['outcome'] = 'BAG > 3 years'\n",
    "elif pheno == 'bagm3':\n",
    "    df['outcome'] = 'BAG < -3 years'\n",
    "else:\n",
    "    df['outcome'] = 'BAG'\n",
    "    \n",
    "df['Source'] = 'INTERVAL'\n",
    "print(len(pd.unique(df['id.exposure'])))"
   ],
   "metadata": {
    "collapsed": false,
    "ExecuteTime": {
     "end_time": "2024-01-04T07:46:47.981371800Z",
     "start_time": "2024-01-04T07:46:47.948605100Z"
    }
   }
  },
  {
   "cell_type": "code",
   "execution_count": 3,
   "outputs": [
    {
     "data": {
      "text/plain": "method\nInverse variance weighted    14\nMR Egger                     12\nWeighted median              12\nSimple mode                  12\nWeighted mode                12\nWald ratio                    2\nName: count, dtype: int64"
     },
     "execution_count": 3,
     "metadata": {},
     "output_type": "execute_result"
    }
   ],
   "source": [
    "df['method'].value_counts()"
   ],
   "metadata": {
    "collapsed": false,
    "ExecuteTime": {
     "end_time": "2024-01-04T07:46:47.982396600Z",
     "start_time": "2024-01-04T07:46:47.968165600Z"
    }
   }
  },
  {
   "cell_type": "code",
   "execution_count": 4,
   "outputs": [
    {
     "name": "stdout",
     "output_type": "stream",
     "text": [
      "MR Egger\n",
      "Weighted median\n",
      "Inverse variance weighted\n",
      "Simple mode\n",
      "Weighted mode\n",
      "Wald ratio\n"
     ]
    }
   ],
   "source": [
    "# fdr correction on each method\n",
    "fdr_res = []\n",
    "for method in pd.unique(df['method']):\n",
    "    print(method)\n",
    "    dfp = df[df['method'] == method][['id.exposure', 'method', 'pval']].copy()\n",
    "    # fdr correction p-value\n",
    "    p_adj = fdrcorrection(dfp['pval'].to_numpy(), is_sorted=False)\n",
    "    dfp['fdr'] = p_adj[1]\n",
    "    fdr_res.append(dfp[['id.exposure', 'method', 'fdr']])"
   ],
   "metadata": {
    "collapsed": false,
    "ExecuteTime": {
     "end_time": "2024-01-04T07:46:48.049819500Z",
     "start_time": "2024-01-04T07:46:47.980277300Z"
    }
   }
  },
  {
   "cell_type": "code",
   "execution_count": 5,
   "outputs": [],
   "source": [
    "df_fdr_res = pd.concat(fdr_res, axis=0)"
   ],
   "metadata": {
    "collapsed": false,
    "ExecuteTime": {
     "end_time": "2024-01-04T07:46:48.049819500Z",
     "start_time": "2024-01-04T07:46:48.002641Z"
    }
   }
  },
  {
   "cell_type": "code",
   "execution_count": 6,
   "outputs": [],
   "source": [
    "# merge with original result\n",
    "df = pd.merge(df, df_fdr_res, on=['id.exposure', 'method'])"
   ],
   "metadata": {
    "collapsed": false,
    "ExecuteTime": {
     "end_time": "2024-01-04T07:46:48.050882700Z",
     "start_time": "2024-01-04T07:46:48.006297300Z"
    }
   }
  },
  {
   "cell_type": "code",
   "execution_count": 7,
   "outputs": [],
   "source": [
    "# merge mr egger test result\n",
    "df_plei.rename(columns={'pval': 'egger_pval', 'se': 'egger_se'}, inplace=True)\n",
    "df_plei.drop(columns=['id.outcome', 'outcome', 'exposure'], inplace=True)\n",
    "df = pd.merge(df, df_plei, on=['id.exposure'], how='left')"
   ],
   "metadata": {
    "collapsed": false,
    "ExecuteTime": {
     "end_time": "2024-01-04T07:46:48.050882700Z",
     "start_time": "2024-01-04T07:46:48.019784700Z"
    }
   }
  },
  {
   "cell_type": "code",
   "execution_count": 8,
   "outputs": [],
   "source": [
    "# load drug info\n",
    "df_drug_info = pd.read_csv(f'data/pqtls_interval_{pheno}.csv')\n",
    "df_drug_info = df_drug_info[['SOMAMER_ID', 'UniProt', 'TargetFullName', 'Target', 'ensembl_gene_id', 'hgnc_names', 'druggability_tier']]\n",
    "df = pd.merge(df_drug_info, df, left_on='SOMAMER_ID', right_on='id.exposure')\n",
    "df['id.exposure'] = df['hgnc_names']"
   ],
   "metadata": {
    "collapsed": false,
    "ExecuteTime": {
     "end_time": "2024-01-04T07:46:48.052469500Z",
     "start_time": "2024-01-04T07:46:48.030192500Z"
    }
   }
  },
  {
   "cell_type": "code",
   "execution_count": 9,
   "outputs": [],
   "source": [
    "# find significant results\n",
    "df['significant'] = (df['fdr'] < 0.05).astype(int)\n",
    "df.to_csv(os.path.join(res_path, f'mr_res_complete.csv'), index=False)"
   ],
   "metadata": {
    "collapsed": false,
    "ExecuteTime": {
     "end_time": "2024-01-04T07:46:48.117286100Z",
     "start_time": "2024-01-04T07:46:48.042842900Z"
    }
   }
  },
  {
   "cell_type": "code",
   "execution_count": 10,
   "outputs": [],
   "source": [
    "# significant results only ivw or wald ratio\n",
    "df_ivw = df[df['fdr'] < 0.05]\n",
    "df_ivw = df_ivw[((df_ivw['nsnp'] <= 2) | ((df_ivw['nsnp'] > 2) & (df_ivw['egger_pval'] > 0.05) & (df_ivw['method'] == 'Inverse variance weighted')))]\n",
    "df_ivw.to_csv(os.path.join(res_path, f'mr_significant_{pqtl_type}.csv') , index=False)"
   ],
   "metadata": {
    "collapsed": false,
    "ExecuteTime": {
     "end_time": "2024-01-04T07:46:48.119303800Z",
     "start_time": "2024-01-04T07:46:48.055063300Z"
    }
   }
  },
  {
   "cell_type": "code",
   "execution_count": 11,
   "outputs": [],
   "source": [
    "# count significant method for each druggable gene\n",
    "# df_grouped = df.groupby(['ensembl_gene_id'])['significant'].sum()\n",
    "# df_grouped = pd.DataFrame(df_grouped).reset_index()\n",
    "# df_grouped.rename(columns={'significant': 'significant_num'}, inplace=True)"
   ],
   "metadata": {
    "collapsed": false,
    "ExecuteTime": {
     "end_time": "2024-01-04T07:46:48.119810400Z",
     "start_time": "2024-01-04T07:46:48.065233Z"
    }
   }
  },
  {
   "cell_type": "code",
   "execution_count": 12,
   "outputs": [],
   "source": [
    "# df = pd.merge(df, df_grouped, on='ensembl_gene_id')"
   ],
   "metadata": {
    "collapsed": false,
    "ExecuteTime": {
     "end_time": "2024-01-04T07:46:48.120836600Z",
     "start_time": "2024-01-04T07:46:48.068106700Z"
    }
   }
  },
  {
   "cell_type": "code",
   "execution_count": 13,
   "outputs": [],
   "source": [
    "# select significant results: <=2 snp: only 1 method, >=3 snps: 5 method, at least 3 method must be significant\n",
    "# df_significant = df[(((df['nsnp'] <= 2) & (df['significant_num'] == 1)) | ((df['nsnp'] > 2) & (df['significant_num'] > 2)))].copy()"
   ],
   "metadata": {
    "collapsed": false,
    "ExecuteTime": {
     "end_time": "2024-01-04T07:46:48.155128400Z",
     "start_time": "2024-01-04T07:46:48.073481800Z"
    }
   }
  },
  {
   "cell_type": "code",
   "execution_count": 14,
   "outputs": [],
   "source": [
    "# if MR egger can not be done, set p-value = 1\n",
    "# df_significant['egger_pval'].fillna(1, inplace=True)\n",
    "# print(df_significant['egger_pval'])"
   ],
   "metadata": {
    "collapsed": false,
    "ExecuteTime": {
     "end_time": "2024-01-04T07:46:48.155128400Z",
     "start_time": "2024-01-04T07:46:48.081273300Z"
    }
   }
  },
  {
   "cell_type": "code",
   "execution_count": 15,
   "outputs": [],
   "source": [
    "# remove results with horizontal pleiotropy\n",
    "# df_significant = df_significant[df_significant['egger_pval'] > 0.05]"
   ],
   "metadata": {
    "collapsed": false,
    "ExecuteTime": {
     "end_time": "2024-01-04T07:46:48.156140700Z",
     "start_time": "2024-01-04T07:46:48.085875100Z"
    }
   }
  },
  {
   "cell_type": "code",
   "execution_count": 16,
   "outputs": [],
   "source": [
    "# df_significant.to_csv(os.path.join(res_path, f'mr_significant_{pqtl_type}_5methods.csv') , index=False)"
   ],
   "metadata": {
    "collapsed": false,
    "ExecuteTime": {
     "end_time": "2024-01-04T07:46:48.156140700Z",
     "start_time": "2024-01-04T07:46:48.091141600Z"
    }
   }
  },
  {
   "cell_type": "code",
   "execution_count": 16,
   "outputs": [],
   "source": [],
   "metadata": {
    "collapsed": false,
    "ExecuteTime": {
     "end_time": "2024-01-04T07:46:48.156140700Z",
     "start_time": "2024-01-04T07:46:48.095825300Z"
    }
   }
  }
 ],
 "metadata": {
  "kernelspec": {
   "display_name": "Python 3",
   "language": "python",
   "name": "python3"
  },
  "language_info": {
   "codemirror_mode": {
    "name": "ipython",
    "version": 2
   },
   "file_extension": ".py",
   "mimetype": "text/x-python",
   "name": "python",
   "nbconvert_exporter": "python",
   "pygments_lexer": "ipython2",
   "version": "2.7.6"
  }
 },
 "nbformat": 4,
 "nbformat_minor": 0
}
