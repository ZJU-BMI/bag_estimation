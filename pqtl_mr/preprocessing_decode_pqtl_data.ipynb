{
 "cells": [
  {
   "cell_type": "code",
   "execution_count": 1,
   "metadata": {
    "collapsed": true,
    "ExecuteTime": {
     "end_time": "2023-07-22T05:09:37.993335400Z",
     "start_time": "2023-07-22T05:09:37.775040600Z"
    }
   },
   "outputs": [],
   "source": [
    "import pandas as pd\n",
    "import os\n",
    "from statsmodels.stats.multitest import fdrcorrection"
   ]
  },
  {
   "cell_type": "code",
   "execution_count": 12,
   "outputs": [
    {
     "name": "stdout",
     "output_type": "stream",
     "text": [
      "['10546_2_TSPEAR_TSEAR.txt.gz', '10809_14_KLRB1_KLRB1.txt.gz', '10818_36_SMPD1_ASM.txt.gz', '11360_39_RRM1_RRM1.txt.gz', '11617_1_ITGAL_LFA_1_alpha_L_chain.txt.gz', '12553_5_VRK1_VRK1.txt.gz', '13133_73_LTBP4_LTBP4.txt.gz', '13955_33_DAPK1_DAPK1.txt.gz', '15347_12_HPX_Hemopexin.txt.gz', '15482_12_A2ML1_A2ML1.txt.gz', '17704_74_HSPH1_HS105.txt.gz', '17786_5_GGPS1_GGPPS.txt.gz', '2558_51_POMC_b_Endorphin.txt.gz', '2855_49_MAPK3_ERK_1.txt.gz', '2993_1_IL18RAP_IL_18_Rb.txt.gz', '3629_60_CDC42BPB_MRCKB.txt.gz', '3813_3_FYN_FYN.txt.gz', '3825_18_MAPK8_MK08.txt.gz', '4374_45_GDF15_MIC_1.txt.gz', '4890_10_POMC_ACTH.txt.gz', '5096_51_KIR3DL2_KI3L2.txt.gz', '5723_4_INSL3_INSL3.txt.gz', '5737_61_SEMA4D_SEM4D.txt.gz', '5854_60_MAPT_tau.txt.gz', '5936_53_TNF_TNF_a.txt.gz', '5939_42_TNFSF12_TWEAK.txt.gz', '6207_10_PSAP_prosaposin.txt.gz', '6252_62_SCGB3A1_Secretoglobin_family_3A_member_1.txt.gz', '6369_82_DEAF1_DEAF1.txt.gz', '6609_22_CNP_CN37.txt.gz', '9094_5_CLEC4C_CLC4C.txt.gz', '9204_33_POMC_Corticotropin_lipotropin.txt.gz', '9348_1_C1RL_C1RL1.txt.gz', '9365_91_EYS_EYS.txt.gz', '9969_8_SLC22A16_S22AG.txt.gz']\n",
      "35\n"
     ]
    }
   ],
   "source": [
    "pqtl_type = 'bagm3'\n",
    "# data_path: /path/to/pqtl/data/ -> including downloaded xxx.txt.gz files\n",
    "data_dir = 'deCODE_pqtl_data_raw'\n",
    "data_list = os.listdir(data_dir)\n",
    "# all pqtl files are end with txt.gz\n",
    "data_list = list(filter(lambda x: x.endswith('txt.gz'), data_list))\n",
    "# sig_pqtls = []\n",
    "print(data_list)\n",
    "print(len(data_list))"
   ],
   "metadata": {
    "collapsed": false,
    "ExecuteTime": {
     "end_time": "2023-07-22T05:36:18.259378200Z",
     "start_time": "2023-07-22T05:36:18.251830Z"
    }
   }
  },
  {
   "cell_type": "code",
   "execution_count": 13,
   "outputs": [
    {
     "name": "stdout",
     "output_type": "stream",
     "text": [
      "1: preprocessing on 10546_2_TSPEAR_TSEAR.txt.gz ...\n",
      "2: preprocessing on 10809_14_KLRB1_KLRB1.txt.gz ...\n",
      "3: preprocessing on 10818_36_SMPD1_ASM.txt.gz ...\n",
      "4: preprocessing on 11360_39_RRM1_RRM1.txt.gz ...\n",
      "5: preprocessing on 11617_1_ITGAL_LFA_1_alpha_L_chain.txt.gz ...\n",
      "6: preprocessing on 12553_5_VRK1_VRK1.txt.gz ...\n",
      "7: preprocessing on 13133_73_LTBP4_LTBP4.txt.gz ...\n",
      "8: preprocessing on 13955_33_DAPK1_DAPK1.txt.gz ...\n",
      "9: preprocessing on 15347_12_HPX_Hemopexin.txt.gz ...\n",
      "10: preprocessing on 15482_12_A2ML1_A2ML1.txt.gz ...\n",
      "11: preprocessing on 17704_74_HSPH1_HS105.txt.gz ...\n",
      "12: preprocessing on 17786_5_GGPS1_GGPPS.txt.gz ...\n",
      "13: preprocessing on 2558_51_POMC_b_Endorphin.txt.gz ...\n",
      "14: preprocessing on 2855_49_MAPK3_ERK_1.txt.gz ...\n",
      "15: preprocessing on 2993_1_IL18RAP_IL_18_Rb.txt.gz ...\n",
      "16: preprocessing on 3629_60_CDC42BPB_MRCKB.txt.gz ...\n",
      "17: preprocessing on 3813_3_FYN_FYN.txt.gz ...\n",
      "18: preprocessing on 3825_18_MAPK8_MK08.txt.gz ...\n",
      "19: preprocessing on 4374_45_GDF15_MIC_1.txt.gz ...\n",
      "20: preprocessing on 4890_10_POMC_ACTH.txt.gz ...\n",
      "21: preprocessing on 5096_51_KIR3DL2_KI3L2.txt.gz ...\n",
      "22: preprocessing on 5723_4_INSL3_INSL3.txt.gz ...\n",
      "23: preprocessing on 5737_61_SEMA4D_SEM4D.txt.gz ...\n",
      "24: preprocessing on 5854_60_MAPT_tau.txt.gz ...\n",
      "25: preprocessing on 5936_53_TNF_TNF_a.txt.gz ...\n",
      "26: preprocessing on 5939_42_TNFSF12_TWEAK.txt.gz ...\n",
      "27: preprocessing on 6207_10_PSAP_prosaposin.txt.gz ...\n",
      "28: preprocessing on 6252_62_SCGB3A1_Secretoglobin_family_3A_member_1.txt.gz ...\n",
      "29: preprocessing on 6369_82_DEAF1_DEAF1.txt.gz ...\n",
      "30: preprocessing on 6609_22_CNP_CN37.txt.gz ...\n",
      "31: preprocessing on 9094_5_CLEC4C_CLC4C.txt.gz ...\n",
      "32: preprocessing on 9204_33_POMC_Corticotropin_lipotropin.txt.gz ...\n",
      "33: preprocessing on 9348_1_C1RL_C1RL1.txt.gz ...\n",
      "34: preprocessing on 9365_91_EYS_EYS.txt.gz ...\n",
      "35: preprocessing on 9969_8_SLC22A16_S22AG.txt.gz ...\n",
      "Done\n"
     ]
    }
   ],
   "source": [
    "for i, pqtls in enumerate(data_list):\n",
    "    print(f'{i + 1}: preprocessing on {data_list[i]} ...')\n",
    "    if not os.path.exists(os.path.join('deCODE_pqtl_data_significant', data_list[i])):\n",
    "        # preprocessing...\n",
    "        # read pqtl summary data\n",
    "        pqtl_data = pd.read_csv(os.path.join(data_dir, data_list[i]), compression='gzip', sep='\\t', low_memory=False)\n",
    "\n",
    "        # get pqtl id\n",
    "        filenames = data_list[i].split('.')\n",
    "\n",
    "        # remove pqtl without rsids\n",
    "        pqtl_data = pqtl_data[~pqtl_data['rsids'].isna()].copy()\n",
    "\n",
    "        # calculate fdr p-value (may not be used)\n",
    "        fdr_pval = fdrcorrection(pqtl_data['Pval'].to_numpy(), is_sorted=False)\n",
    "        pqtl_data['FDR'] = fdr_pval[1]\n",
    "\n",
    "        # select significant SNPs with p-value < 5e-6 | FDR < 0.05\n",
    "        pqtl_data_sig = pqtl_data[(pqtl_data['Pval'] < 5e-6) | (pqtl_data['FDR'] < 0.05)].copy()\n",
    "        pqtl_data_sig['id'] = filenames[0]\n",
    "        pqtl_data_sig.to_csv(f'deCODE_pqtl_data_significant/{data_list[i]}', sep='\\t', index=False, compression='gzip')\n",
    "    else:\n",
    "        # if preprocessed, just read from local dir\n",
    "        pqtl_data_sig = pd.read_csv(os.path.join('deCODE_pqtl_data_significant', data_list[i]), sep='\\t', compression='gzip')\n",
    "\n",
    "    # sig_pqtls.append(pqtl_data_sig)\n",
    "print('Done')"
   ],
   "metadata": {
    "collapsed": false,
    "ExecuteTime": {
     "end_time": "2023-07-22T05:36:20.751731200Z",
     "start_time": "2023-07-22T05:36:20.396002500Z"
    }
   }
  },
  {
   "cell_type": "code",
   "execution_count": 18,
   "outputs": [],
   "source": [
    "df = pd.read_csv(f'data/pqtls_deCODE_{pqtl_type}.csv')\n",
    "pqtl_lists = df['SeqId'].tolist()\n",
    "pqtl_data_list = os.listdir('deCODE_pqtl_data_significant')\n",
    "\n",
    "pqtls_bag = []\n",
    "\n",
    "def find_index(seq_id):\n",
    "    for uid, idx in enumerate(pqtl_data_list):\n",
    "        if idx.startswith(seq_id):\n",
    "            return uid"
   ],
   "metadata": {
    "collapsed": false,
    "ExecuteTime": {
     "end_time": "2023-07-22T05:36:46.779052700Z",
     "start_time": "2023-07-22T05:36:46.756862600Z"
    }
   }
  },
  {
   "cell_type": "code",
   "execution_count": 19,
   "outputs": [],
   "source": [
    "for pqtl in pqtl_lists:\n",
    "    pqtl_file =  pqtl_data_list[find_index(pqtl)]\n",
    "    df_pqtl_sig = pd.read_csv(os.path.join('deCODE_pqtl_data_significant', pqtl_file), sep='\\t', compression='gzip')\n",
    "    df_pqtl_sig = df_pqtl_sig[df_pqtl_sig['FDR'] < 0.05].copy()\n",
    "    pqtls_bag.append(df_pqtl_sig)"
   ],
   "metadata": {
    "collapsed": false,
    "ExecuteTime": {
     "end_time": "2023-07-22T05:36:47.662835700Z",
     "start_time": "2023-07-22T05:36:47.471609300Z"
    }
   }
  },
  {
   "cell_type": "code",
   "execution_count": 20,
   "outputs": [
    {
     "name": "stdout",
     "output_type": "stream",
     "text": [
      "12\n"
     ]
    }
   ],
   "source": [
    "# concat all pqtls\n",
    "df_sig_all = pd.concat(pqtls_bag, axis=0)\n",
    "print(len(pd.unique(df_sig_all['id'])))\n",
    "df_sig_all.to_csv(f'pqtl_data/pqtls_decode_{pqtl_type}.csv', index=False)"
   ],
   "metadata": {
    "collapsed": false,
    "ExecuteTime": {
     "end_time": "2023-07-22T05:36:48.841637100Z",
     "start_time": "2023-07-22T05:36:48.433549Z"
    }
   }
  },
  {
   "cell_type": "code",
   "execution_count": null,
   "outputs": [],
   "source": [],
   "metadata": {
    "collapsed": false
   }
  }
 ],
 "metadata": {
  "kernelspec": {
   "display_name": "Python 3",
   "language": "python",
   "name": "python3"
  },
  "language_info": {
   "codemirror_mode": {
    "name": "ipython",
    "version": 2
   },
   "file_extension": ".py",
   "mimetype": "text/x-python",
   "name": "python",
   "nbconvert_exporter": "python",
   "pygments_lexer": "ipython2",
   "version": "2.7.6"
  }
 },
 "nbformat": 4,
 "nbformat_minor": 0
}
