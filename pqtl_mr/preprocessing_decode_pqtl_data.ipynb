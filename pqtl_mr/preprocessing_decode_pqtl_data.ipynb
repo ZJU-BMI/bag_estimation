{
 "cells": [
  {
   "cell_type": "code",
   "execution_count": 1,
   "metadata": {
    "collapsed": true,
    "ExecuteTime": {
     "end_time": "2024-01-04T07:29:24.793330200Z",
     "start_time": "2024-01-04T07:29:23.884898Z"
    }
   },
   "outputs": [],
   "source": [
    "import pandas as pd\n",
    "import os\n",
    "from statsmodels.stats.multitest import fdrcorrection"
   ]
  },
  {
   "cell_type": "code",
   "execution_count": 2,
   "outputs": [
    {
     "name": "stdout",
     "output_type": "stream",
     "text": [
      "76\n"
     ]
    }
   ],
   "source": [
    "pqtl_type = 'bag'\n",
    "# data_path: /path/to/pqtl/data/ -> including downloaded xxx.txt.gz files\n",
    "data_dir = 'deCODE_pqtl_data_raw'\n",
    "data_list = os.listdir(data_dir)\n",
    "# all pqtl files are end with txt.gz\n",
    "data_list = list(filter(lambda x: x.endswith('txt.gz'), data_list))\n",
    "# sig_pqtls = []\n",
    "# print(data_list)\n",
    "print(len(data_list))"
   ],
   "metadata": {
    "collapsed": false,
    "ExecuteTime": {
     "end_time": "2024-01-04T07:29:25.800737400Z",
     "start_time": "2024-01-04T07:29:25.740275Z"
    }
   }
  },
  {
   "cell_type": "code",
   "execution_count": 3,
   "outputs": [
    {
     "name": "stdout",
     "output_type": "stream",
     "text": [
      "1: preprocessing on 10546_2_TSPEAR_TSEAR.txt.gz ...\n",
      "2: preprocessing on 10809_14_KLRB1_KLRB1.txt.gz ...\n",
      "3: preprocessing on 10818_36_SMPD1_ASM.txt.gz ...\n",
      "4: preprocessing on 11338_49_BLK_BLK.txt.gz ...\n",
      "5: preprocessing on 11360_39_RRM1_RRM1.txt.gz ...\n",
      "6: preprocessing on 11448_34_GALK1_GALK1.txt.gz ...\n",
      "7: preprocessing on 11617_1_ITGAL_LFA_1_alpha_L_chain.txt.gz ...\n",
      "8: preprocessing on 11709_29_CPT1B_CPT1B.txt.gz ...\n",
      "9: preprocessing on 12427_8_CDC25B_MPIP2.txt.gz ...\n",
      "10: preprocessing on 12553_5_VRK1_VRK1.txt.gz ...\n",
      "11: preprocessing on 12664_19_PTPN13_PTN13.txt.gz ...\n",
      "12: preprocessing on 13133_73_LTBP4_LTBP4.txt.gz ...\n",
      "13: preprocessing on 13463_1_PXDN_PXDN.txt.gz ...\n",
      "14: preprocessing on 13955_33_DAPK1_DAPK1.txt.gz ...\n",
      "15: preprocessing on 14069_61_CA4_Carbonic_Anhydrase_IV.txt.gz ...\n",
      "16: preprocessing on 14136_234_CD93_C1QR1.txt.gz ...\n",
      "17: preprocessing on 14645_253_GSTA4_GSTA4.txt.gz ...\n",
      "18: preprocessing on 15347_12_HPX_Hemopexin.txt.gz ...\n",
      "19: preprocessing on 15437_11_RAMP3_RAMP3.txt.gz ...\n",
      "20: preprocessing on 15482_12_A2ML1_A2ML1.txt.gz ...\n",
      "21: preprocessing on 15530_33_EPHB4_EphB4.txt.gz ...\n",
      "22: preprocessing on 15603_20_ITGA2_Integrin_alpha_2.txt.gz ...\n",
      "23: preprocessing on 15668_19_BMP8B_BMP_8.txt.gz ...\n",
      "24: preprocessing on 16749_79_GDF10_BMP_3b.txt.gz ...\n",
      "25: preprocessing on 16926_44_ALPL_Alkaline_phosphatase__liver.txt.gz ...\n",
      "26: preprocessing on 17509_6_HPD_HPPD.txt.gz ...\n",
      "27: preprocessing on 17682_1_CD46_CD46.txt.gz ...\n",
      "28: preprocessing on 17704_74_HSPH1_HS105.txt.gz ...\n",
      "29: preprocessing on 17786_5_GGPS1_GGPPS.txt.gz ...\n",
      "30: preprocessing on 17792_158_ALDH5A1_SSDH.txt.gz ...\n",
      "31: preprocessing on 18299_13_CAPNS1_CPNS1.txt.gz ...\n",
      "32: preprocessing on 18839_24_TG_Thyroglobulin.txt.gz ...\n",
      "33: preprocessing on 19230_12_GSTT1_GSTT1.txt.gz ...\n",
      "34: preprocessing on 2431_17_CTSG_Cathepsin_G.txt.gz ...\n",
      "35: preprocessing on 2558_51_POMC_b_Endorphin.txt.gz ...\n",
      "36: preprocessing on 2855_49_MAPK3_ERK_1.txt.gz ...\n",
      "37: preprocessing on 2993_1_IL18RAP_IL_18_Rb.txt.gz ...\n",
      "38: preprocessing on 3171_57_APP_amyloid_precursor_protein.txt.gz ...\n",
      "39: preprocessing on 3195_50_GNLY_Granulysin.txt.gz ...\n",
      "40: preprocessing on 3285_23_C1R_C1r.txt.gz ...\n",
      "41: preprocessing on 3420_21_CA13_Carbonic_anhydrase_XIII.txt.gz ...\n",
      "42: preprocessing on 3473_78_MPL_Thrombopoietin_Receptor.txt.gz ...\n",
      "43: preprocessing on 3629_60_CDC42BPB_MRCKB.txt.gz ...\n",
      "44: preprocessing on 3708_62_A2M_a2_Macroglobulin.txt.gz ...\n",
      "45: preprocessing on 3813_3_FYN_FYN.txt.gz ...\n",
      "46: preprocessing on 3825_18_MAPK8_MK08.txt.gz ...\n",
      "47: preprocessing on 4133_54_GZMB_Granzyme_B.txt.gz ...\n",
      "48: preprocessing on 4306_4_TKT_Transketolase.txt.gz ...\n",
      "49: preprocessing on 4374_45_GDF15_MIC_1.txt.gz ...\n",
      "50: preprocessing on 4811_33_ITIH4_ITI_heavy_chain_H4.txt.gz ...\n",
      "51: preprocessing on 4832_75_TNFRSF10A_TRAIL_R1.txt.gz ...\n",
      "52: preprocessing on 4890_10_POMC_ACTH.txt.gz ...\n",
      "53: preprocessing on 5028_59_CD163_sCD163.txt.gz ...\n",
      "54: preprocessing on 5089_11_IL7R_IL_7_Ra.txt.gz ...\n",
      "55: preprocessing on 5096_51_KIR3DL2_KI3L2.txt.gz ...\n",
      "56: preprocessing on 5443_62_NPPA_ANP.txt.gz ...\n",
      "57: preprocessing on 5723_4_INSL3_INSL3.txt.gz ...\n",
      "58: preprocessing on 5737_61_SEMA4D_SEM4D.txt.gz ...\n",
      "59: preprocessing on 5742_14_ACP6_PPA6.txt.gz ...\n",
      "60: preprocessing on 5854_60_MAPT_tau.txt.gz ...\n",
      "61: preprocessing on 5936_53_TNF_TNF_a.txt.gz ...\n",
      "62: preprocessing on 5939_42_TNFSF12_TWEAK.txt.gz ...\n",
      "63: preprocessing on 6207_10_PSAP_prosaposin.txt.gz ...\n",
      "64: preprocessing on 6247_9_SIRPB1_SIRB1.txt.gz ...\n",
      "65: preprocessing on 6252_62_SCGB3A1_Secretoglobin_family_3A_member_1.txt.gz ...\n",
      "66: preprocessing on 6369_82_DEAF1_DEAF1.txt.gz ...\n",
      "67: preprocessing on 6517_14_GDF10_BMP_3b.txt.gz ...\n",
      "68: preprocessing on 6609_22_CNP_CN37.txt.gz ...\n",
      "69: preprocessing on 7825_7_ABHD12_ABD12.txt.gz ...\n",
      "70: preprocessing on 9094_5_CLEC4C_CLC4C.txt.gz ...\n",
      "71: preprocessing on 9204_33_POMC_Corticotropin_lipotropin.txt.gz ...\n",
      "72: preprocessing on 9254_18_FCER1A_FCERA.txt.gz ...\n",
      "73: preprocessing on 9321_400_NMB_NMB.txt.gz ...\n",
      "74: preprocessing on 9348_1_C1RL_C1RL1.txt.gz ...\n",
      "75: preprocessing on 9365_91_EYS_EYS.txt.gz ...\n",
      "76: preprocessing on 9969_8_SLC22A16_S22AG.txt.gz ...\n",
      "Done\n"
     ]
    }
   ],
   "source": [
    "for i, pqtls in enumerate(data_list):\n",
    "    print(f'{i + 1}: preprocessing on {data_list[i]} ...')\n",
    "    if not os.path.exists(os.path.join('deCODE_pqtl_data_significant', data_list[i])):\n",
    "        # preprocessing...\n",
    "        # read pqtl summary data\n",
    "        pqtl_data = pd.read_csv(os.path.join(data_dir, data_list[i]), compression='gzip', sep='\\t', low_memory=False)\n",
    "\n",
    "        # get pqtl id\n",
    "        filenames = data_list[i].split('.')\n",
    "\n",
    "        # remove pqtl without rsids\n",
    "        pqtl_data = pqtl_data[~pqtl_data['rsids'].isna()].copy()\n",
    "\n",
    "        # calculate fdr p-value (may not be used)\n",
    "        fdr_pval = fdrcorrection(pqtl_data['Pval'].to_numpy(), is_sorted=False)\n",
    "        pqtl_data['FDR'] = fdr_pval[1]\n",
    "\n",
    "        # select significant SNPs with p-value < 5e-6 | FDR < 0.05\n",
    "        pqtl_data_sig = pqtl_data[(pqtl_data['Pval'] < 5e-6) | (pqtl_data['FDR'] < 0.05)].copy()\n",
    "        pqtl_data_sig['id'] = filenames[0]\n",
    "        pqtl_data_sig.to_csv(f'deCODE_pqtl_data_significant/{data_list[i]}', sep='\\t', index=False, compression='gzip')\n",
    "    else:\n",
    "        # if preprocessed, just read from local dir\n",
    "        # pqtl_data_sig = pd.read_csv(os.path.join('deCODE_pqtl_data_significant', data_list[i]), sep='\\t', compression='gzip')\n",
    "        pass\n",
    "    # sig_pqtls.append(pqtl_data_sig)\n",
    "print('Done')"
   ],
   "metadata": {
    "collapsed": false,
    "ExecuteTime": {
     "end_time": "2024-01-04T07:33:04.432530900Z",
     "start_time": "2024-01-04T07:29:58.195477300Z"
    }
   }
  },
  {
   "cell_type": "code",
   "execution_count": 4,
   "outputs": [],
   "source": [
    "df = pd.read_csv(f'data/pqtls_deCODE_{pqtl_type}.csv')\n",
    "pqtl_lists = df['SeqId'].tolist()\n",
    "pqtl_data_list = os.listdir('deCODE_pqtl_data_significant')\n",
    "\n",
    "pqtls_bag = []\n",
    "\n",
    "def find_index(seq_id):\n",
    "    for uid, idx in enumerate(pqtl_data_list):\n",
    "        if idx.startswith(seq_id):\n",
    "            return uid"
   ],
   "metadata": {
    "collapsed": false,
    "ExecuteTime": {
     "end_time": "2024-01-04T07:34:04.007616500Z",
     "start_time": "2024-01-04T07:34:03.958583900Z"
    }
   }
  },
  {
   "cell_type": "code",
   "execution_count": 5,
   "outputs": [],
   "source": [
    "for pqtl in pqtl_lists:\n",
    "    pqtl_file =  pqtl_data_list[find_index(pqtl)]\n",
    "    df_pqtl_sig = pd.read_csv(os.path.join('deCODE_pqtl_data_significant', pqtl_file), sep='\\t', compression='gzip')\n",
    "    df_pqtl_sig = df_pqtl_sig[df_pqtl_sig['FDR'] < 0.05].copy()\n",
    "    pqtls_bag.append(df_pqtl_sig)"
   ],
   "metadata": {
    "collapsed": false,
    "ExecuteTime": {
     "end_time": "2024-01-04T07:34:05.894309Z",
     "start_time": "2024-01-04T07:34:04.596265Z"
    }
   }
  },
  {
   "cell_type": "code",
   "execution_count": 6,
   "outputs": [
    {
     "name": "stdout",
     "output_type": "stream",
     "text": [
      "34\n"
     ]
    }
   ],
   "source": [
    "# concat all pqtls\n",
    "df_sig_all = pd.concat(pqtls_bag, axis=0)\n",
    "# get Seq_id from id: 10546_2_TSPEAR_TSEAR -> 10546_2\n",
    "df_sig_all['Seq_id'] = df_sig_all['id'].apply(lambda x:  '_'.join(x.split('_')[0:2]))\n",
    "print(len(pd.unique(df_sig_all['id'])))\n",
    "df_sig_all.to_csv(f'pqtl_data/pqtls_decode_{pqtl_type}.csv', index=False)"
   ],
   "metadata": {
    "collapsed": false,
    "ExecuteTime": {
     "end_time": "2024-01-04T07:34:09.033262500Z",
     "start_time": "2024-01-04T07:34:06.599781500Z"
    }
   }
  },
  {
   "cell_type": "code",
   "execution_count": 9,
   "outputs": [],
   "source": [],
   "metadata": {
    "collapsed": false,
    "ExecuteTime": {
     "end_time": "2023-12-12T09:06:03.750667500Z",
     "start_time": "2023-12-12T09:06:03.749156200Z"
    }
   }
  }
 ],
 "metadata": {
  "kernelspec": {
   "display_name": "Python 3",
   "language": "python",
   "name": "python3"
  },
  "language_info": {
   "codemirror_mode": {
    "name": "ipython",
    "version": 2
   },
   "file_extension": ".py",
   "mimetype": "text/x-python",
   "name": "python",
   "nbconvert_exporter": "python",
   "pygments_lexer": "ipython2",
   "version": "2.7.6"
  }
 },
 "nbformat": 4,
 "nbformat_minor": 0
}
