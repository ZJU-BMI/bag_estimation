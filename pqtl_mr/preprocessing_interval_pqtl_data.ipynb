{
 "cells": [
  {
   "cell_type": "code",
   "execution_count": 8,
   "metadata": {
    "collapsed": true,
    "ExecuteTime": {
     "end_time": "2023-07-22T05:59:54.574085600Z",
     "start_time": "2023-07-22T05:59:54.543189300Z"
    }
   },
   "outputs": [],
   "source": [
    "import numpy as np\n",
    "import pandas as pd\n",
    "import os\n",
    "from statsmodels.stats.multitest import fdrcorrection"
   ]
  },
  {
   "cell_type": "code",
   "execution_count": 9,
   "outputs": [],
   "source": [
    "# bim.data include all gwas snps info for pheno\n",
    "df = pd.read_csv('data/data.bim', sep='\\t', header=None)\n",
    "df.columns = ['CHR', 'SNP', 'POS', 'BP', 'A1', 'A2']"
   ],
   "metadata": {
    "collapsed": false,
    "ExecuteTime": {
     "end_time": "2023-07-22T05:59:57.056662500Z",
     "start_time": "2023-07-22T05:59:54.561129100Z"
    }
   }
  },
  {
   "cell_type": "code",
   "execution_count": 10,
   "outputs": [],
   "source": [
    "pheno = 'bag3'\n",
    "df_pqtls_info = pd.read_csv(f'data/pqtls_interval_{pheno}.csv')"
   ],
   "metadata": {
    "collapsed": false,
    "ExecuteTime": {
     "end_time": "2023-07-22T05:59:57.070652400Z",
     "start_time": "2023-07-22T05:59:57.057660500Z"
    }
   }
  },
  {
   "cell_type": "code",
   "execution_count": 11,
   "outputs": [
    {
     "name": "stdout",
     "output_type": "stream",
     "text": [
      "20\n"
     ]
    }
   ],
   "source": [
    "pqtls = df_pqtls_info['SOMAMER_ID'].tolist()\n",
    "\n",
    "# gene position for calculate distance between pqtl and gene pos = floor((start_pos + end_pos) / 2)\n",
    "gene_pos = np.floor((df_pqtls_info['start_b37'] + df_pqtls_info['end_b37']) / 2).to_list()\n",
    "# chr for the gene\n",
    "gene_chr = df_pqtls_info['chr_b37'].tolist()\n",
    "# gene ensembl_id to identify the gene\n",
    "gene_id = df_pqtls_info['ensembl_gene_id'].tolist()\n",
    "\n",
    "# raw path for the pqtls\n",
    "pqtl_path = 'interval_pqtl_data_raw'\n",
    "# merged path for pqtls\n",
    "merged_path = 'interval_pqtl_merged'\n",
    "\n",
    "print(len(pqtls))"
   ],
   "metadata": {
    "collapsed": false,
    "ExecuteTime": {
     "end_time": "2023-07-22T05:59:57.114505600Z",
     "start_time": "2023-07-22T05:59:57.071648900Z"
    }
   }
  },
  {
   "cell_type": "code",
   "execution_count": 12,
   "outputs": [
    {
     "name": "stdout",
     "output_type": "stream",
     "text": [
      "C1RL.9348.1.3\n",
      "C1RL.9348.1.3 merged.\n",
      "7255726 snps loaded for C1RL.9348.1.3\n",
      "pqtls for C1RL.9348.1.3: 73, cis-pqtls: 71\n",
      "----------------------------------------------------------------------------------------------------\n",
      "CDC42BPB.3629.60.4\n",
      "CDC42BPB.3629.60.4 merged.\n",
      "7255726 snps loaded for CDC42BPB.3629.60.4\n",
      "pqtls for CDC42BPB.3629.60.4: 42, cis-pqtls: 0\n",
      "----------------------------------------------------------------------------------------------------\n",
      "CNP.6609.22.3\n",
      "CNP.6609.22.3 merged.\n",
      "7255726 snps loaded for CNP.6609.22.3\n",
      "pqtls for CNP.6609.22.3: 0, cis-pqtls: 0\n",
      "----------------------------------------------------------------------------------------------------\n",
      "DEAF1.6369.82.3\n",
      "DEAF1.6369.82.3 merged.\n",
      "7255726 snps loaded for DEAF1.6369.82.3\n",
      "pqtls for DEAF1.6369.82.3: 60, cis-pqtls: 0\n",
      "----------------------------------------------------------------------------------------------------\n",
      "FYN.4550.3.2\n",
      "FYN.4550.3.2 merged.\n",
      "7255726 snps loaded for FYN.4550.3.2\n",
      "pqtls for FYN.4550.3.2: 409, cis-pqtls: 0\n",
      "----------------------------------------------------------------------------------------------------\n",
      "GDF15.4374.45.2\n",
      "GDF15.4374.45.2 merged.\n",
      "7255726 snps loaded for GDF15.4374.45.2\n",
      "pqtls for GDF15.4374.45.2: 124, cis-pqtls: 119\n",
      "----------------------------------------------------------------------------------------------------\n",
      "INSL3.5723.4.3\n",
      "INSL3.5723.4.3 merged.\n",
      "7255726 snps loaded for INSL3.5723.4.3\n",
      "pqtls for INSL3.5723.4.3: 30, cis-pqtls: 1\n",
      "----------------------------------------------------------------------------------------------------\n",
      "ITGAL.11617.1.3\n",
      "ITGAL.11617.1.3 merged.\n",
      "7255726 snps loaded for ITGAL.11617.1.3\n",
      "pqtls for ITGAL.11617.1.3: 0, cis-pqtls: 0\n",
      "----------------------------------------------------------------------------------------------------\n",
      "LTBP4.13133.73.3\n",
      "LTBP4.13133.73.3 merged.\n",
      "7255726 snps loaded for LTBP4.13133.73.3\n",
      "pqtls for LTBP4.13133.73.3: 0, cis-pqtls: 0\n",
      "----------------------------------------------------------------------------------------------------\n",
      "M6PR.10491.21.3\n",
      "M6PR.10491.21.3 merged.\n",
      "7255726 snps loaded for M6PR.10491.21.3\n",
      "pqtls for M6PR.10491.21.3: 143, cis-pqtls: 0\n",
      "----------------------------------------------------------------------------------------------------\n",
      "M6PR.10491.21.3\n",
      "M6PR.10491.21.3 merged.\n",
      "7255726 snps loaded for M6PR.10491.21.3\n",
      "pqtls for M6PR.10491.21.3: 143, cis-pqtls: 0\n",
      "----------------------------------------------------------------------------------------------------\n",
      "MAPK3.2855.49.2\n",
      "MAPK3.2855.49.2 merged.\n",
      "7255726 snps loaded for MAPK3.2855.49.2\n",
      "pqtls for MAPK3.2855.49.2: 81, cis-pqtls: 13\n",
      "----------------------------------------------------------------------------------------------------\n",
      "MPL.3473.78.2\n",
      "MPL.3473.78.2 merged.\n",
      "7255726 snps loaded for MPL.3473.78.2\n",
      "pqtls for MPL.3473.78.2: 10, cis-pqtls: 0\n",
      "----------------------------------------------------------------------------------------------------\n",
      "MUC4.10659.49.3\n",
      "MUC4.10659.49.3 merged.\n",
      "7255726 snps loaded for MUC4.10659.49.3\n",
      "pqtls for MUC4.10659.49.3: 0, cis-pqtls: 0\n",
      "----------------------------------------------------------------------------------------------------\n",
      "POMC.2558.51.3\n",
      "POMC.2558.51.3 merged.\n",
      "7255726 snps loaded for POMC.2558.51.3\n",
      "pqtls for POMC.2558.51.3: 700, cis-pqtls: 0\n",
      "----------------------------------------------------------------------------------------------------\n",
      "POMC.4890.10.1\n",
      "POMC.4890.10.1 merged.\n",
      "7255726 snps loaded for POMC.4890.10.1\n",
      "pqtls for POMC.4890.10.1: 0, cis-pqtls: 0\n",
      "----------------------------------------------------------------------------------------------------\n",
      "POMC.9204.33.3\n",
      "POMC.9204.33.3 merged.\n",
      "7255726 snps loaded for POMC.9204.33.3\n",
      "pqtls for POMC.9204.33.3: 0, cis-pqtls: 0\n",
      "----------------------------------------------------------------------------------------------------\n",
      "RRM1.11360.39.3\n",
      "RRM1.11360.39.3 merged.\n",
      "7255726 snps loaded for RRM1.11360.39.3\n",
      "pqtls for RRM1.11360.39.3: 257, cis-pqtls: 0\n",
      "----------------------------------------------------------------------------------------------------\n",
      "SLC22A16.9969.8.3\n",
      "SLC22A16.9969.8.3 merged.\n",
      "7255726 snps loaded for SLC22A16.9969.8.3\n",
      "pqtls for SLC22A16.9969.8.3: 250, cis-pqtls: 0\n",
      "----------------------------------------------------------------------------------------------------\n",
      "TNF.5936.53.3\n",
      "TNF.5936.53.3 merged.\n",
      "7255726 snps loaded for TNF.5936.53.3\n",
      "pqtls for TNF.5936.53.3: 1, cis-pqtls: 0\n",
      "----------------------------------------------------------------------------------------------------\n"
     ]
    }
   ],
   "source": [
    "cis_pqtls_list = []\n",
    "pqtls_list = []\n",
    "for i, pqtl in enumerate(pqtls):\n",
    "    print(pqtl)\n",
    "    if os.path.exists(os.path.join(pqtl_path, pqtl)):\n",
    "        if os.path.exists(os.path.join(merged_path, f'{pqtl}.csv')):\n",
    "            print(f'{pqtl} merged.')\n",
    "            df_chr_all = pd.read_csv(os.path.join(merged_path, f'{pqtl}.csv'))\n",
    "        else:\n",
    "            # list gwas summary data for all chr\n",
    "            files = os.listdir(os.path.join(pqtl_path, pqtl))\n",
    "            # print(len(files))\n",
    "            print(f'merging on {pqtl}')\n",
    "            gwas_summary_chrs = []\n",
    "            for f in files:\n",
    "                if f.endswith('tsv') or f.endswith('tsv.gz'):\n",
    "                    # read chr file\n",
    "                    if f.endswith('gz'):\n",
    "                        df_chr = pd.read_csv(os.path.join(pqtl_path, pqtl, f), sep='\\t', compression='gzip')\n",
    "                    else:\n",
    "                        df_chr = pd.read_csv(os.path.join(pqtl_path, pqtl, f), sep='\\t')\n",
    "                    gwas_summary_chrs.append(df_chr)\n",
    "\n",
    "            # concat all chr files\n",
    "            df_chr_all = pd.concat(gwas_summary_chrs, axis=0)\n",
    "\n",
    "            # rsid: merge with data.bims\n",
    "            df_chr_all = pd.merge(df_chr_all, df[['SNP', 'BP', 'CHR']], left_on=['chromosome', 'position'], right_on=['CHR', 'BP'])\n",
    "\n",
    "            # p-value\n",
    "            df_chr_all['P'] = np.power(10, df_chr_all['log(P)'])\n",
    "\n",
    "            # fdr corrected p-value\n",
    "            p_fdr = fdrcorrection(df_chr_all['P'].to_numpy(), is_sorted=False)\n",
    "            df_chr_all['FDR'] = p_fdr[1]\n",
    "\n",
    "            # save merged result for future use\n",
    "            df_chr_all.to_csv(os.path.join(merged_path, f'{pqtl}.csv'), index=False)\n",
    "\n",
    "        print(f'{len(df_chr_all)} snps loaded for {pqtl}')\n",
    "        # all snps that pass fdr correction\n",
    "        df_sig = df_chr_all[df_chr_all['FDR'] < 0.05].copy()\n",
    "        df_sig['ensembl_gene_id'] = gene_id[i]\n",
    "        df_sig['gene_pos'] = gene_pos[i]\n",
    "        # distance for the pqtls to the gene\n",
    "        df_sig['distance'] = np.abs(df_sig['position'] - df_sig['gene_pos'])\n",
    "        pqtls_list.append(df_sig)\n",
    "        df_sig['id'] = pqtl\n",
    "        # cis-pqtl in 250kb\n",
    "        df_cis_pqtls = df_sig[df_sig['distance'] < 250 * 1000].copy()\n",
    "        print(f'pqtls for {pqtl}: {len(df_sig)}, '\n",
    "              f'cis-pqtls: {len(df_cis_pqtls)}')\n",
    "        cis_pqtls_list.append(df_cis_pqtls)\n",
    "        print('-' * 100)"
   ],
   "metadata": {
    "collapsed": false,
    "ExecuteTime": {
     "end_time": "2023-07-22T06:02:12.553996Z",
     "start_time": "2023-07-22T05:59:57.085602800Z"
    }
   }
  },
  {
   "cell_type": "code",
   "execution_count": 13,
   "outputs": [],
   "source": [
    "df_cis_pqtls_all = pd.concat(cis_pqtls_list, axis=0)\n",
    "df_pqtl_all = pd.concat(pqtls_list, axis=0)"
   ],
   "metadata": {
    "collapsed": false,
    "ExecuteTime": {
     "end_time": "2023-07-22T06:02:12.568946600Z",
     "start_time": "2023-07-22T06:02:12.553996Z"
    }
   }
  },
  {
   "cell_type": "code",
   "execution_count": 14,
   "outputs": [],
   "source": [
    "df_cis_pqtls_all.to_csv(os.path.join('pqtl_data', f'cis_pqtls_interval_{pheno}.csv'), index=False)\n",
    "df_pqtl_all.to_csv(os.path.join('pqtl_data', f'pqtls_interval_{pheno}.csv'), index=False)"
   ],
   "metadata": {
    "collapsed": false,
    "ExecuteTime": {
     "end_time": "2023-07-22T06:02:12.599843400Z",
     "start_time": "2023-07-22T06:02:12.568946600Z"
    }
   }
  },
  {
   "cell_type": "code",
   "execution_count": 14,
   "outputs": [],
   "source": [],
   "metadata": {
    "collapsed": false,
    "ExecuteTime": {
     "end_time": "2023-07-22T06:02:12.613796100Z",
     "start_time": "2023-07-22T06:02:12.600840Z"
    }
   }
  }
 ],
 "metadata": {
  "kernelspec": {
   "display_name": "Python 3",
   "language": "python",
   "name": "python3"
  },
  "language_info": {
   "codemirror_mode": {
    "name": "ipython",
    "version": 2
   },
   "file_extension": ".py",
   "mimetype": "text/x-python",
   "name": "python",
   "nbconvert_exporter": "python",
   "pygments_lexer": "ipython2",
   "version": "2.7.6"
  }
 },
 "nbformat": 4,
 "nbformat_minor": 0
}
