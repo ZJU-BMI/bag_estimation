{
 "cells": [
  {
   "cell_type": "code",
   "execution_count": 1,
   "metadata": {
    "collapsed": true,
    "ExecuteTime": {
     "end_time": "2024-01-04T07:18:53.353831500Z",
     "start_time": "2024-01-04T07:18:52.344421200Z"
    }
   },
   "outputs": [],
   "source": [
    "import numpy as np\n",
    "import pandas as pd\n",
    "import os\n",
    "from statsmodels.stats.multitest import fdrcorrection"
   ]
  },
  {
   "cell_type": "code",
   "execution_count": 2,
   "outputs": [],
   "source": [
    "# bim.data include all gwas snps info for pheno\n",
    "df = pd.read_csv('data/data.bim', sep='\\t', header=None)\n",
    "df.columns = ['CHR', 'SNP', 'POS', 'BP', 'A1', 'A2']"
   ],
   "metadata": {
    "collapsed": false,
    "ExecuteTime": {
     "end_time": "2024-01-04T07:19:00.634232900Z",
     "start_time": "2024-01-04T07:18:55.264053400Z"
    }
   }
  },
  {
   "cell_type": "code",
   "execution_count": 3,
   "outputs": [],
   "source": [
    "pheno = 'bag'\n",
    "df_pqtls_info = pd.read_csv(f'data/pqtls_interval_{pheno}.csv')"
   ],
   "metadata": {
    "collapsed": false,
    "ExecuteTime": {
     "end_time": "2024-01-04T07:19:01.781999600Z",
     "start_time": "2024-01-04T07:19:01.760492600Z"
    }
   }
  },
  {
   "cell_type": "code",
   "execution_count": 4,
   "outputs": [
    {
     "name": "stdout",
     "output_type": "stream",
     "text": [
      "24 pQTLs founded.\n"
     ]
    }
   ],
   "source": [
    "pqtls = df_pqtls_info['SOMAMER_ID'].tolist()\n",
    "\n",
    "# gene position for calculate distance between pqtl and gene pos = floor((start_pos + end_pos) / 2)\n",
    "gene_pos = np.floor((df_pqtls_info['start_b37'] + df_pqtls_info['end_b37']) / 2).to_list()\n",
    "# chr for the gene\n",
    "gene_chr = df_pqtls_info['chr_b37'].tolist()\n",
    "# gene ensembl_id to identify the gene\n",
    "gene_id = df_pqtls_info['ensembl_gene_id'].tolist()\n",
    "\n",
    "# raw path for the pqtls\n",
    "pqtl_path = 'interval_pqtl_data_raw'\n",
    "# merged path for pqtls\n",
    "merged_path = 'interval_pqtl_merged'\n",
    "\n",
    "print(len(pqtls), 'pQTLs founded.')"
   ],
   "metadata": {
    "collapsed": false,
    "ExecuteTime": {
     "end_time": "2024-01-04T07:19:03.555725400Z",
     "start_time": "2024-01-04T07:19:03.549837100Z"
    }
   }
  },
  {
   "cell_type": "code",
   "execution_count": 5,
   "outputs": [
    {
     "name": "stdout",
     "output_type": "stream",
     "text": [
      "0 : ABHD12.7825.7.3\n",
      "ABHD12.7825.7.3 merged.\n",
      "7255726 snps loaded for ABHD12.7825.7.3\n",
      "pqtls for ABHD12.7825.7.3: 0, cis-pqtls: 0\n",
      "----------------------------------------------------------------------------------------------------\n",
      "1 : C1RL.9348.1.3\n",
      "C1RL.9348.1.3 merged.\n",
      "7255726 snps loaded for C1RL.9348.1.3\n",
      "pqtls for C1RL.9348.1.3: 73, cis-pqtls: 71\n",
      "----------------------------------------------------------------------------------------------------\n",
      "2 : CA4.3177.49.2\n",
      "CA4.3177.49.2 merged.\n",
      "7255726 snps loaded for CA4.3177.49.2\n",
      "pqtls for CA4.3177.49.2: 65, cis-pqtls: 0\n",
      "----------------------------------------------------------------------------------------------------\n",
      "3 : CD163.5028.59.1\n",
      "CD163.5028.59.1 merged.\n",
      "7255726 snps loaded for CD163.5028.59.1\n",
      "pqtls for CD163.5028.59.1: 202, cis-pqtls: 21\n",
      "----------------------------------------------------------------------------------------------------\n",
      "4 : CDC25B.12427.8.3\n",
      "CDC25B.12427.8.3 merged.\n",
      "7255726 snps loaded for CDC25B.12427.8.3\n",
      "pqtls for CDC25B.12427.8.3: 55, cis-pqtls: 0\n",
      "----------------------------------------------------------------------------------------------------\n",
      "5 : CDC42BPB.3629.60.4\n",
      "CDC42BPB.3629.60.4 merged.\n",
      "7255726 snps loaded for CDC42BPB.3629.60.4\n",
      "pqtls for CDC42BPB.3629.60.4: 42, cis-pqtls: 0\n",
      "----------------------------------------------------------------------------------------------------\n",
      "6 : CNP.6609.22.3\n",
      "CNP.6609.22.3 merged.\n",
      "7255726 snps loaded for CNP.6609.22.3\n",
      "pqtls for CNP.6609.22.3: 0, cis-pqtls: 0\n",
      "----------------------------------------------------------------------------------------------------\n",
      "7 : FYN.4550.3.2\n",
      "FYN.4550.3.2 merged.\n",
      "7255726 snps loaded for FYN.4550.3.2\n",
      "pqtls for FYN.4550.3.2: 409, cis-pqtls: 0\n",
      "----------------------------------------------------------------------------------------------------\n",
      "8 : GDF15.4374.45.2\n",
      "GDF15.4374.45.2 merged.\n",
      "7255726 snps loaded for GDF15.4374.45.2\n",
      "pqtls for GDF15.4374.45.2: 124, cis-pqtls: 119\n",
      "----------------------------------------------------------------------------------------------------\n",
      "9 : GNLY.3195.50.2\n",
      "GNLY.3195.50.2 merged.\n",
      "7255726 snps loaded for GNLY.3195.50.2\n",
      "pqtls for GNLY.3195.50.2: 1528, cis-pqtls: 318\n",
      "----------------------------------------------------------------------------------------------------\n",
      "10 : GSTA4.14645.253.3\n",
      "GSTA4.14645.253.3 merged.\n",
      "7255726 snps loaded for GSTA4.14645.253.3\n",
      "pqtls for GSTA4.14645.253.3: 45, cis-pqtls: 0\n",
      "----------------------------------------------------------------------------------------------------\n",
      "11 : GZMB.14041.13.3\n",
      "GZMB.14041.13.3 merged.\n",
      "7255726 snps loaded for GZMB.14041.13.3\n",
      "pqtls for GZMB.14041.13.3: 587, cis-pqtls: 526\n",
      "----------------------------------------------------------------------------------------------------\n",
      "12 : INSL3.5723.4.3\n",
      "INSL3.5723.4.3 merged.\n",
      "7255726 snps loaded for INSL3.5723.4.3\n",
      "pqtls for INSL3.5723.4.3: 30, cis-pqtls: 1\n",
      "----------------------------------------------------------------------------------------------------\n",
      "13 : ITGAL.11617.1.3\n",
      "ITGAL.11617.1.3 merged.\n",
      "7255726 snps loaded for ITGAL.11617.1.3\n",
      "pqtls for ITGAL.11617.1.3: 0, cis-pqtls: 0\n",
      "----------------------------------------------------------------------------------------------------\n",
      "14 : MAPK3.2855.49.2\n",
      "MAPK3.2855.49.2 merged.\n",
      "7255726 snps loaded for MAPK3.2855.49.2\n",
      "pqtls for MAPK3.2855.49.2: 81, cis-pqtls: 13\n",
      "----------------------------------------------------------------------------------------------------\n",
      "15 : MPL.3473.78.2\n",
      "MPL.3473.78.2 merged.\n",
      "7255726 snps loaded for MPL.3473.78.2\n",
      "pqtls for MPL.3473.78.2: 10, cis-pqtls: 0\n",
      "----------------------------------------------------------------------------------------------------\n",
      "16 : MUC4.10659.49.3\n",
      "MUC4.10659.49.3 merged.\n",
      "7255726 snps loaded for MUC4.10659.49.3\n",
      "pqtls for MUC4.10659.49.3: 0, cis-pqtls: 0\n",
      "----------------------------------------------------------------------------------------------------\n",
      "17 : NMB.9321.400.3\n",
      "merging on NMB.9321.400.3\n",
      "7255726 snps loaded for NMB.9321.400.3\n",
      "pqtls for NMB.9321.400.3: 0, cis-pqtls: 0\n",
      "----------------------------------------------------------------------------------------------------\n",
      "18 : NPPA.5443.62.2\n",
      "NPPA.5443.62.2 merged.\n",
      "7255726 snps loaded for NPPA.5443.62.2\n",
      "pqtls for NPPA.5443.62.2: 0, cis-pqtls: 0\n",
      "----------------------------------------------------------------------------------------------------\n",
      "19 : RRM1.11360.39.3\n",
      "RRM1.11360.39.3 merged.\n",
      "7255726 snps loaded for RRM1.11360.39.3\n",
      "pqtls for RRM1.11360.39.3: 257, cis-pqtls: 0\n",
      "----------------------------------------------------------------------------------------------------\n",
      "20 : SIRPB1.6247.9.3\n",
      "SIRPB1.6247.9.3 merged.\n",
      "7255726 snps loaded for SIRPB1.6247.9.3\n",
      "pqtls for SIRPB1.6247.9.3: 582, cis-pqtls: 544\n",
      "----------------------------------------------------------------------------------------------------\n",
      "21 : TG.4165.2.1\n",
      "TG.4165.2.1 merged.\n",
      "7255726 snps loaded for TG.4165.2.1\n",
      "pqtls for TG.4165.2.1: 0, cis-pqtls: 0\n",
      "----------------------------------------------------------------------------------------------------\n",
      "22 : TNFRSF10A.4832.75.2\n",
      "TNFRSF10A.4832.75.2 merged.\n",
      "7255726 snps loaded for TNFRSF10A.4832.75.2\n",
      "pqtls for TNFRSF10A.4832.75.2: 0, cis-pqtls: 0\n",
      "----------------------------------------------------------------------------------------------------\n",
      "23 : TNFSF12.5939.42.3\n",
      "TNFSF12.5939.42.3 merged.\n",
      "7255726 snps loaded for TNFSF12.5939.42.3\n",
      "pqtls for TNFSF12.5939.42.3: 336, cis-pqtls: 312\n",
      "----------------------------------------------------------------------------------------------------\n"
     ]
    }
   ],
   "source": [
    "cis_pqtls_list = []\n",
    "pqtls_list = []\n",
    "for i, pqtl in enumerate(pqtls):\n",
    "    print(i, ':', pqtl)\n",
    "    if os.path.exists(os.path.join(pqtl_path, pqtl)):\n",
    "        if os.path.exists(os.path.join(merged_path, f'{pqtl}.csv')):\n",
    "            print(f'{pqtl} merged.')\n",
    "            df_chr_all = pd.read_csv(os.path.join(merged_path, f'{pqtl}.csv'))\n",
    "        else:\n",
    "            # list gwas summary data for all chr\n",
    "            files = os.listdir(os.path.join(pqtl_path, pqtl))\n",
    "            # print(len(files))\n",
    "            print(f'merging on {pqtl}')\n",
    "            gwas_summary_chrs = []\n",
    "            for f in files:\n",
    "                if f.endswith('tsv') or f.endswith('tsv.gz'):\n",
    "                    # read chr file\n",
    "                    if f.endswith('gz'):\n",
    "                        df_chr = pd.read_csv(os.path.join(pqtl_path, pqtl, f), sep='\\t', compression='gzip')\n",
    "                    else:\n",
    "                        df_chr = pd.read_csv(os.path.join(pqtl_path, pqtl, f), sep='\\t')\n",
    "                    gwas_summary_chrs.append(df_chr)\n",
    "\n",
    "            # concat all chr files\n",
    "            df_chr_all = pd.concat(gwas_summary_chrs, axis=0)\n",
    "\n",
    "            # rsid: merge with data.bims\n",
    "            df_chr_all = pd.merge(df_chr_all, df[['SNP', 'BP', 'CHR']], left_on=['chromosome', 'position'], right_on=['CHR', 'BP'])\n",
    "\n",
    "            # p-value\n",
    "            df_chr_all['P'] = np.power(10, df_chr_all['log(P)'])\n",
    "\n",
    "            # fdr corrected p-value\n",
    "            p_fdr = fdrcorrection(df_chr_all['P'].to_numpy(), is_sorted=False)\n",
    "            df_chr_all['FDR'] = p_fdr[1]\n",
    "\n",
    "            # save merged result for future use\n",
    "            df_chr_all.to_csv(os.path.join(merged_path, f'{pqtl}.csv'), index=False)\n",
    "\n",
    "        print(f'{len(df_chr_all)} snps loaded for {pqtl}')\n",
    "        # all snps that pass fdr correction\n",
    "        df_sig = df_chr_all[df_chr_all['FDR'] < 0.05].copy()\n",
    "        df_sig['ensembl_gene_id'] = gene_id[i]\n",
    "        df_sig['gene_pos'] = gene_pos[i]\n",
    "        # distance for the pqtls to the gene\n",
    "        df_sig['distance'] = np.abs(df_sig['position'] - df_sig['gene_pos'])\n",
    "        pqtls_list.append(df_sig)\n",
    "        df_sig['id'] = pqtl\n",
    "        # cis-pqtl in 250kb\n",
    "        df_cis_pqtls = df_sig[df_sig['distance'] < 250 * 1000].copy()\n",
    "        print(f'pqtls for {pqtl}: {len(df_sig)}, '\n",
    "              f'cis-pqtls: {len(df_cis_pqtls)}')\n",
    "        cis_pqtls_list.append(df_cis_pqtls)\n",
    "        print('-' * 100)"
   ],
   "metadata": {
    "collapsed": false,
    "ExecuteTime": {
     "end_time": "2024-01-04T07:27:27.388920400Z",
     "start_time": "2024-01-04T07:19:44.459537800Z"
    }
   }
  },
  {
   "cell_type": "code",
   "execution_count": 6,
   "outputs": [],
   "source": [
    "df_cis_pqtls_all = pd.concat(cis_pqtls_list, axis=0)\n",
    "df_pqtl_all = pd.concat(pqtls_list, axis=0)"
   ],
   "metadata": {
    "collapsed": false,
    "ExecuteTime": {
     "end_time": "2024-01-04T07:27:36.822434400Z",
     "start_time": "2024-01-04T07:27:36.765391600Z"
    }
   }
  },
  {
   "cell_type": "code",
   "execution_count": 7,
   "outputs": [],
   "source": [
    "df_cis_pqtls_all.to_csv(os.path.join('pqtl_data', f'cis_pqtls_interval_{pheno}.csv'), index=False)\n",
    "df_pqtl_all.to_csv(os.path.join('pqtl_data', f'pqtls_interval_{pheno}.csv'), index=False)"
   ],
   "metadata": {
    "collapsed": false,
    "ExecuteTime": {
     "end_time": "2024-01-04T07:27:37.319373800Z",
     "start_time": "2024-01-04T07:27:37.231382400Z"
    }
   }
  },
  {
   "cell_type": "code",
   "execution_count": 8,
   "outputs": [
    {
     "name": "stdout",
     "output_type": "stream",
     "text": [
      "16\n"
     ]
    }
   ],
   "source": [
    "print(len(pd.unique(df_pqtl_all['ensembl_gene_id'])))"
   ],
   "metadata": {
    "collapsed": false,
    "ExecuteTime": {
     "end_time": "2024-01-04T07:27:37.802406900Z",
     "start_time": "2024-01-04T07:27:37.795953500Z"
    }
   }
  },
  {
   "cell_type": "code",
   "execution_count": null,
   "outputs": [],
   "source": [],
   "metadata": {
    "collapsed": false
   }
  }
 ],
 "metadata": {
  "kernelspec": {
   "display_name": "Python 3",
   "language": "python",
   "name": "python3"
  },
  "language_info": {
   "codemirror_mode": {
    "name": "ipython",
    "version": 2
   },
   "file_extension": ".py",
   "mimetype": "text/x-python",
   "name": "python",
   "nbconvert_exporter": "python",
   "pygments_lexer": "ipython2",
   "version": "2.7.6"
  }
 },
 "nbformat": 4,
 "nbformat_minor": 0
}
