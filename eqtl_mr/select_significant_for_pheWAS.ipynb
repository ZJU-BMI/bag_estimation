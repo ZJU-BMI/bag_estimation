{
 "cells": [
  {
   "cell_type": "code",
   "execution_count": 8,
   "metadata": {
    "collapsed": true,
    "ExecuteTime": {
     "end_time": "2023-07-21T08:57:51.321611400Z",
     "start_time": "2023-07-21T08:57:51.306101400Z"
    }
   },
   "outputs": [],
   "source": [
    "import pandas as pd"
   ]
  },
  {
   "cell_type": "code",
   "execution_count": 9,
   "outputs": [],
   "source": [
    "dis_thres = 250\n",
    "pheno = 'bag3'\n",
    "df_blood = pd.read_csv(f'results_{dis_thres}kb_eqtls_{pheno}/mr_significant_blood.csv')\n",
    "df_brain = pd.read_csv(f'results_{dis_thres}kb_eqtls_{pheno}/mr_significant_brain.csv')"
   ],
   "metadata": {
    "collapsed": false,
    "ExecuteTime": {
     "end_time": "2023-07-21T08:57:51.363746300Z",
     "start_time": "2023-07-21T08:57:51.320611300Z"
    }
   }
  },
  {
   "cell_type": "code",
   "execution_count": 10,
   "outputs": [],
   "source": [
    "# genes significant for blood\n",
    "genes_blood = df_blood['ensembl_gene_id'].tolist()\n",
    "genes_brain = df_brain['ensembl_gene_id'].tolist()"
   ],
   "metadata": {
    "collapsed": false,
    "ExecuteTime": {
     "end_time": "2023-07-21T08:57:51.365826900Z",
     "start_time": "2023-07-21T08:57:51.336259800Z"
    }
   }
  },
  {
   "cell_type": "code",
   "execution_count": 11,
   "outputs": [],
   "source": [
    "df_blood_snps = pd.read_csv(f'data_{dis_thres}kb_eqtls/druggable_blood_eqtls.csv')\n",
    "df_brain_snps = pd.read_csv(f'data_{dis_thres}kb_eqtls/druggable_brain_tissue_eqtls.csv')"
   ],
   "metadata": {
    "collapsed": false,
    "ExecuteTime": {
     "end_time": "2023-07-21T08:57:56.046179Z",
     "start_time": "2023-07-21T08:57:51.363746300Z"
    }
   }
  },
  {
   "cell_type": "code",
   "execution_count": 12,
   "outputs": [],
   "source": [
    "df_blood_snps_sig = df_blood_snps[df_blood_snps['ensembl_gene_id'].isin(genes_blood)]\n",
    "df_brain_snps_sig = df_brain_snps[df_brain_snps['ensembl_gene_id'].isin(genes_brain)]"
   ],
   "metadata": {
    "collapsed": false,
    "ExecuteTime": {
     "end_time": "2023-07-21T08:57:56.096946800Z",
     "start_time": "2023-07-21T08:57:56.047180400Z"
    }
   }
  },
  {
   "cell_type": "code",
   "execution_count": 13,
   "outputs": [
    {
     "name": "stdout",
     "output_type": "stream",
     "text": [
      "29\n",
      "3\n"
     ]
    }
   ],
   "source": [
    "print(len(pd.unique(df_blood_snps_sig['ensembl_gene_id'])))\n",
    "print(len(pd.unique(df_brain_snps_sig['ensembl_gene_id'])))"
   ],
   "metadata": {
    "collapsed": false,
    "ExecuteTime": {
     "end_time": "2023-07-21T08:57:56.107566600Z",
     "start_time": "2023-07-21T08:57:56.093672Z"
    }
   }
  },
  {
   "cell_type": "code",
   "execution_count": 14,
   "outputs": [],
   "source": [
    "df_blood_snps_sig.to_csv(f'results_{dis_thres}kb_eqtls_{pheno}/significant_blood_eqtls.csv', index=False)\n",
    "df_brain_snps_sig.to_csv(f'results_{dis_thres}kb_eqtls_{pheno}/significant_brain_eqtls.csv', index=False)"
   ],
   "metadata": {
    "collapsed": false,
    "ExecuteTime": {
     "end_time": "2023-07-21T08:57:56.356729100Z",
     "start_time": "2023-07-21T08:57:56.107566600Z"
    }
   }
  },
  {
   "cell_type": "code",
   "execution_count": 14,
   "outputs": [],
   "source": [],
   "metadata": {
    "collapsed": false,
    "ExecuteTime": {
     "end_time": "2023-07-21T08:57:56.371808Z",
     "start_time": "2023-07-21T08:57:56.357729Z"
    }
   }
  }
 ],
 "metadata": {
  "kernelspec": {
   "display_name": "Python 3",
   "language": "python",
   "name": "python3"
  },
  "language_info": {
   "codemirror_mode": {
    "name": "ipython",
    "version": 2
   },
   "file_extension": ".py",
   "mimetype": "text/x-python",
   "name": "python",
   "nbconvert_exporter": "python",
   "pygments_lexer": "ipython2",
   "version": "2.7.6"
  }
 },
 "nbformat": 4,
 "nbformat_minor": 0
}
