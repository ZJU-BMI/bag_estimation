{
 "cells": [
  {
   "cell_type": "code",
   "execution_count": 12,
   "metadata": {
    "collapsed": true,
    "ExecuteTime": {
     "end_time": "2024-01-04T06:56:36.797270Z",
     "start_time": "2024-01-04T06:56:36.789878800Z"
    }
   },
   "outputs": [],
   "source": [
    "import pandas as pd"
   ]
  },
  {
   "cell_type": "code",
   "execution_count": 13,
   "outputs": [],
   "source": [
    "dis_thres = 250\n",
    "pheno = 'bag'\n",
    "df_blood = pd.read_csv(f'results_{dis_thres}kb_eqtls_{pheno}/mr_significant_blood.csv')\n",
    "df_brain = pd.read_csv(f'results_{dis_thres}kb_eqtls_{pheno}/mr_significant_brain.csv')"
   ],
   "metadata": {
    "collapsed": false,
    "ExecuteTime": {
     "end_time": "2024-01-04T06:56:36.829934700Z",
     "start_time": "2024-01-04T06:56:36.796017600Z"
    }
   }
  },
  {
   "cell_type": "code",
   "execution_count": 14,
   "outputs": [],
   "source": [
    "# genes significant for blood\n",
    "genes_blood = df_blood['ensembl_gene_id'].tolist()\n",
    "genes_brain = df_brain['ensembl_gene_id'].tolist()"
   ],
   "metadata": {
    "collapsed": false,
    "ExecuteTime": {
     "end_time": "2024-01-04T06:56:36.829934700Z",
     "start_time": "2024-01-04T06:56:36.809000200Z"
    }
   }
  },
  {
   "cell_type": "code",
   "execution_count": 15,
   "outputs": [],
   "source": [
    "df_blood_snps = pd.read_csv(f'data_{dis_thres}kb_eqtls/druggable_blood_eqtls.csv')\n",
    "df_brain_snps = pd.read_csv(f'data_{dis_thres}kb_eqtls/druggable_brain_tissue_eqtls.csv')"
   ],
   "metadata": {
    "collapsed": false,
    "ExecuteTime": {
     "end_time": "2024-01-04T06:56:43.499117900Z",
     "start_time": "2024-01-04T06:56:36.814957200Z"
    }
   }
  },
  {
   "cell_type": "code",
   "execution_count": 16,
   "outputs": [],
   "source": [
    "df_blood_snps_sig = df_blood_snps[df_blood_snps['ensembl_gene_id'].isin(genes_blood)]\n",
    "df_brain_snps_sig = df_brain_snps[df_brain_snps['ensembl_gene_id'].isin(genes_brain)]"
   ],
   "metadata": {
    "collapsed": false,
    "ExecuteTime": {
     "end_time": "2024-01-04T06:56:43.568697800Z",
     "start_time": "2024-01-04T06:56:43.502696500Z"
    }
   }
  },
  {
   "cell_type": "code",
   "execution_count": 17,
   "outputs": [
    {
     "name": "stdout",
     "output_type": "stream",
     "text": [
      "55\n",
      "10\n"
     ]
    }
   ],
   "source": [
    "print(len(pd.unique(df_blood_snps_sig['ensembl_gene_id'])))\n",
    "print(len(pd.unique(df_brain_snps_sig['ensembl_gene_id'])))"
   ],
   "metadata": {
    "collapsed": false,
    "ExecuteTime": {
     "end_time": "2024-01-04T06:56:43.580051400Z",
     "start_time": "2024-01-04T06:56:43.569704500Z"
    }
   }
  },
  {
   "cell_type": "code",
   "execution_count": 18,
   "outputs": [],
   "source": [
    "df_blood_snps_sig.to_csv(f'results_{dis_thres}kb_eqtls_{pheno}/significant_blood_eqtls.csv', index=False)\n",
    "df_brain_snps_sig.to_csv(f'results_{dis_thres}kb_eqtls_{pheno}/significant_brain_eqtls.csv', index=False)"
   ],
   "metadata": {
    "collapsed": false,
    "ExecuteTime": {
     "end_time": "2024-01-04T06:56:44.136174700Z",
     "start_time": "2024-01-04T06:56:43.579040100Z"
    }
   }
  },
  {
   "cell_type": "code",
   "execution_count": 18,
   "outputs": [],
   "source": [],
   "metadata": {
    "collapsed": false,
    "ExecuteTime": {
     "end_time": "2024-01-04T06:56:44.144891800Z",
     "start_time": "2024-01-04T06:56:44.137082Z"
    }
   }
  }
 ],
 "metadata": {
  "kernelspec": {
   "display_name": "Python 3",
   "language": "python",
   "name": "python3"
  },
  "language_info": {
   "codemirror_mode": {
    "name": "ipython",
    "version": 2
   },
   "file_extension": ".py",
   "mimetype": "text/x-python",
   "name": "python",
   "nbconvert_exporter": "python",
   "pygments_lexer": "ipython2",
   "version": "2.7.6"
  }
 },
 "nbformat": 4,
 "nbformat_minor": 0
}
