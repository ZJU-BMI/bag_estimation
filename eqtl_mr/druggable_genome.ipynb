{
 "cells": [
  {
   "cell_type": "code",
   "execution_count": 1,
   "metadata": {
    "collapsed": true,
    "ExecuteTime": {
     "end_time": "2023-07-04T13:36:06.661258Z",
     "start_time": "2023-07-04T13:36:06.330498700Z"
    }
   },
   "outputs": [],
   "source": [
    "import os.path\n",
    "import pandas as pd"
   ]
  },
  {
   "cell_type": "code",
   "execution_count": 2,
   "outputs": [],
   "source": [
    "df_blood = pd.read_table('data/blood_eqtls.txt', sep='\\t')"
   ],
   "metadata": {
    "collapsed": false,
    "ExecuteTime": {
     "end_time": "2023-07-04T13:36:26.524807400Z",
     "start_time": "2023-07-04T13:36:08.359498700Z"
    }
   }
  },
  {
   "cell_type": "code",
   "execution_count": 3,
   "outputs": [
    {
     "data": {
      "text/plain": "16987"
     },
     "execution_count": 3,
     "metadata": {},
     "output_type": "execute_result"
    }
   ],
   "source": [
    "len(pd.unique(df_blood['Gene']))"
   ],
   "metadata": {
    "collapsed": false,
    "ExecuteTime": {
     "end_time": "2023-07-04T13:36:28.608252200Z",
     "start_time": "2023-07-04T13:36:28.016197700Z"
    }
   }
  },
  {
   "cell_type": "code",
   "execution_count": 4,
   "outputs": [],
   "source": [
    "df_brain = pd.read_table('data/brain_tissue_eqtls.txt', sep='\\t')"
   ],
   "metadata": {
    "collapsed": false,
    "ExecuteTime": {
     "end_time": "2023-07-04T13:36:34.878734400Z",
     "start_time": "2023-07-04T13:36:30.288073400Z"
    }
   }
  },
  {
   "cell_type": "code",
   "execution_count": 5,
   "outputs": [],
   "source": [
    "df_brain['SNP_chr'] = df_brain['SNP_chr'].str[3:].astype(int)"
   ],
   "metadata": {
    "collapsed": false,
    "ExecuteTime": {
     "end_time": "2023-07-04T13:36:36.894279100Z",
     "start_time": "2023-07-04T13:36:36.229490400Z"
    }
   }
  },
  {
   "cell_type": "code",
   "execution_count": 6,
   "outputs": [
    {
     "data": {
      "text/plain": "32944"
     },
     "execution_count": 6,
     "metadata": {},
     "output_type": "execute_result"
    }
   ],
   "source": [
    "len(pd.unique(df_brain['gene_id']))"
   ],
   "metadata": {
    "collapsed": false,
    "ExecuteTime": {
     "end_time": "2023-07-04T13:36:38.565358500Z",
     "start_time": "2023-07-04T13:36:38.396600400Z"
    }
   }
  },
  {
   "cell_type": "code",
   "execution_count": 7,
   "outputs": [],
   "source": [
    "df_druggable = pd.read_excel(r'data/druggable_genome.xlsx', sheet_name='Data')\n",
    "dis_thres = 250 * 1000"
   ],
   "metadata": {
    "collapsed": false,
    "ExecuteTime": {
     "end_time": "2023-07-04T13:36:41.135869Z",
     "start_time": "2023-07-04T13:36:39.994960800Z"
    }
   }
  },
  {
   "cell_type": "code",
   "execution_count": 8,
   "outputs": [],
   "source": [
    "df_blood['distance'] = df_blood['SNPPos'] - df_blood['GenePos']"
   ],
   "metadata": {
    "collapsed": false,
    "ExecuteTime": {
     "end_time": "2023-07-04T13:36:42.591657200Z",
     "start_time": "2023-07-04T13:36:42.554461300Z"
    }
   }
  },
  {
   "cell_type": "code",
   "execution_count": 9,
   "outputs": [
    {
     "name": "stdout",
     "output_type": "stream",
     "text": [
      "all eqtls in blood: 10507664\n",
      "eqtls in 250kb in blood: 8722652\n"
     ]
    }
   ],
   "source": [
    "print('all eqtls in blood:', len(df_blood))\n",
    "print(f'eqtls in {dis_thres // 1000}kb in blood:', len(df_blood[abs(df_blood['distance'] <= dis_thres)]))"
   ],
   "metadata": {
    "collapsed": false,
    "ExecuteTime": {
     "end_time": "2023-07-04T13:36:45.466778600Z",
     "start_time": "2023-07-04T13:36:44.029696900Z"
    }
   }
  },
  {
   "cell_type": "code",
   "execution_count": 10,
   "outputs": [
    {
     "name": "stdout",
     "output_type": "stream",
     "text": [
      "all eqtls in brain tissues: 2542908\n",
      "eqtls in 250kb in brain tissues: 2199243\n"
     ]
    }
   ],
   "source": [
    "print('all eqtls in brain tissues:', len(df_brain))\n",
    "print(f'eqtls in {dis_thres // 1000}kb in brain tissues:', len(df_brain[abs(df_brain['SNP_distance_to_TSS'] <= dis_thres)]))"
   ],
   "metadata": {
    "collapsed": false,
    "ExecuteTime": {
     "end_time": "2023-07-04T13:36:49.253574600Z",
     "start_time": "2023-07-04T13:36:48.975913900Z"
    }
   }
  },
  {
   "cell_type": "code",
   "execution_count": 11,
   "outputs": [],
   "source": [
    "df_brain['ensembl_gene_id'] = df_brain['gene_id'].str[0:15]"
   ],
   "metadata": {
    "collapsed": false,
    "ExecuteTime": {
     "end_time": "2023-07-04T13:36:52.101454400Z",
     "start_time": "2023-07-04T13:36:51.599800300Z"
    }
   }
  },
  {
   "cell_type": "code",
   "execution_count": 12,
   "outputs": [],
   "source": [
    "df_brain_druggable = pd.merge(df_druggable, df_brain, on='ensembl_gene_id')"
   ],
   "metadata": {
    "collapsed": false,
    "ExecuteTime": {
     "end_time": "2023-07-04T13:36:54.877110Z",
     "start_time": "2023-07-04T13:36:53.904122900Z"
    }
   }
  },
  {
   "cell_type": "code",
   "execution_count": 13,
   "outputs": [
    {
     "name": "stdout",
     "output_type": "stream",
     "text": [
      "All Durggable genes in brain tissues: 3447\n"
     ]
    }
   ],
   "source": [
    "print('All Durggable genes in brain tissues:', len(pd.unique(df_brain_druggable['ensembl_gene_id'])))"
   ],
   "metadata": {
    "collapsed": false,
    "ExecuteTime": {
     "end_time": "2023-07-04T13:36:56.823166900Z",
     "start_time": "2023-07-04T13:36:56.813143100Z"
    }
   }
  },
  {
   "cell_type": "code",
   "execution_count": 14,
   "outputs": [],
   "source": [
    "df_blood_druggable = pd.merge(df_druggable, df_blood, left_on='ensembl_gene_id', right_on='Gene')"
   ],
   "metadata": {
    "collapsed": false,
    "ExecuteTime": {
     "end_time": "2023-07-04T13:36:59.442188200Z",
     "start_time": "2023-07-04T13:36:58.646482600Z"
    }
   }
  },
  {
   "cell_type": "code",
   "execution_count": 15,
   "outputs": [
    {
     "name": "stdout",
     "output_type": "stream",
     "text": [
      "All Durggable genes in blood: 2715\n"
     ]
    }
   ],
   "source": [
    "print('All Durggable genes in blood:', len(pd.unique(df_blood_druggable['ensembl_gene_id'])))"
   ],
   "metadata": {
    "collapsed": false,
    "ExecuteTime": {
     "end_time": "2023-07-04T13:37:01.690765800Z",
     "start_time": "2023-07-04T13:37:01.588789400Z"
    }
   }
  },
  {
   "cell_type": "code",
   "execution_count": 16,
   "outputs": [
    {
     "name": "stdout",
     "output_type": "stream",
     "text": [
      "2682\n",
      "2915\n"
     ]
    }
   ],
   "source": [
    "# qc e-QTL distance\n",
    "df_blood_druggable =  df_blood_druggable[abs(df_blood_druggable['distance']) <= dis_thres]\n",
    "df_brain_druggable =  df_brain_druggable[abs(df_brain_druggable['SNP_distance_to_TSS']) <= dis_thres]\n",
    "\n",
    "print(len(pd.unique(df_blood_druggable['ensembl_gene_id'])))\n",
    "print(len(pd.unique(df_brain_druggable['ensembl_gene_id'])))"
   ],
   "metadata": {
    "collapsed": false,
    "ExecuteTime": {
     "end_time": "2023-07-04T13:37:07.099889700Z",
     "start_time": "2023-07-04T13:37:06.313199900Z"
    }
   }
  },
  {
   "cell_type": "code",
   "execution_count": 17,
   "outputs": [],
   "source": [
    "save_path = f'data_{dis_thres // 1000}kb_eqtls'\n",
    "if not os.path.exists(save_path):\n",
    "    os.mkdir(save_path)\n",
    "\n",
    "df_blood_druggable.to_csv(f'{save_path}/druggable_blood_eqtls.csv', na_rep='NA', index=False)\n",
    "df_brain_druggable.to_csv(f'{save_path}/druggable_brain_tissue_eqtls.csv', na_rep='NA', index=False)"
   ],
   "metadata": {
    "collapsed": false,
    "ExecuteTime": {
     "end_time": "2023-06-09T03:09:41.614584700Z",
     "start_time": "2023-06-09T03:09:36.806942200Z"
    }
   }
  },
  {
   "cell_type": "code",
   "execution_count": null,
   "outputs": [],
   "source": [],
   "metadata": {
    "collapsed": false
   }
  }
 ],
 "metadata": {
  "kernelspec": {
   "display_name": "Python 3",
   "language": "python",
   "name": "python3"
  },
  "language_info": {
   "codemirror_mode": {
    "name": "ipython",
    "version": 2
   },
   "file_extension": ".py",
   "mimetype": "text/x-python",
   "name": "python",
   "nbconvert_exporter": "python",
   "pygments_lexer": "ipython2",
   "version": "2.7.6"
  }
 },
 "nbformat": 4,
 "nbformat_minor": 0
}
