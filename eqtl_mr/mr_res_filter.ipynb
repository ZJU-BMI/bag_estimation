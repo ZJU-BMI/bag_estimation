{
 "cells": [
  {
   "cell_type": "code",
   "execution_count": 1,
   "metadata": {
    "collapsed": true,
    "ExecuteTime": {
     "end_time": "2024-01-03T17:02:36.962416Z",
     "start_time": "2024-01-03T17:02:36.351266200Z"
    }
   },
   "outputs": [],
   "source": [
    "import pandas as pd\n",
    "from statsmodels.stats.multitest import fdrcorrection"
   ]
  },
  {
   "cell_type": "code",
   "execution_count": 2,
   "outputs": [],
   "source": [
    "eqtl_type = 'blood'\n",
    "dis_thres = 250\n",
    "pheno = 'bag'\n",
    "\n",
    "df = pd.read_csv(f'results_{dis_thres}kb_eqtls_{pheno}/mr_res_{eqtl_type}.csv')\n",
    "df_plei = pd.read_csv(f'results_{dis_thres}kb_eqtls_{pheno}/pleiotropy_res_{eqtl_type}.csv')"
   ],
   "metadata": {
    "collapsed": false,
    "ExecuteTime": {
     "end_time": "2024-01-03T17:02:36.986443900Z",
     "start_time": "2024-01-03T17:02:36.963416100Z"
    }
   }
  },
  {
   "cell_type": "code",
   "execution_count": 3,
   "outputs": [
    {
     "data": {
      "text/plain": "method\nInverse variance weighted    2382\nMR Egger                     2189\nWeighted median              2189\nSimple mode                  2189\nWeighted mode                2189\nWald ratio                    234\nName: count, dtype: int64"
     },
     "execution_count": 3,
     "metadata": {},
     "output_type": "execute_result"
    }
   ],
   "source": [
    "if eqtl_type == 'blood':\n",
    "    df['eQTL_type'] = 'Blood eQTL'\n",
    "else:\n",
    "    df['eQTL_type'] = 'Brain Tissue eQTL'\n",
    "\n",
    "if pheno == 'bag3':\n",
    "    df['outcome'] = 'BAG > 3 years'\n",
    "elif pheno == 'bagm3':\n",
    "    df['outcome'] = 'BAG < -3 years'\n",
    "elif pheno == 'bag':\n",
    "    df['outcome'] = 'BAG'\n",
    "else:\n",
    "    df['outcome'] = 'Outcome'\n",
    "\n",
    "df['method'].value_counts()"
   ],
   "metadata": {
    "collapsed": false,
    "ExecuteTime": {
     "end_time": "2024-01-03T17:02:36.996758300Z",
     "start_time": "2024-01-03T17:02:36.987443600Z"
    }
   }
  },
  {
   "cell_type": "code",
   "execution_count": 4,
   "outputs": [
    {
     "name": "stdout",
     "output_type": "stream",
     "text": [
      "MR Egger\n",
      "Weighted median\n",
      "Inverse variance weighted\n",
      "Simple mode\n",
      "Weighted mode\n",
      "Wald ratio\n"
     ]
    }
   ],
   "source": [
    "# fdr correction on each method\n",
    "fdr_res = []\n",
    "for method in pd.unique(df['method']):\n",
    "    print(method)\n",
    "    dfp = df[df['method'] == method][['id.exposure', 'method', 'pval']].copy()\n",
    "    # fdr correction p-value\n",
    "    p_adj = fdrcorrection(dfp['pval'].to_numpy(), is_sorted=False)\n",
    "    dfp['fdr'] = p_adj[1]\n",
    "    fdr_res.append(dfp[['id.exposure', 'method', 'fdr']])"
   ],
   "metadata": {
    "collapsed": false,
    "ExecuteTime": {
     "end_time": "2024-01-03T17:02:37.011052200Z",
     "start_time": "2024-01-03T17:02:36.992758200Z"
    }
   }
  },
  {
   "cell_type": "code",
   "execution_count": 5,
   "outputs": [],
   "source": [
    "df_fdr_res = pd.concat(fdr_res, axis=0)"
   ],
   "metadata": {
    "collapsed": false,
    "ExecuteTime": {
     "end_time": "2024-01-03T17:02:37.026378200Z",
     "start_time": "2024-01-03T17:02:37.007738700Z"
    }
   }
  },
  {
   "cell_type": "code",
   "execution_count": 6,
   "outputs": [],
   "source": [
    "# merge with original result\n",
    "df = pd.merge(df, df_fdr_res, on=['id.exposure', 'method'])"
   ],
   "metadata": {
    "collapsed": false,
    "ExecuteTime": {
     "end_time": "2024-01-03T17:02:37.027378400Z",
     "start_time": "2024-01-03T17:02:37.010053400Z"
    }
   }
  },
  {
   "cell_type": "code",
   "execution_count": 7,
   "outputs": [],
   "source": [
    "# merge mr egger test result\n",
    "df_plei.rename(columns={'pval': 'egger_pval', 'se': 'egger_se'}, inplace=True)\n",
    "df_plei.drop(columns=['id.outcome', 'outcome', 'exposure'], inplace=True)\n",
    "df = pd.merge(df, df_plei, on=['id.exposure'], how='left')"
   ],
   "metadata": {
    "collapsed": false,
    "ExecuteTime": {
     "end_time": "2024-01-03T17:02:37.027378400Z",
     "start_time": "2024-01-03T17:02:37.019445700Z"
    }
   }
  },
  {
   "cell_type": "code",
   "execution_count": 8,
   "outputs": [],
   "source": [
    "# load drug info\n",
    "df_drug_info = pd.read_excel('data/druggable_genome.xlsx', sheet_name='Data')\n",
    "df = pd.merge(df_drug_info, df, left_on='ensembl_gene_id', right_on='id.exposure')"
   ],
   "metadata": {
    "collapsed": false,
    "ExecuteTime": {
     "end_time": "2024-01-03T17:02:37.634420700Z",
     "start_time": "2024-01-03T17:02:37.024378Z"
    }
   }
  },
  {
   "cell_type": "code",
   "execution_count": 9,
   "outputs": [],
   "source": [
    "df['id.exposure'] = df['hgnc_names']\n",
    "# find significant results\n",
    "df['significant'] = (df['fdr'] < 0.05).astype(int)"
   ],
   "metadata": {
    "collapsed": false,
    "ExecuteTime": {
     "end_time": "2024-01-03T17:02:37.635424600Z",
     "start_time": "2024-01-03T17:02:37.629052700Z"
    }
   }
  },
  {
   "cell_type": "code",
   "execution_count": 10,
   "outputs": [],
   "source": [
    "# count significant method for each druggable gene\n",
    "# df_grouped = df.groupby(['ensembl_gene_id'])['significant'].sum()\n",
    "# df_grouped = pd.DataFrame(df_grouped).reset_index()\n",
    "# df_grouped.rename(columns={'significant': 'significant_num'}, inplace=True)"
   ],
   "metadata": {
    "collapsed": false,
    "ExecuteTime": {
     "end_time": "2024-01-03T17:02:37.636424100Z",
     "start_time": "2024-01-03T17:02:37.632913200Z"
    }
   }
  },
  {
   "cell_type": "code",
   "execution_count": 11,
   "outputs": [],
   "source": [
    "# df = pd.merge(df, df_grouped, on='ensembl_gene_id')\n",
    "df['egger_pval'].fillna(1, inplace=True)\n",
    "df.to_csv(f'results_{dis_thres}kb_eqtls_{pheno}/mr_result_{eqtl_type}_preprocessed.csv', index=False)"
   ],
   "metadata": {
    "collapsed": false,
    "ExecuteTime": {
     "end_time": "2024-01-03T17:02:37.717760500Z",
     "start_time": "2024-01-03T17:02:37.635424600Z"
    }
   }
  },
  {
   "cell_type": "code",
   "execution_count": 12,
   "outputs": [],
   "source": [
    "# select significant results: <=2 snp: only 1 method, >=3 snps: 5 method, at least 3 method must be significant\n",
    "# df_significant = df[(((df['nsnp'] <= 2) & (df['significant_num'] == 1)) | ((df['nsnp'] > 2) & (df['significant_num'] > 2)))].copy()"
   ],
   "metadata": {
    "collapsed": false,
    "ExecuteTime": {
     "end_time": "2024-01-03T17:02:37.725808500Z",
     "start_time": "2024-01-03T17:02:37.718542600Z"
    }
   }
  },
  {
   "cell_type": "code",
   "execution_count": 13,
   "outputs": [],
   "source": [
    "# if MR egger can not be done, set p-value = 1\n",
    "# df_significant['egger_pval'].fillna(1, inplace=True)\n",
    "# print(df_significant['egger_pval'])"
   ],
   "metadata": {
    "collapsed": false,
    "ExecuteTime": {
     "end_time": "2024-01-03T17:02:37.726932700Z",
     "start_time": "2024-01-03T17:02:37.720049900Z"
    }
   }
  },
  {
   "cell_type": "code",
   "execution_count": 14,
   "outputs": [],
   "source": [
    "# remove results with horizontal pleiotropy\n",
    "# df_significant = df_significant[df_significant['egger_pval'] > 0.05]"
   ],
   "metadata": {
    "collapsed": false,
    "ExecuteTime": {
     "end_time": "2024-01-03T17:02:37.727436Z",
     "start_time": "2024-01-03T17:02:37.723746700Z"
    }
   }
  },
  {
   "cell_type": "code",
   "execution_count": 15,
   "outputs": [],
   "source": [
    "# df_significant.to_csv(f'results_{dis_thres}kb_eqtls_{pheno}/mr_significant_{eqtl_type}_5methods.csv', index=False)\n"
   ],
   "metadata": {
    "collapsed": false,
    "ExecuteTime": {
     "end_time": "2024-01-03T17:02:37.728439600Z",
     "start_time": "2024-01-03T17:02:37.726807900Z"
    }
   }
  },
  {
   "cell_type": "code",
   "execution_count": 16,
   "outputs": [],
   "source": [
    "# significant results only ivw or wald ratio\n",
    "df_ivw = df[df['fdr'] < 0.05]\n",
    "df_ivw = df_ivw[((df_ivw['nsnp'] <= 2) | ((df_ivw['nsnp'] > 2) & (df_ivw['egger_pval'] > 0.05) & (df_ivw['method'] == 'Inverse variance weighted')))]\n",
    "df_ivw.to_csv(f'results_{dis_thres}kb_eqtls_{pheno}/mr_significant_{eqtl_type}.csv', index=False)"
   ],
   "metadata": {
    "collapsed": false,
    "ExecuteTime": {
     "end_time": "2024-01-03T17:02:37.735631800Z",
     "start_time": "2024-01-03T17:02:37.729439700Z"
    }
   }
  },
  {
   "cell_type": "code",
   "execution_count": 17,
   "outputs": [],
   "source": [
    "# colocalization test\n",
    "df_coloc = pd.read_csv(f'coloc_results/coloc_{eqtl_type}_{pheno}.csv')\n",
    "df_coloc = df_coloc[['ensembl_gene_id', 'snp', 'SNP.PP.H4']]"
   ],
   "metadata": {
    "collapsed": false,
    "ExecuteTime": {
     "end_time": "2024-01-03T17:02:37.752335400Z",
     "start_time": "2024-01-03T17:02:37.734632200Z"
    }
   }
  },
  {
   "cell_type": "code",
   "execution_count": 18,
   "outputs": [],
   "source": [
    "df_ivw_coloc = pd.merge(df_ivw, df_coloc, on='ensembl_gene_id', how='inner')"
   ],
   "metadata": {
    "collapsed": false,
    "ExecuteTime": {
     "end_time": "2024-01-03T17:02:37.760800300Z",
     "start_time": "2024-01-03T17:02:37.752335400Z"
    }
   }
  },
  {
   "cell_type": "code",
   "execution_count": 19,
   "outputs": [],
   "source": [
    "df_ivw_coloc.to_csv(f'results_{dis_thres}kb_eqtls_{pheno}/mr_significant_{eqtl_type}_coloc.csv', index=False)"
   ],
   "metadata": {
    "collapsed": false,
    "ExecuteTime": {
     "end_time": "2024-01-03T17:02:37.761800800Z",
     "start_time": "2024-01-03T17:02:37.756221Z"
    }
   }
  },
  {
   "cell_type": "code",
   "execution_count": 19,
   "outputs": [],
   "source": [],
   "metadata": {
    "collapsed": false,
    "ExecuteTime": {
     "end_time": "2024-01-03T17:02:37.761800800Z",
     "start_time": "2024-01-03T17:02:37.759293400Z"
    }
   }
  }
 ],
 "metadata": {
  "kernelspec": {
   "display_name": "Python 3",
   "language": "python",
   "name": "python3"
  },
  "language_info": {
   "codemirror_mode": {
    "name": "ipython",
    "version": 2
   },
   "file_extension": ".py",
   "mimetype": "text/x-python",
   "name": "python",
   "nbconvert_exporter": "python",
   "pygments_lexer": "ipython2",
   "version": "2.7.6"
  }
 },
 "nbformat": 4,
 "nbformat_minor": 0
}
