{
 "cells": [
  {
   "cell_type": "code",
   "execution_count": 263,
   "metadata": {
    "collapsed": true,
    "ExecuteTime": {
     "end_time": "2023-07-21T07:15:12.760201300Z",
     "start_time": "2023-07-21T07:15:12.749554Z"
    }
   },
   "outputs": [],
   "source": [
    "import pandas as pd\n",
    "from statsmodels.stats.multitest import fdrcorrection"
   ]
  },
  {
   "cell_type": "code",
   "execution_count": 264,
   "outputs": [],
   "source": [
    "eqtl_type = 'brain'\n",
    "dis_thres = 250\n",
    "pheno = 'bagm3'\n",
    "\n",
    "df = pd.read_csv(f'results_{dis_thres}kb_eqtls_{pheno}/mr_res_{eqtl_type}.csv')\n",
    "df_plei = pd.read_csv(f'results_{dis_thres}kb_eqtls_{pheno}/pleiotropy_res_{eqtl_type}.csv')"
   ],
   "metadata": {
    "collapsed": false,
    "ExecuteTime": {
     "end_time": "2023-07-21T07:15:12.795970300Z",
     "start_time": "2023-07-21T07:15:12.755694700Z"
    }
   }
  },
  {
   "cell_type": "code",
   "execution_count": 265,
   "outputs": [
    {
     "data": {
      "text/plain": "Inverse variance weighted    1578\nMR Egger                     1017\nWeighted median              1017\nSimple mode                  1017\nWeighted mode                1017\nWald ratio                    960\nName: method, dtype: int64"
     },
     "execution_count": 265,
     "metadata": {},
     "output_type": "execute_result"
    }
   ],
   "source": [
    "if eqtl_type == 'blood':\n",
    "    df['eQTL_type'] = 'Blood eQTL'\n",
    "else:\n",
    "    df['eQTL_type'] = 'Brain Tissue eQTL'\n",
    "df['outcome'] = 'BAG > 3 years' if pheno == 'bag3' else 'BAG < -3 years'\n",
    "df['method'].value_counts()"
   ],
   "metadata": {
    "collapsed": false,
    "ExecuteTime": {
     "end_time": "2023-07-21T07:15:12.795970300Z",
     "start_time": "2023-07-21T07:15:12.775926300Z"
    }
   }
  },
  {
   "cell_type": "code",
   "execution_count": 266,
   "outputs": [
    {
     "name": "stdout",
     "output_type": "stream",
     "text": [
      "Inverse variance weighted\n",
      "MR Egger\n",
      "Weighted median\n",
      "Simple mode\n",
      "Weighted mode\n",
      "Wald ratio\n"
     ]
    }
   ],
   "source": [
    "# fdr correction on each method\n",
    "fdr_res = []\n",
    "for method in pd.unique(df['method']):\n",
    "    print(method)\n",
    "    dfp = df[df['method'] == method][['id.exposure', 'method', 'pval']].copy()\n",
    "    # fdr correction p-value\n",
    "    p_adj = fdrcorrection(dfp['pval'].to_numpy(), is_sorted=False)\n",
    "    dfp['fdr'] = p_adj[1]\n",
    "    fdr_res.append(dfp[['id.exposure', 'method', 'fdr']])"
   ],
   "metadata": {
    "collapsed": false,
    "ExecuteTime": {
     "end_time": "2023-07-21T07:15:12.816013200Z",
     "start_time": "2023-07-21T07:15:12.785950Z"
    }
   }
  },
  {
   "cell_type": "code",
   "execution_count": 267,
   "outputs": [],
   "source": [
    "df_fdr_res = pd.concat(fdr_res, axis=0)"
   ],
   "metadata": {
    "collapsed": false,
    "ExecuteTime": {
     "end_time": "2023-07-21T07:15:12.845581400Z",
     "start_time": "2023-07-21T07:15:12.805995500Z"
    }
   }
  },
  {
   "cell_type": "code",
   "execution_count": 268,
   "outputs": [],
   "source": [
    "# merge with original result\n",
    "df = pd.merge(df, df_fdr_res, on=['id.exposure', 'method'])"
   ],
   "metadata": {
    "collapsed": false,
    "ExecuteTime": {
     "end_time": "2023-07-21T07:15:12.872001700Z",
     "start_time": "2023-07-21T07:15:12.816013200Z"
    }
   }
  },
  {
   "cell_type": "code",
   "execution_count": 269,
   "outputs": [],
   "source": [
    "# merge mr egger test result\n",
    "df_plei.rename(columns={'pval': 'egger_pval', 'se': 'egger_se'}, inplace=True)\n",
    "df_plei.drop(columns=['id.outcome', 'outcome', 'exposure'], inplace=True)\n",
    "df = pd.merge(df, df_plei, on=['id.exposure'], how='left')"
   ],
   "metadata": {
    "collapsed": false,
    "ExecuteTime": {
     "end_time": "2023-07-21T07:15:12.892554300Z",
     "start_time": "2023-07-21T07:15:12.826046Z"
    }
   }
  },
  {
   "cell_type": "code",
   "execution_count": 270,
   "outputs": [],
   "source": [
    "# load drug info\n",
    "df_drug_info = pd.read_excel('data/druggable_genome.xlsx', sheet_name='Data')\n",
    "df = pd.merge(df_drug_info, df, left_on='ensembl_gene_id', right_on='id.exposure')"
   ],
   "metadata": {
    "collapsed": false,
    "ExecuteTime": {
     "end_time": "2023-07-21T07:15:13.539254800Z",
     "start_time": "2023-07-21T07:15:12.845581400Z"
    }
   }
  },
  {
   "cell_type": "code",
   "execution_count": 271,
   "outputs": [],
   "source": [
    "df['id.exposure'] = df['hgnc_names']\n",
    "# find significant results\n",
    "df['significant'] = (df['fdr'] < 0.05).astype(int)"
   ],
   "metadata": {
    "collapsed": false,
    "ExecuteTime": {
     "end_time": "2023-07-21T07:15:13.549707700Z",
     "start_time": "2023-07-21T07:15:13.539254800Z"
    }
   }
  },
  {
   "cell_type": "code",
   "execution_count": 272,
   "outputs": [],
   "source": [
    "# count significant method for each druggable gene\n",
    "# df_grouped = df.groupby(['ensembl_gene_id'])['significant'].sum()\n",
    "# df_grouped = pd.DataFrame(df_grouped).reset_index()\n",
    "# df_grouped.rename(columns={'significant': 'significant_num'}, inplace=True)"
   ],
   "metadata": {
    "collapsed": false,
    "ExecuteTime": {
     "end_time": "2023-07-21T07:15:13.560194300Z",
     "start_time": "2023-07-21T07:15:13.549707700Z"
    }
   }
  },
  {
   "cell_type": "code",
   "execution_count": 273,
   "outputs": [],
   "source": [
    "# df = pd.merge(df, df_grouped, on='ensembl_gene_id')\n",
    "df['egger_pval'].fillna(1, inplace=True)\n",
    "df.to_csv(f'results_{dis_thres}kb_eqtls_{pheno}/mr_result_{eqtl_type}_preprocessed.csv', index=False)"
   ],
   "metadata": {
    "collapsed": false,
    "ExecuteTime": {
     "end_time": "2023-07-21T07:15:13.649964300Z",
     "start_time": "2023-07-21T07:15:13.560194300Z"
    }
   }
  },
  {
   "cell_type": "code",
   "execution_count": 274,
   "outputs": [],
   "source": [
    "# select significant results: <=2 snp: only 1 method, >=3 snps: 5 method, at least 3 method must be significant\n",
    "# df_significant = df[(((df['nsnp'] <= 2) & (df['significant_num'] == 1)) | ((df['nsnp'] > 2) & (df['significant_num'] > 2)))].copy()"
   ],
   "metadata": {
    "collapsed": false,
    "ExecuteTime": {
     "end_time": "2023-07-21T07:15:13.659983400Z",
     "start_time": "2023-07-21T07:15:13.649964300Z"
    }
   }
  },
  {
   "cell_type": "code",
   "execution_count": 275,
   "outputs": [],
   "source": [
    "# if MR egger can not be done, set p-value = 1\n",
    "# df_significant['egger_pval'].fillna(1, inplace=True)\n",
    "# print(df_significant['egger_pval'])"
   ],
   "metadata": {
    "collapsed": false,
    "ExecuteTime": {
     "end_time": "2023-07-21T07:15:13.670002500Z",
     "start_time": "2023-07-21T07:15:13.659983400Z"
    }
   }
  },
  {
   "cell_type": "code",
   "execution_count": 276,
   "outputs": [],
   "source": [
    "# remove results with horizontal pleiotropy\n",
    "# df_significant = df_significant[df_significant['egger_pval'] > 0.05]"
   ],
   "metadata": {
    "collapsed": false,
    "ExecuteTime": {
     "end_time": "2023-07-21T07:15:13.680059200Z",
     "start_time": "2023-07-21T07:15:13.673006700Z"
    }
   }
  },
  {
   "cell_type": "code",
   "execution_count": 277,
   "outputs": [],
   "source": [
    "# df_significant.to_csv(f'results_{dis_thres}kb_eqtls_{pheno}/mr_significant_{eqtl_type}_5methods.csv', index=False)\n"
   ],
   "metadata": {
    "collapsed": false,
    "ExecuteTime": {
     "end_time": "2023-07-21T07:15:13.694055700Z",
     "start_time": "2023-07-21T07:15:13.680059200Z"
    }
   }
  },
  {
   "cell_type": "code",
   "execution_count": 278,
   "outputs": [],
   "source": [
    "# significant results only ivw or wald ratio\n",
    "df_ivw = df[df['fdr'] < 0.05]\n",
    "df_ivw = df_ivw[((df_ivw['nsnp'] <= 2) | ((df_ivw['nsnp'] > 2) & (df_ivw['egger_pval'] > 0.05) & (df_ivw['method'] == 'Inverse variance weighted')))]\n",
    "df_ivw.to_csv(f'results_{dis_thres}kb_eqtls_{pheno}/mr_significant_{eqtl_type}.csv', index=False)"
   ],
   "metadata": {
    "collapsed": false,
    "ExecuteTime": {
     "end_time": "2023-07-21T07:15:13.700095600Z",
     "start_time": "2023-07-21T07:15:13.694055700Z"
    }
   }
  },
  {
   "cell_type": "code",
   "execution_count": 279,
   "outputs": [],
   "source": [
    "# colocalization test\n",
    "df_coloc = pd.read_csv(f'coloc_results/coloc_{eqtl_type}_{pheno}.csv')\n",
    "df_coloc = df_coloc[['ensembl_gene_id', 'snp', 'SNP.PP.H4']]"
   ],
   "metadata": {
    "collapsed": false,
    "ExecuteTime": {
     "end_time": "2023-07-21T07:15:13.710549400Z",
     "start_time": "2023-07-21T07:15:13.700095600Z"
    }
   }
  },
  {
   "cell_type": "code",
   "execution_count": 280,
   "outputs": [],
   "source": [
    "df_ivw_coloc = pd.merge(df_ivw, df_coloc, on='ensembl_gene_id', how='inner')"
   ],
   "metadata": {
    "collapsed": false,
    "ExecuteTime": {
     "end_time": "2023-07-21T07:15:13.720259700Z",
     "start_time": "2023-07-21T07:15:13.710549400Z"
    }
   }
  },
  {
   "cell_type": "code",
   "execution_count": 281,
   "outputs": [],
   "source": [
    "df_ivw_coloc.to_csv(f'results_{dis_thres}kb_eqtls_{pheno}/mr_significant_{eqtl_type}_coloc.csv', index=False)"
   ],
   "metadata": {
    "collapsed": false,
    "ExecuteTime": {
     "end_time": "2023-07-21T07:15:13.730873100Z",
     "start_time": "2023-07-21T07:15:13.720259700Z"
    }
   }
  },
  {
   "cell_type": "code",
   "execution_count": 281,
   "outputs": [],
   "source": [],
   "metadata": {
    "collapsed": false,
    "ExecuteTime": {
     "end_time": "2023-07-21T07:15:13.741610100Z",
     "start_time": "2023-07-21T07:15:13.730873100Z"
    }
   }
  }
 ],
 "metadata": {
  "kernelspec": {
   "display_name": "Python 3",
   "language": "python",
   "name": "python3"
  },
  "language_info": {
   "codemirror_mode": {
    "name": "ipython",
    "version": 2
   },
   "file_extension": ".py",
   "mimetype": "text/x-python",
   "name": "python",
   "nbconvert_exporter": "python",
   "pygments_lexer": "ipython2",
   "version": "2.7.6"
  }
 },
 "nbformat": 4,
 "nbformat_minor": 0
}
