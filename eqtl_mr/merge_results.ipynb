{
 "cells": [
  {
   "cell_type": "code",
   "execution_count": 1,
   "metadata": {
    "collapsed": true,
    "ExecuteTime": {
     "end_time": "2023-07-29T07:42:43.305697500Z",
     "start_time": "2023-07-29T07:42:42.976707700Z"
    }
   },
   "outputs": [],
   "source": [
    "import pandas as pd"
   ]
  },
  {
   "cell_type": "code",
   "execution_count": 9,
   "outputs": [],
   "source": [
    "pheno = 'bag3'\n",
    "df1 = pd.read_csv(f'results_250kb_eqtls_{pheno}/mr_result_blood_preprocessed.csv')\n",
    "df2 = pd.read_csv(f'results_250kb_eqtls_{pheno}/mr_result_brain_preprocessed.csv')"
   ],
   "metadata": {
    "collapsed": false,
    "ExecuteTime": {
     "end_time": "2023-07-29T07:46:22.789003900Z",
     "start_time": "2023-07-29T07:46:22.735249600Z"
    }
   }
  },
  {
   "cell_type": "code",
   "execution_count": 49,
   "outputs": [],
   "source": [
    "df_all_merged = pd.concat([df1, df2], axis=0)"
   ],
   "metadata": {
    "collapsed": false,
    "ExecuteTime": {
     "end_time": "2023-07-21T07:30:38.289004Z",
     "start_time": "2023-07-21T07:30:38.278972200Z"
    }
   }
  },
  {
   "cell_type": "code",
   "execution_count": 50,
   "outputs": [],
   "source": [
    "df_all_merged.to_csv(f'results_eqtl/results_all_{pheno}.csv', index=False)"
   ],
   "metadata": {
    "collapsed": false,
    "ExecuteTime": {
     "end_time": "2023-07-21T07:30:38.483915600Z",
     "start_time": "2023-07-21T07:30:38.289004Z"
    }
   }
  },
  {
   "cell_type": "code",
   "execution_count": 51,
   "outputs": [],
   "source": [
    "df1 = pd.read_csv(f'results_250kb_eqtls_{pheno}/mr_significant_blood.csv')\n",
    "df2 = pd.read_csv(f'results_250kb_eqtls_{pheno}/mr_significant_brain.csv')\n",
    "df_sig_merged = pd.concat([df1, df2], axis=0)\n",
    "df_sig_merged.to_csv(f'results_eqtl/results_significant_{pheno}.csv', index=False)"
   ],
   "metadata": {
    "collapsed": false,
    "ExecuteTime": {
     "end_time": "2023-07-21T07:30:38.494417200Z",
     "start_time": "2023-07-21T07:30:38.483915600Z"
    }
   }
  },
  {
   "cell_type": "code",
   "execution_count": 52,
   "outputs": [],
   "source": [
    "df1 = pd.read_csv(f'results_250kb_eqtls_{pheno}/mr_significant_blood_coloc.csv')\n",
    "df2 = pd.read_csv(f'results_250kb_eqtls_{pheno}/mr_significant_brain_coloc.csv')\n",
    "df_coloc_merged = pd.concat([df1, df2], axis=0)\n",
    "df_coloc_merged.to_csv(f'results_eqtl/results_coloc_{pheno}.csv', index=False)"
   ],
   "metadata": {
    "collapsed": false,
    "ExecuteTime": {
     "end_time": "2023-07-21T07:30:38.504465500Z",
     "start_time": "2023-07-21T07:30:38.494417200Z"
    }
   }
  },
  {
   "cell_type": "code",
   "execution_count": null,
   "outputs": [],
   "source": [
    "# merge coloc results"
   ],
   "metadata": {
    "collapsed": false
   }
  },
  {
   "cell_type": "code",
   "execution_count": 10,
   "outputs": [],
   "source": [
    "df_coloc_blood = pd.read_csv(f'coloc_results/coloc_blood_{pheno}.csv')\n",
    "df_coloc_brain = pd.read_csv(f'coloc_results/coloc_brain_{pheno}.csv')"
   ],
   "metadata": {
    "collapsed": false,
    "ExecuteTime": {
     "end_time": "2023-07-29T07:46:27.586803300Z",
     "start_time": "2023-07-29T07:46:27.553587900Z"
    }
   }
  },
  {
   "cell_type": "code",
   "execution_count": 11,
   "outputs": [],
   "source": [
    "df_coloc_blood['eQTL_type'] = 'Blood eQTL'\n",
    "df_coloc_brain['eQTL_type'] = 'Brain tissue eQTL'"
   ],
   "metadata": {
    "collapsed": false,
    "ExecuteTime": {
     "end_time": "2023-07-29T07:46:27.954972400Z",
     "start_time": "2023-07-29T07:46:27.941005400Z"
    }
   }
  },
  {
   "cell_type": "code",
   "execution_count": 12,
   "outputs": [],
   "source": [
    "df_coloc_all = pd.concat([df_coloc_blood, df_coloc_brain], axis=0)\n",
    "df_coloc_all.to_csv(f'results_eqtl/results_coloc_{pheno}_all.csv', index=False)"
   ],
   "metadata": {
    "collapsed": false,
    "ExecuteTime": {
     "end_time": "2023-07-29T07:46:28.404548400Z",
     "start_time": "2023-07-29T07:46:28.371115Z"
    }
   }
  },
  {
   "cell_type": "code",
   "execution_count": null,
   "outputs": [],
   "source": [],
   "metadata": {
    "collapsed": false
   }
  }
 ],
 "metadata": {
  "kernelspec": {
   "display_name": "Python 3",
   "language": "python",
   "name": "python3"
  },
  "language_info": {
   "codemirror_mode": {
    "name": "ipython",
    "version": 2
   },
   "file_extension": ".py",
   "mimetype": "text/x-python",
   "name": "python",
   "nbconvert_exporter": "python",
   "pygments_lexer": "ipython2",
   "version": "2.7.6"
  }
 },
 "nbformat": 4,
 "nbformat_minor": 0
}
